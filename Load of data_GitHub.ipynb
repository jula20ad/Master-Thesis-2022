{
 "cells": [
  {
   "cell_type": "markdown",
   "id": "adcf88c1",
   "metadata": {
    "toc": true
   },
   "source": [
    "<h1>Table of Contents<span class=\"tocSkip\"></span></h1>\n",
    "<div class=\"toc\"><ul class=\"toc-item\"><li><span><a href=\"#Load-of-packages\" data-toc-modified-id=\"Load-of-packages-1\"><span class=\"toc-item-num\">1&nbsp;&nbsp;</span>Load of packages</a></span></li><li><span><a href=\"#Functions\" data-toc-modified-id=\"Functions-2\"><span class=\"toc-item-num\">2&nbsp;&nbsp;</span>Functions</a></span></li><li><span><a href=\"#Load-data\" data-toc-modified-id=\"Load-data-3\"><span class=\"toc-item-num\">3&nbsp;&nbsp;</span>Load data</a></span></li><li><span><a href=\"#Inspect-data\" data-toc-modified-id=\"Inspect-data-4\"><span class=\"toc-item-num\">4&nbsp;&nbsp;</span>Inspect data</a></span></li><li><span><a href=\"#Calculating-excess-market-return\" data-toc-modified-id=\"Calculating-excess-market-return-5\"><span class=\"toc-item-num\">5&nbsp;&nbsp;</span>Calculating excess market return</a></span></li><li><span><a href=\"#Data-cleaning\" data-toc-modified-id=\"Data-cleaning-6\"><span class=\"toc-item-num\">6&nbsp;&nbsp;</span>Data cleaning</a></span></li><li><span><a href=\"#Calculating-the-variables-we-need\" data-toc-modified-id=\"Calculating-the-variables-we-need-7\"><span class=\"toc-item-num\">7&nbsp;&nbsp;</span>Calculating the variables we need</a></span></li><li><span><a href=\"#Country-compairson-and-calculating-critical-upper-and-lower-values-for-outlier-definition\" data-toc-modified-id=\"Country-compairson-and-calculating-critical-upper-and-lower-values-for-outlier-definition-8\"><span class=\"toc-item-num\">8&nbsp;&nbsp;</span>Country compairson and calculating critical upper and lower values for outlier definition</a></span><ul class=\"toc-item\"><li><span><a href=\"#Creating-different-dictionaries-to-work-with\" data-toc-modified-id=\"Creating-different-dictionaries-to-work-with-8.1\"><span class=\"toc-item-num\">8.1&nbsp;&nbsp;</span>Creating different dictionaries to work with</a></span><ul class=\"toc-item\"><li><span><a href=\"#First-a-dictionary-that-contain-226-banks-wth-12-calculated-variables\" data-toc-modified-id=\"First-a-dictionary-that-contain-226-banks-wth-12-calculated-variables-8.1.1\"><span class=\"toc-item-num\">8.1.1&nbsp;&nbsp;</span>First a dictionary that contain 226 banks wth 12 calculated variables</a></span></li><li><span><a href=\"#Second-a-dictionary-containing-the-15-countries-where-the-mean-values-from-the-banks-in-a-specific-country-is-in-one-dataframe\" data-toc-modified-id=\"Second-a-dictionary-containing-the-15-countries-where-the-mean-values-from-the-banks-in-a-specific-country-is-in-one-dataframe-8.1.2\"><span class=\"toc-item-num\">8.1.2&nbsp;&nbsp;</span>Second a dictionary containing the 15 countries where the mean values from the banks in a specific country is in one dataframe</a></span></li></ul></li></ul></li><li><span><a href=\"#Outliers\" data-toc-modified-id=\"Outliers-9\"><span class=\"toc-item-num\">9&nbsp;&nbsp;</span>Outliers</a></span><ul class=\"toc-item\"><li><span><a href=\"#Examples-boxplot---all-data\" data-toc-modified-id=\"Examples-boxplot---all-data-9.1\"><span class=\"toc-item-num\">9.1&nbsp;&nbsp;</span>Examples boxplot - all data</a></span></li><li><span><a href=\"#Winsorizing-outliers\" data-toc-modified-id=\"Winsorizing-outliers-9.2\"><span class=\"toc-item-num\">9.2&nbsp;&nbsp;</span>Winsorizing outliers</a></span></li></ul></li></ul></div>"
   ]
  },
  {
   "cell_type": "markdown",
   "id": "17faf4f3",
   "metadata": {},
   "source": [
    "### Load of packages"
   ]
  },
  {
   "cell_type": "code",
   "execution_count": 1,
   "id": "41244531",
   "metadata": {},
   "outputs": [],
   "source": [
    "%load_ext autoreload\n",
    "%autoreload 2\n",
    "\n",
    "\"\"\"\n",
    "Load relevant packages \n",
    "\"\"\"\n",
    "\n",
    "import numpy as np\n",
    "import matplotlib.pyplot as plt\n",
    "import os\n",
    "import seaborn as sns\n",
    "import pandas as pd\n",
    "import matplotlib.ticker as mtick\n",
    "from matplotlib import animation, cm\n",
    "from scipy import stats\n",
    "import pandas_datareader as pdr\n",
    "import datetime\n",
    "import seaborn as sns\n",
    "import matplotlib.ticker as ticker\n",
    "import datetime\n",
    "from scipy.stats import chi2\n",
    "import pickle\n",
    "from scipy import optimize\n",
    "from matplotlib.ticker import FormatStrFormatter\n",
    "from scipy.stats import kurtosis\n",
    "from scipy.stats import skew\n",
    "from scipy.stats import gmean\n",
    "\n",
    "from typing import Union, List"
   ]
  },
  {
   "cell_type": "markdown",
   "id": "301fe3bb",
   "metadata": {},
   "source": [
    "### Functions"
   ]
  },
  {
   "cell_type": "code",
   "execution_count": 2,
   "id": "343e6451",
   "metadata": {},
   "outputs": [],
   "source": [
    "\"\"\"\n",
    "Function for geometric mean\n",
    "\"\"\"\n",
    "def geomean(data):\n",
    "    \n",
    "    n = data.shape[0]\n",
    "    \n",
    "    \n",
    "    return (data+1).prod()**(1/n)-1"
   ]
  },
  {
   "cell_type": "code",
   "execution_count": 3,
   "id": "71acad82",
   "metadata": {},
   "outputs": [],
   "source": [
    "\"\"\"\n",
    "A function that removes outliers\n",
    "\"\"\"\n",
    "\n",
    "def outlier_remove(data,datatype):\n",
    "    \n",
    "    \"\"\"\n",
    "    datatype = 1 is Excess return\n",
    "    datatype = 2 is Equity ratio, Tier 1 ratio, Equity/RWA, Leverage ratio & Tier 1/RWA\n",
    "    \"\"\"\n",
    "    \n",
    "    if datatype == 1: #sets the critical values for excess returns\n",
    "        outlier_low = c1\n",
    "        outlier_high = c2\n",
    "    else:    #sets the critical values for ratios\n",
    "        outlier_low = 0\n",
    "        outlier_high = 1\n",
    "    \n",
    "    #mask outlier \n",
    "    mask_high = data >= outlier_high\n",
    "    mask_low = data <= outlier_low\n",
    "    \n",
    "    #winsorize outliers\n",
    "    if datatype == 1:\n",
    "        data[mask_high] = outlier_high\n",
    "        data[mask_low] = outlier_low\n",
    "    else:\n",
    "        data[mask_high] = np.nan\n",
    "        data[mask_low] = np.nan\n",
    "        \n",
    "    return data"
   ]
  },
  {
   "cell_type": "markdown",
   "id": "ad36e147",
   "metadata": {},
   "source": [
    "### Load data"
   ]
  },
  {
   "cell_type": "code",
   "execution_count": 4,
   "id": "4197f8ab",
   "metadata": {},
   "outputs": [
    {
     "data": {
      "text/html": [
       "<div>\n",
       "<style scoped>\n",
       "    .dataframe tbody tr th:only-of-type {\n",
       "        vertical-align: middle;\n",
       "    }\n",
       "\n",
       "    .dataframe tbody tr th {\n",
       "        vertical-align: top;\n",
       "    }\n",
       "\n",
       "    .dataframe thead th {\n",
       "        text-align: right;\n",
       "    }\n",
       "</style>\n",
       "<table border=\"1\" class=\"dataframe\">\n",
       "  <thead>\n",
       "    <tr style=\"text-align: right;\">\n",
       "      <th></th>\n",
       "      <th>euribor 1-month (Y)</th>\n",
       "    </tr>\n",
       "    <tr>\n",
       "      <th>Date</th>\n",
       "      <th></th>\n",
       "    </tr>\n",
       "  </thead>\n",
       "  <tbody>\n",
       "    <tr>\n",
       "      <th>1999-01-24</th>\n",
       "      <td>0.002632</td>\n",
       "    </tr>\n",
       "    <tr>\n",
       "      <th>1999-02-24</th>\n",
       "      <td>0.002605</td>\n",
       "    </tr>\n",
       "    <tr>\n",
       "      <th>1999-03-24</th>\n",
       "      <td>0.002546</td>\n",
       "    </tr>\n",
       "    <tr>\n",
       "      <th>1999-04-24</th>\n",
       "      <td>0.002246</td>\n",
       "    </tr>\n",
       "    <tr>\n",
       "      <th>1999-05-24</th>\n",
       "      <td>0.002138</td>\n",
       "    </tr>\n",
       "  </tbody>\n",
       "</table>\n",
       "</div>"
      ],
      "text/plain": [
       "            euribor 1-month (Y)\n",
       "Date                           \n",
       "1999-01-24             0.002632\n",
       "1999-02-24             0.002605\n",
       "1999-03-24             0.002546\n",
       "1999-04-24             0.002246\n",
       "1999-05-24             0.002138"
      ]
     },
     "execution_count": 4,
     "metadata": {},
     "output_type": "execute_result"
    }
   ],
   "source": [
    "\"\"\"\n",
    "Import risk free rate\n",
    "\"\"\"\n",
    "df_rf = pd.DataFrame(pd.read_excel(\"/Users/julielaustsen/Desktop/OneDrive/UNI/Speciale /Data/Risk free rate/euriobor-ready_to_python.xlsx\", index_col=0, header=1,sheet_name='to python') )\n",
    "df_rf = df_rf.drop(columns=['Unnamed: 2'])\n",
    "df_rf.head()"
   ]
  },
  {
   "cell_type": "code",
   "execution_count": 5,
   "id": "8c4affbb",
   "metadata": {},
   "outputs": [
    {
     "data": {
      "text/html": [
       "<div>\n",
       "<style scoped>\n",
       "    .dataframe tbody tr th:only-of-type {\n",
       "        vertical-align: middle;\n",
       "    }\n",
       "\n",
       "    .dataframe tbody tr th {\n",
       "        vertical-align: top;\n",
       "    }\n",
       "\n",
       "    .dataframe thead th {\n",
       "        text-align: right;\n",
       "    }\n",
       "</style>\n",
       "<table border=\"1\" class=\"dataframe\">\n",
       "  <thead>\n",
       "    <tr style=\"text-align: right;\">\n",
       "      <th></th>\n",
       "      <th>EUROPE IMI (price)</th>\n",
       "      <th>EUROPE IMI (return)</th>\n",
       "    </tr>\n",
       "    <tr>\n",
       "      <th>Date</th>\n",
       "      <th></th>\n",
       "      <th></th>\n",
       "    </tr>\n",
       "  </thead>\n",
       "  <tbody>\n",
       "    <tr>\n",
       "      <th>1999-01-24</th>\n",
       "      <td>702.872</td>\n",
       "      <td>0.000000</td>\n",
       "    </tr>\n",
       "    <tr>\n",
       "      <th>1999-02-24</th>\n",
       "      <td>710.217</td>\n",
       "      <td>0.010450</td>\n",
       "    </tr>\n",
       "    <tr>\n",
       "      <th>1999-03-24</th>\n",
       "      <td>727.125</td>\n",
       "      <td>0.023807</td>\n",
       "    </tr>\n",
       "    <tr>\n",
       "      <th>1999-04-24</th>\n",
       "      <td>764.111</td>\n",
       "      <td>0.050866</td>\n",
       "    </tr>\n",
       "    <tr>\n",
       "      <th>1999-05-24</th>\n",
       "      <td>742.658</td>\n",
       "      <td>-0.028076</td>\n",
       "    </tr>\n",
       "  </tbody>\n",
       "</table>\n",
       "</div>"
      ],
      "text/plain": [
       "           EUROPE IMI (price)  EUROPE IMI (return)\n",
       "Date                                              \n",
       "1999-01-24            702.872             0.000000\n",
       "1999-02-24            710.217             0.010450\n",
       "1999-03-24            727.125             0.023807\n",
       "1999-04-24            764.111             0.050866\n",
       "1999-05-24            742.658            -0.028076"
      ]
     },
     "execution_count": 5,
     "metadata": {},
     "output_type": "execute_result"
    }
   ],
   "source": [
    "\"\"\"\n",
    "Import market data\n",
    "\"\"\"\n",
    "\n",
    "df_mkt = pd.DataFrame(pd.read_excel(\"/Users/julielaustsen/Desktop/OneDrive/UNI/Speciale /Data/Market data/market data to python.xlsx\", index_col=0, header=1,sheet_name='to python') )\n",
    "df_mkt.head()"
   ]
  },
  {
   "cell_type": "code",
   "execution_count": 6,
   "id": "3306d272",
   "metadata": {},
   "outputs": [],
   "source": [
    "\"\"\"\n",
    "Import bank data \n",
    "\"\"\"\n",
    "path = \"/Users/julielaustsen/Desktop/OneDrive/UNI/Speciale /Data/Eikon\" #Set path\n",
    "os.chdir(path) \n",
    "\n",
    "#import data    \n",
    "df = pd.read_excel('Eikon_data_to_python.xlsx', index_col=0)"
   ]
  },
  {
   "cell_type": "code",
   "execution_count": 7,
   "id": "cbb701c2",
   "metadata": {},
   "outputs": [],
   "source": [
    "\"\"\"\n",
    "Create dictionary with the banks as keys\n",
    "\"\"\"\n",
    "#list with banks' name\n",
    "no_banks = np.int32(df.shape[1]/15) #Antal banker\n",
    "banks_names = [] #empty array\n",
    "for i in np.arange(no_banks):\n",
    "    banks_names.append(df.columns[i*15].split(' - MARKET',1)[0]) #Split the name from first variabel\n",
    "    \n",
    "#dictionary with all banks\n",
    "data = {}\n",
    "for index, value in enumerate(banks_names): #enumerate gives the index and thee value\n",
    "    data[value] = df.iloc[:,index*15:index*15+15]\n"
   ]
  },
  {
   "cell_type": "markdown",
   "id": "f8e287a3",
   "metadata": {},
   "source": [
    "### Inspect data"
   ]
  },
  {
   "cell_type": "code",
   "execution_count": 8,
   "id": "ed5825f2",
   "metadata": {},
   "outputs": [
    {
     "name": "stdout",
     "output_type": "stream",
     "text": [
      "234\n",
      "234\n",
      "234\n"
     ]
    }
   ],
   "source": [
    "\"\"\"\n",
    "Control numbers of banks and keys\n",
    "We want to be sure that all three numbers are the same. We want all bank names to be a key\n",
    "\"\"\"\n",
    "print(len(banks_names))\n",
    "print(len(data.keys()))\n",
    "print(no_banks)\n"
   ]
  },
  {
   "cell_type": "code",
   "execution_count": 45,
   "id": "879abda3",
   "metadata": {},
   "outputs": [],
   "source": [
    "\"\"\"\n",
    "Count of unique bank names. It list the banks that are mentioned more than 1 time\n",
    "The dictionary will always take the last observation in the dataset. \n",
    "\"\"\"\n",
    "compa = {i:banks_names.count(i) for i in banks_names}\n",
    "for i in compa:\n",
    "    if compa[i] > 1:\n",
    "        print(i)"
   ]
  },
  {
   "cell_type": "markdown",
   "id": "7e348f5b",
   "metadata": {},
   "source": [
    "### Calculating excess market return"
   ]
  },
  {
   "cell_type": "code",
   "execution_count": 15,
   "id": "112ec07b",
   "metadata": {},
   "outputs": [],
   "source": [
    "\"\"\"\n",
    "Calculating excess return\n",
    "\"\"\"\n",
    "\n",
    "excess_mkt= df_mkt['EUROPE IMI (return)'] - df_rf['euribor 1-month (Y)']\n",
    "df_mkt.insert(2, 'EUROPE IM (excess)', excess_mkt) #Adding the excess market return to the existing dataframe"
   ]
  },
  {
   "cell_type": "code",
   "execution_count": 17,
   "id": "7890b801",
   "metadata": {},
   "outputs": [
    {
     "data": {
      "text/html": [
       "<div>\n",
       "<style scoped>\n",
       "    .dataframe tbody tr th:only-of-type {\n",
       "        vertical-align: middle;\n",
       "    }\n",
       "\n",
       "    .dataframe tbody tr th {\n",
       "        vertical-align: top;\n",
       "    }\n",
       "\n",
       "    .dataframe thead th {\n",
       "        text-align: right;\n",
       "    }\n",
       "</style>\n",
       "<table border=\"1\" class=\"dataframe\">\n",
       "  <thead>\n",
       "    <tr style=\"text-align: right;\">\n",
       "      <th></th>\n",
       "      <th>EUROPE IMI (return)</th>\n",
       "      <th>EUROPE IM (excess)</th>\n",
       "    </tr>\n",
       "  </thead>\n",
       "  <tbody>\n",
       "    <tr>\n",
       "      <th>count</th>\n",
       "      <td>276.000000</td>\n",
       "      <td>276.000000</td>\n",
       "    </tr>\n",
       "    <tr>\n",
       "      <th>mean</th>\n",
       "      <td>0.003046</td>\n",
       "      <td>0.001843</td>\n",
       "    </tr>\n",
       "    <tr>\n",
       "      <th>std</th>\n",
       "      <td>0.044026</td>\n",
       "      <td>0.044308</td>\n",
       "    </tr>\n",
       "    <tr>\n",
       "      <th>min</th>\n",
       "      <td>-0.155151</td>\n",
       "      <td>-0.154753</td>\n",
       "    </tr>\n",
       "    <tr>\n",
       "      <th>25%</th>\n",
       "      <td>-0.019579</td>\n",
       "      <td>-0.021577</td>\n",
       "    </tr>\n",
       "    <tr>\n",
       "      <th>50%</th>\n",
       "      <td>0.010406</td>\n",
       "      <td>0.009455</td>\n",
       "    </tr>\n",
       "    <tr>\n",
       "      <th>75%</th>\n",
       "      <td>0.029056</td>\n",
       "      <td>0.028387</td>\n",
       "    </tr>\n",
       "    <tr>\n",
       "      <th>max</th>\n",
       "      <td>0.140296</td>\n",
       "      <td>0.140157</td>\n",
       "    </tr>\n",
       "  </tbody>\n",
       "</table>\n",
       "</div>"
      ],
      "text/plain": [
       "       EUROPE IMI (return)  EUROPE IM (excess)\n",
       "count           276.000000          276.000000\n",
       "mean              0.003046            0.001843\n",
       "std               0.044026            0.044308\n",
       "min              -0.155151           -0.154753\n",
       "25%              -0.019579           -0.021577\n",
       "50%               0.010406            0.009455\n",
       "75%               0.029056            0.028387\n",
       "max               0.140296            0.140157"
      ]
     },
     "execution_count": 17,
     "metadata": {},
     "output_type": "execute_result"
    }
   ],
   "source": [
    "df_mkt.describe()"
   ]
  },
  {
   "cell_type": "markdown",
   "id": "d1476418",
   "metadata": {},
   "source": [
    "### Data cleaning\n",
    "Only the matching of the two variables 'market value' and 'price' is performed in python. The rest of the data cleaning is done in excel before uploading the file to python"
   ]
  },
  {
   "cell_type": "code",
   "execution_count": 18,
   "id": "5d20c29c",
   "metadata": {},
   "outputs": [],
   "source": [
    "\"\"\"\n",
    "We want the same amount of observations for market capitalization and price, so when we are calculating returns\n",
    "we are able to do value weighted portfolios. We therefore create a new dictionary where a market value and price\n",
    "both got the value nan if one of the variable is missing. \n",
    "\"\"\"\n",
    "data_nan = {} #create a new empty dictionary\n",
    "for i in data.keys():\n",
    "    data_nan[i] = data[i]\n",
    "    data_nan[i].loc[data_nan[i].iloc[:,:2].isnull().any(axis=1), :] = np.nan #we replace with the value nan, if a observation is missing mkt cap or price"
   ]
  },
  {
   "cell_type": "code",
   "execution_count": 19,
   "id": "7b0a15f4",
   "metadata": {},
   "outputs": [],
   "source": [
    "\"\"\"\n",
    "Now we want to remove any banks that might have all values = nan. We create a new dictionary where these are removed\n",
    "\"\"\"\n",
    "data_nan_re = data_nan.copy() \n",
    "for i in data_nan.keys():\n",
    "    if np.int32(data_nan_re[i].isna().sum().mean()) == data_nan_re[i].shape[0]: #remove the bank/key if the mean of nan is = shape of the dataframe\n",
    "        del data_nan_re[i]"
   ]
  },
  {
   "cell_type": "code",
   "execution_count": 20,
   "id": "444a634d",
   "metadata": {},
   "outputs": [
    {
     "name": "stdout",
     "output_type": "stream",
     "text": [
      "226\n",
      "234\n"
     ]
    }
   ],
   "source": [
    "\"\"\"\n",
    "We see that we have removed 8 banks/keys\n",
    "\"\"\"\n",
    "print(len(data_nan_re.keys()))\n",
    "print(len(data_nan.keys()))"
   ]
  },
  {
   "cell_type": "markdown",
   "id": "e09de082",
   "metadata": {},
   "source": [
    "### Calculating the variables we need"
   ]
  },
  {
   "cell_type": "code",
   "execution_count": 21,
   "id": "67a74884",
   "metadata": {},
   "outputs": [],
   "source": [
    "\"\"\"\n",
    "Dimension of our cleaned data\n",
    "\"\"\"\n",
    "dim_1 = data_nan_re[list(data_nan_re.keys())[0]].shape[0]\n",
    "dim_2 = data_nan_re[list(data_nan_re.keys())[0]].shape[1]\n",
    "dim_3 = len(data_nan_re.keys())"
   ]
  },
  {
   "cell_type": "code",
   "execution_count": 22,
   "id": "70506fe5",
   "metadata": {},
   "outputs": [],
   "source": [
    "\"\"\"\n",
    "Creating a dictionary with the variables we need for calculations\n",
    "\"\"\"\n",
    "data_calc = {}\n",
    "for i in data_nan_re.keys():\n",
    "    data_calc[i] = pd.DataFrame(data_nan_re[i].iloc[:,0])\n",
    "    ret = data_nan_re[i].iloc[:,1].diff()/data_nan_re[i].iloc[1:,1]\n",
    "    data_calc[i]['Return'] = ret\n",
    "    data_calc[i]['Excess Return'] = ret - df_rf['euribor 1-month (Y)'][1:]\n",
    "    equ = data_nan_re[i].iloc[:,8]\n",
    "    data_calc[i]['Book Equity'] = equ\n",
    "    data_calc[i]['Book Leverage ratio'] = data_nan_re[i].iloc[:,9] / data_nan_re[i].iloc[:,6]\n",
    "    data_calc[i]['Book Equity ratio'] = equ / data_nan_re[i].iloc[:,6]\n",
    "    data_calc[i]['Book Equity/RWA'] = equ / data_nan_re[i].iloc[:,10]\n",
    "    data_calc[i]['Tier 1 ratio'] = data_nan_re[i].iloc[:,13] / data_nan_re[i].iloc[:,6]\n",
    "    data_calc[i]['Tier 1/RWA'] = data_nan_re[i].iloc[:,13] / data_nan_re[i].iloc[:,10]\n",
    "    data_calc[i]['Total Assets'] = data_nan_re[i].iloc[:,6]\n",
    "    data_calc[i]['Total Risk Weighted Assets'] = data_nan_re[i].iloc[:,10]"
   ]
  },
  {
   "cell_type": "code",
   "execution_count": 23,
   "id": "17743665",
   "metadata": {},
   "outputs": [
    {
     "data": {
      "text/html": [
       "<div>\n",
       "<style scoped>\n",
       "    .dataframe tbody tr th:only-of-type {\n",
       "        vertical-align: middle;\n",
       "    }\n",
       "\n",
       "    .dataframe tbody tr th {\n",
       "        vertical-align: top;\n",
       "    }\n",
       "\n",
       "    .dataframe thead th {\n",
       "        text-align: right;\n",
       "    }\n",
       "</style>\n",
       "<table border=\"1\" class=\"dataframe\">\n",
       "  <thead>\n",
       "    <tr style=\"text-align: right;\">\n",
       "      <th></th>\n",
       "      <th>ING GROEP - MARKET VALUE</th>\n",
       "      <th>Return</th>\n",
       "      <th>Excess Return</th>\n",
       "      <th>Book Equity</th>\n",
       "      <th>Book Leverage ratio</th>\n",
       "      <th>Book Equity ratio</th>\n",
       "      <th>Book Equity/RWA</th>\n",
       "      <th>Tier 1 ratio</th>\n",
       "      <th>Tier 1/RWA</th>\n",
       "      <th>Total Assets</th>\n",
       "      <th>Total Risk Weighted Assets</th>\n",
       "    </tr>\n",
       "    <tr>\n",
       "      <th>Date</th>\n",
       "      <th></th>\n",
       "      <th></th>\n",
       "      <th></th>\n",
       "      <th></th>\n",
       "      <th></th>\n",
       "      <th></th>\n",
       "      <th></th>\n",
       "      <th></th>\n",
       "      <th></th>\n",
       "      <th></th>\n",
       "      <th></th>\n",
       "    </tr>\n",
       "  </thead>\n",
       "  <tbody>\n",
       "    <tr>\n",
       "      <th>1999-01-24</th>\n",
       "      <td>46862.05</td>\n",
       "      <td>NaN</td>\n",
       "      <td>NaN</td>\n",
       "      <td>35054000.0</td>\n",
       "      <td>0.9269</td>\n",
       "      <td>0.07113</td>\n",
       "      <td>NaN</td>\n",
       "      <td>NaN</td>\n",
       "      <td>NaN</td>\n",
       "      <td>492815000.0</td>\n",
       "      <td>NaN</td>\n",
       "    </tr>\n",
       "    <tr>\n",
       "      <th>1999-02-24</th>\n",
       "      <td>48487.55</td>\n",
       "      <td>0.028403</td>\n",
       "      <td>0.025798</td>\n",
       "      <td>35054000.0</td>\n",
       "      <td>0.9269</td>\n",
       "      <td>0.07113</td>\n",
       "      <td>NaN</td>\n",
       "      <td>NaN</td>\n",
       "      <td>NaN</td>\n",
       "      <td>492815000.0</td>\n",
       "      <td>NaN</td>\n",
       "    </tr>\n",
       "    <tr>\n",
       "      <th>1999-03-24</th>\n",
       "      <td>46882.20</td>\n",
       "      <td>-0.030272</td>\n",
       "      <td>-0.032818</td>\n",
       "      <td>35054000.0</td>\n",
       "      <td>0.9269</td>\n",
       "      <td>0.07113</td>\n",
       "      <td>NaN</td>\n",
       "      <td>NaN</td>\n",
       "      <td>NaN</td>\n",
       "      <td>492815000.0</td>\n",
       "      <td>NaN</td>\n",
       "    </tr>\n",
       "    <tr>\n",
       "      <th>1999-04-24</th>\n",
       "      <td>53126.84</td>\n",
       "      <td>0.117542</td>\n",
       "      <td>0.115297</td>\n",
       "      <td>35054000.0</td>\n",
       "      <td>0.9269</td>\n",
       "      <td>0.07113</td>\n",
       "      <td>NaN</td>\n",
       "      <td>NaN</td>\n",
       "      <td>NaN</td>\n",
       "      <td>492815000.0</td>\n",
       "      <td>NaN</td>\n",
       "    </tr>\n",
       "    <tr>\n",
       "      <th>1999-05-24</th>\n",
       "      <td>51329.14</td>\n",
       "      <td>-0.035024</td>\n",
       "      <td>-0.037162</td>\n",
       "      <td>35054000.0</td>\n",
       "      <td>0.9269</td>\n",
       "      <td>0.07113</td>\n",
       "      <td>NaN</td>\n",
       "      <td>NaN</td>\n",
       "      <td>NaN</td>\n",
       "      <td>492815000.0</td>\n",
       "      <td>NaN</td>\n",
       "    </tr>\n",
       "  </tbody>\n",
       "</table>\n",
       "</div>"
      ],
      "text/plain": [
       "            ING GROEP - MARKET VALUE    Return  Excess Return  Book Equity  \\\n",
       "Date                                                                         \n",
       "1999-01-24                  46862.05       NaN            NaN   35054000.0   \n",
       "1999-02-24                  48487.55  0.028403       0.025798   35054000.0   \n",
       "1999-03-24                  46882.20 -0.030272      -0.032818   35054000.0   \n",
       "1999-04-24                  53126.84  0.117542       0.115297   35054000.0   \n",
       "1999-05-24                  51329.14 -0.035024      -0.037162   35054000.0   \n",
       "\n",
       "            Book Leverage ratio  Book Equity ratio  Book Equity/RWA  \\\n",
       "Date                                                                  \n",
       "1999-01-24               0.9269            0.07113              NaN   \n",
       "1999-02-24               0.9269            0.07113              NaN   \n",
       "1999-03-24               0.9269            0.07113              NaN   \n",
       "1999-04-24               0.9269            0.07113              NaN   \n",
       "1999-05-24               0.9269            0.07113              NaN   \n",
       "\n",
       "            Tier 1 ratio  Tier 1/RWA  Total Assets  Total Risk Weighted Assets  \n",
       "Date                                                                            \n",
       "1999-01-24           NaN         NaN   492815000.0                         NaN  \n",
       "1999-02-24           NaN         NaN   492815000.0                         NaN  \n",
       "1999-03-24           NaN         NaN   492815000.0                         NaN  \n",
       "1999-04-24           NaN         NaN   492815000.0                         NaN  \n",
       "1999-05-24           NaN         NaN   492815000.0                         NaN  "
      ]
     },
     "execution_count": 23,
     "metadata": {},
     "output_type": "execute_result"
    }
   ],
   "source": [
    "#Inspect data\n",
    "data_calc[list(data_calc.keys())[4]].head()"
   ]
  },
  {
   "cell_type": "markdown",
   "id": "29e944fb",
   "metadata": {},
   "source": [
    "### Country compairson and calculating critical upper and lower values for outlier definition"
   ]
  },
  {
   "cell_type": "code",
   "execution_count": 24,
   "id": "af45a14b",
   "metadata": {},
   "outputs": [
    {
     "data": {
      "text/html": [
       "<div>\n",
       "<style scoped>\n",
       "    .dataframe tbody tr th:only-of-type {\n",
       "        vertical-align: middle;\n",
       "    }\n",
       "\n",
       "    .dataframe tbody tr th {\n",
       "        vertical-align: top;\n",
       "    }\n",
       "\n",
       "    .dataframe thead th {\n",
       "        text-align: right;\n",
       "    }\n",
       "</style>\n",
       "<table border=\"1\" class=\"dataframe\">\n",
       "  <thead>\n",
       "    <tr style=\"text-align: right;\">\n",
       "      <th></th>\n",
       "      <th>Bank</th>\n",
       "      <th>Country</th>\n",
       "    </tr>\n",
       "  </thead>\n",
       "  <tbody>\n",
       "    <tr>\n",
       "      <th>0</th>\n",
       "      <td>HSBC HOLDINGS</td>\n",
       "      <td>UK</td>\n",
       "    </tr>\n",
       "    <tr>\n",
       "      <th>1</th>\n",
       "      <td>BNP PARIBAS</td>\n",
       "      <td>France</td>\n",
       "    </tr>\n",
       "    <tr>\n",
       "      <th>2</th>\n",
       "      <td>BANCO SANTANDER</td>\n",
       "      <td>Spain</td>\n",
       "    </tr>\n",
       "    <tr>\n",
       "      <th>3</th>\n",
       "      <td>INTESA SANPAOLO</td>\n",
       "      <td>Italy</td>\n",
       "    </tr>\n",
       "    <tr>\n",
       "      <th>4</th>\n",
       "      <td>ING GROEP</td>\n",
       "      <td>Netherlands</td>\n",
       "    </tr>\n",
       "  </tbody>\n",
       "</table>\n",
       "</div>"
      ],
      "text/plain": [
       "              Bank      Country\n",
       "0    HSBC HOLDINGS           UK\n",
       "1      BNP PARIBAS       France\n",
       "2  BANCO SANTANDER        Spain\n",
       "3  INTESA SANPAOLO        Italy\n",
       "4        ING GROEP  Netherlands"
      ]
     },
     "execution_count": 24,
     "metadata": {},
     "output_type": "execute_result"
    }
   ],
   "source": [
    "\"\"\"\n",
    "Load of Country data\n",
    "\"\"\"\n",
    "df_con = pd.DataFrame(pd.read_excel(\"/Users/julielaustsen/Desktop/OneDrive/UNI/Speciale /Data/Eikon/Country dist.xlsx\", index_col=None, header=0) )"
   ]
  },
  {
   "cell_type": "code",
   "execution_count": 25,
   "id": "ed87cded",
   "metadata": {},
   "outputs": [
    {
     "data": {
      "text/plain": [
       "Italy          37\n",
       "Denmark        34\n",
       "UK             25\n",
       "Norway         23\n",
       "Germany        21\n",
       "Switzerland    17\n",
       "Spain          16\n",
       "France         15\n",
       "Sweden         11\n",
       "Portugal        9\n",
       "Austria         7\n",
       "Belgium         6\n",
       "Netherlands     5\n",
       "Finland         4\n",
       "Ireland         4\n",
       "Name: Country, dtype: int64"
      ]
     },
     "execution_count": 25,
     "metadata": {},
     "output_type": "execute_result"
    }
   ],
   "source": [
    "\"\"\"\n",
    "Overview of the countries and how many banks there are represented\n",
    "\"\"\"\n",
    "df_con[\"Country\"].value_counts()"
   ]
  },
  {
   "cell_type": "code",
   "execution_count": 26,
   "id": "defa1ec8",
   "metadata": {},
   "outputs": [
    {
     "data": {
      "text/plain": [
       "['BRADFORD & BINGLEY (XET)',\n",
       " 'DEN NORSKE BANK DEAD SEE 307532',\n",
       " \"S E BANKEN 'A' (LON) DEAD - DELIST 29/04/98\",\n",
       " 'KBC BANKVERZEKERINGS(XSQ DEAD - DEAD 22/06/99',\n",
       " 'SVENSKA HANDBK AF (LON) DEAD - DELIST 29/04/98',\n",
       " 'TSB GROUP P/P',\n",
       " 'BCA.PPO.DI SONDRIO (XET) DEAD - 30/05/11',\n",
       " 'FORENINGSSPARBANKEN(LON) DEAD - DELIST 20/05/98']"
      ]
     },
     "execution_count": 26,
     "metadata": {},
     "output_type": "execute_result"
    }
   ],
   "source": [
    "\"\"\"\n",
    "We have removed some banks earlier beecause all their values was Nan. We have to remove them from our country overview \n",
    "\"\"\"\n",
    "main_list2 = list(set(df_con[\"Bank\"].unique()) - set(data_calc.keys()))\n",
    "main_list2"
   ]
  },
  {
   "cell_type": "code",
   "execution_count": 27,
   "id": "c85ab671",
   "metadata": {},
   "outputs": [],
   "source": [
    "\"\"\"\n",
    "We drop the 8 banks again\n",
    "\"\"\"\n",
    "df_con_red = df_con.copy()\n",
    "df_con_red = df_con_red.drop(200)\n",
    "df_con_red = df_con_red.drop(205)\n",
    "df_con_red = df_con_red.drop(212)\n",
    "df_con_red = df_con_red.drop(209)\n",
    "df_con_red = df_con_red.drop(220)\n",
    "df_con_red = df_con_red.drop(218)\n",
    "df_con_red = df_con_red.drop(216)\n",
    "df_con_red = df_con_red.drop(228)"
   ]
  },
  {
   "cell_type": "code",
   "execution_count": 28,
   "id": "06d498d3",
   "metadata": {},
   "outputs": [
    {
     "name": "stdout",
     "output_type": "stream",
     "text": [
      "[]\n"
     ]
    },
    {
     "data": {
      "text/plain": [
       "Italy          36\n",
       "Denmark        34\n",
       "UK             23\n",
       "Norway         22\n",
       "Germany        21\n",
       "Switzerland    17\n",
       "Spain          16\n",
       "France         15\n",
       "Portugal        9\n",
       "Sweden          8\n",
       "Austria         7\n",
       "Belgium         6\n",
       "Netherlands     4\n",
       "Finland         4\n",
       "Ireland         4\n",
       "Name: Country, dtype: int64"
      ]
     },
     "execution_count": 28,
     "metadata": {},
     "output_type": "execute_result"
    }
   ],
   "source": [
    "\"\"\"\n",
    "Then we check again to make sure there are no differences \n",
    "\"\"\"\n",
    "main_list3 = list(set(df_con_red[\"Bank\"].unique()) - set(data_calc.keys()))\n",
    "print(main_list3)\n",
    "\n",
    "df_con_red[\"Country\"].value_counts()"
   ]
  },
  {
   "cell_type": "markdown",
   "id": "1c10ed6f",
   "metadata": {},
   "source": [
    "#### Creating different dictionaries to work with"
   ]
  },
  {
   "cell_type": "markdown",
   "id": "bd91fe06",
   "metadata": {},
   "source": [
    "##### First a dictionary that contain 226 banks wth 12 calculated variables"
   ]
  },
  {
   "cell_type": "code",
   "execution_count": 29,
   "id": "ca3bbf36",
   "metadata": {},
   "outputs": [],
   "source": [
    "\"\"\"\n",
    "Now we create a new dictionary with the 11 calculated variables as before. However we add one more variable 'Country'\n",
    "\"\"\"\n",
    "\n",
    "df_con_red.reset_index(inplace = True) #We need to reset the index of the dataframe after we removed the 8 banks\n",
    "\n",
    "data_calc_con = data_calc.copy() #Copy of the calculated dictionary\n",
    "cnt = -1 #to know which value in dataframe to assign to the dictionary's new variable\n",
    "for i in data_calc.keys():\n",
    "    cnt+=1\n",
    "    data_calc_con[i]['Country'] = df_con_red[\"Country\"][cnt]\n",
    "    "
   ]
  },
  {
   "cell_type": "markdown",
   "id": "0f528e74",
   "metadata": {},
   "source": [
    "##### Second a dictionary containing the 15 countries where the mean values from the banks in a specific country is in one dataframe"
   ]
  },
  {
   "cell_type": "code",
   "execution_count": 31,
   "id": "1dffc4fa",
   "metadata": {},
   "outputs": [],
   "source": [
    "\"\"\"\n",
    "We create a dictionary where countries are the keys and the values are the banks names\n",
    "\"\"\"\n",
    "dict_sort = {}\n",
    "for i in df_con_red[\"Country\"].unique():\n",
    "    dict_sort[i] = []\n",
    "    for j in data_calc_con.keys():\n",
    "        if data_calc_con[j].Country.unique() == i:\n",
    "            dict_sort[i].append(j)"
   ]
  },
  {
   "cell_type": "code",
   "execution_count": 32,
   "id": "b07e4dee",
   "metadata": {},
   "outputs": [],
   "source": [
    "\"\"\"\n",
    "A dictionary with all the banks\n",
    "\"\"\"\n",
    "dict_sort['all'] = list(data_calc_con.keys())"
   ]
  },
  {
   "cell_type": "code",
   "execution_count": 33,
   "id": "416804e2",
   "metadata": {},
   "outputs": [],
   "source": [
    "\"\"\"\n",
    "We set the first column (variable) in data_calc_con to be 'Market Value' so it is possible to aggregrate across banks \n",
    "\"\"\"\n",
    "for i in data_calc_con.keys():\n",
    "    data_calc_con[i].columns.values[0]='Market value'"
   ]
  },
  {
   "cell_type": "code",
   "execution_count": 34,
   "id": "009a82f0",
   "metadata": {},
   "outputs": [],
   "source": [
    "\"\"\"\n",
    "We create a dictionary for each country containing the 11 calculated variables\n",
    "\"\"\"\n",
    "dict_countries_calc = {}\n",
    "\n",
    "for j in dict_sort.keys():\n",
    "    dict_countries_calc[j] = pd.concat([data_calc_con[i] for i in dict_sort[j]]).groupby(level=0).mean()"
   ]
  },
  {
   "cell_type": "code",
   "execution_count": 35,
   "id": "7ee235ba",
   "metadata": {},
   "outputs": [],
   "source": [
    "\"\"\"\n",
    "We create a dictionary for each country containing the 11 calculated variables where each bank is value within the country\n",
    "\"\"\"\n",
    "dict_countries_calc2 = {}\n",
    "\n",
    "for j in dict_sort.keys():\n",
    "    agg = pd.concat([data_calc_con[i] for i in dict_sort[j]]).groupby(level=0).agg({lambda x: x.sum (skipna=True)})\n",
    "    \n",
    "    for i in dict_sort[j]:\n",
    "        data_calc_con[i]['weight'] = data_calc_con[i].iloc[:,0]/agg.iloc[:,0]\n",
    "        data_calc_con[i]['VW_exret'] = data_calc_con[i]['Excess Return']*data_calc_con[i]['weight']\n",
    "        \n",
    "    dict_countries_calc2[j] = pd.concat([data_calc_con[i] for i in dict_sort[j]]).groupby(level=0).agg({lambda x: x.sum (skipna=True)})\n",
    "    dict_countries_calc2[j].columns=['Market value','Return', 'Excess Return', 'Book Equity', 'Book Leverage ratio', 'Book Equity ratio','Book Equity/RWA','Tier 1 ratio','Tier 1/RWA','Total Assets','Total Risk Weighted Assets','Country','weight','VW_exret']\n",
    "    "
   ]
  },
  {
   "cell_type": "markdown",
   "id": "bffc9a62",
   "metadata": {},
   "source": [
    "### Outliers"
   ]
  },
  {
   "cell_type": "code",
   "execution_count": 40,
   "id": "63027d25",
   "metadata": {},
   "outputs": [
    {
     "data": {
      "text/html": [
       "<div>\n",
       "<style scoped>\n",
       "    .dataframe tbody tr th:only-of-type {\n",
       "        vertical-align: middle;\n",
       "    }\n",
       "\n",
       "    .dataframe tbody tr th {\n",
       "        vertical-align: top;\n",
       "    }\n",
       "\n",
       "    .dataframe thead th {\n",
       "        text-align: right;\n",
       "    }\n",
       "</style>\n",
       "<table border=\"1\" class=\"dataframe\">\n",
       "  <thead>\n",
       "    <tr style=\"text-align: right;\">\n",
       "      <th></th>\n",
       "      <th>No. observations</th>\n",
       "    </tr>\n",
       "  </thead>\n",
       "  <tbody>\n",
       "    <tr>\n",
       "      <th>Excess return &lt; -0.9072</th>\n",
       "      <td>70</td>\n",
       "    </tr>\n",
       "    <tr>\n",
       "      <th>Excess return &gt; 0.5481</th>\n",
       "      <td>5</td>\n",
       "    </tr>\n",
       "    <tr>\n",
       "      <th>Equity ratio &lt; 0</th>\n",
       "      <td>129</td>\n",
       "    </tr>\n",
       "    <tr>\n",
       "      <th>Tier 1 ratio &lt; 0</th>\n",
       "      <td>12</td>\n",
       "    </tr>\n",
       "    <tr>\n",
       "      <th>Tier 1/RWA &lt; 0</th>\n",
       "      <td>12</td>\n",
       "    </tr>\n",
       "  </tbody>\n",
       "</table>\n",
       "</div>"
      ],
      "text/plain": [
       "                        No. observations\n",
       "Excess return < -0.9072               70\n",
       "Excess return > 0.5481                 5\n",
       "Equity ratio < 0                     129\n",
       "Tier 1 ratio < 0                      12\n",
       "Tier 1/RWA < 0                        12"
      ]
     },
     "execution_count": 40,
     "metadata": {},
     "output_type": "execute_result"
    }
   ],
   "source": [
    "\"\"\"\n",
    "Outliers we want out. \n",
    "Ratios:\n",
    "- Leverage ratio here we want to remove the observations above 1 (extreme leverage case - near bankruptcy)\n",
    "- Equity ratio here we want to remove the observations below 0 (extreme leverage case - near bankruptcy)\n",
    "- Tier 1 ratio here we want to remove the observations below 0 (extreme leverage case - near bankruptcy)\n",
    "- Equity/Risk weighted assets here we want to remove the observations below 0 (extreme leverage case - near bankruptcy)\n",
    "- Tier 1/Risk weighted assets here we want to remove the observations below 0 (extreme leverage case - near bankruptcy)\n",
    "\n",
    "For excess return we use the metholody \n",
    "* Lower boundary: 1%qth - 1.5*IQR\n",
    "* Upper boundary: 99%qth + 1.5*IQR \n",
    "* IQR = Q3(75%)-Q1(25%)\n",
    "\n",
    "Done on country level (value-weighted) and the values are weighted according to the numbers of banks in each country\n",
    "\"\"\"\n",
    "\n",
    "outlier_count = pd.DataFrame(columns=['No. observations'])\n",
    "\n",
    "c1 = np.sum(out_calc['Lower bound']*out_calc['Weight'])\n",
    "c2 = np.sum(out_calc['Upper bound']*out_calc['Weight'])\n",
    "c3 = 0.0\n",
    "c4 = 1.0\n",
    "\n",
    "count1 = 0\n",
    "count2 = 0\n",
    "count3 = 0\n",
    "count4 = 0\n",
    "count5 = 0\n",
    "count6 = 0\n",
    "count7 = 0\n",
    "\n",
    "\n",
    "for i in data_calc.keys():\n",
    "    count1 += (data_calc[i]['Excess Return'].values < c1).sum()\n",
    "    count2 += (data_calc[i]['Excess Return'].values > c2).sum()\n",
    "    count3 += (data_calc[i]['Book Leverage ratio'].values > c4).sum()\n",
    "    count4 += (data_calc[i]['Book Equity ratio'].values < c3).sum()\n",
    "    count5 += (data_calc[i]['Tier 1 ratio'].values < c3).sum()\n",
    "    count6 += (data_calc[i]['Book Equity/RWA'].values < c3).sum()#to sort the negative equity values out\n",
    "    count7 += (data_calc[i]['Tier 1/RWA'].values < c3).sum()#to sort the negative equity values out\n",
    "    \n",
    "outlier_count.loc['Excess return < '+round(c1,4).astype('str'),'No. observations']=count1\n",
    "outlier_count.loc['Excess return > ' +round(c2,4).astype('str'),'No. observations']=count2\n",
    "#outlier_count.loc['Leverage ratio > 1','No. observations']=count3\n",
    "outlier_count.loc['Equity ratio < 0','No. observations']=count4\n",
    "outlier_count.loc['Tier 1 ratio < 0','No. observations']=count5\n",
    "#outlier_count.loc['Book Equity/RWA < 0','No. observations']=count6\n",
    "outlier_count.loc['Tier 1/RWA < 0','No. observations']=count7\n",
    "\n",
    "outlier_count"
   ]
  },
  {
   "cell_type": "markdown",
   "id": "8de9f768",
   "metadata": {},
   "source": [
    "#### Examples boxplot - all data"
   ]
  },
  {
   "cell_type": "code",
   "execution_count": 41,
   "id": "5f450c1d",
   "metadata": {},
   "outputs": [
    {
     "data": {
      "image/png": "[encoded data removed]",
      "text/plain": [
       "<Figure size 1152x432 with 3 Axes>"
      ]
     },
     "metadata": {
      "needs_background": "light"
     },
     "output_type": "display_data"
    }
   ],
   "source": [
    "\"\"\"\n",
    "Here we use the data all_countries. This is equal weight of all observation so it is quite baised\n",
    "\"\"\"\n",
    "ovall = pd.concat([data_calc[i] for i in dict_sort['all']]).groupby(level=0).mean()\n",
    "\n",
    "fig, axes = plt.subplots(1, 3, figsize=(16, 6))\n",
    "fig.suptitle('Booxplots')\n",
    "sns.set_theme(style=\"whitegrid\")\n",
    "sns.boxplot(ax=axes[0], data=ovall['Excess Return']).set_title('Excess Return')\n",
    "sns.boxplot(ax=axes[1], data=ovall['Tier 1 ratio']).set_title('Tier 1 ratio')\n",
    "sns.boxplot(ax=axes[2], data=ovall['Book Equity ratio']).set_title('Book Equity ratio')\n",
    "plt.show()"
   ]
  },
  {
   "cell_type": "markdown",
   "id": "04daa699",
   "metadata": {},
   "source": [
    "#### Winsorizing outliers"
   ]
  },
  {
   "cell_type": "code",
   "execution_count": 42,
   "id": "48f6fc7e",
   "metadata": {},
   "outputs": [],
   "source": [
    "\"\"\"\n",
    "Creating a dictionary with the variables we need for calculations \n",
    "\"\"\"\n",
    "data_calc = {}\n",
    "for i in data_nan_re.keys():\n",
    "    data_calc[i] = pd.DataFrame(data_nan_re[i].iloc[:,0])\n",
    "    ret = data_nan_re[i].iloc[:,1].diff()/data_nan_re[i].iloc[1:,1]\n",
    "    data_calc[i]['Return'] = ret\n",
    "    data_calc[i]['Excess Return'] = ret - df_rf['euribor 1-month (Y)'][1:]\n",
    "    equ = data_nan_re[i].iloc[:,7] - data_nan_re[i].iloc[:,9]\n",
    "    data_calc[i]['Book Equity'] = equ\n",
    "    data_calc[i]['Book Leverage ratio'] = data_nan_re[i].iloc[:,9] / data_nan_re[i].iloc[:,6]\n",
    "    data_calc[i]['Book Equity ratio'] = equ / data_nan_re[i].iloc[:,6]\n",
    "    data_calc[i]['Book Equity/RWA'] = equ / data_nan_re[i].iloc[:,10]\n",
    "    data_calc[i]['Tier 1 ratio'] = data_nan_re[i].iloc[:,13] / data_nan_re[i].iloc[:,6]\n",
    "    data_calc[i]['Tier 1/RWA'] = data_nan_re[i].iloc[:,13] / data_nan_re[i].iloc[:,10]\n",
    "    data_calc[i]['Total Assets'] = data_nan_re[i].iloc[:,6]\n",
    "    data_calc[i]['Total Risk Weighted Assets'] = data_nan_re[i].iloc[:,10]"
   ]
  },
  {
   "cell_type": "code",
   "execution_count": 43,
   "id": "576c6791",
   "metadata": {},
   "outputs": [],
   "source": [
    "\"\"\"\n",
    "Applying the outlier function so we get a new dictionary with the winsorized values\n",
    "\"\"\"\n",
    "\n",
    "data_calc_win = data_calc.copy()\n",
    "\n",
    "for i in data_calc_win.keys():\n",
    "    data_calc_win[i]['Excess Return'] = outlier_remove(data=data_calc_win[i]['Excess Return'], datatype=1)\n",
    "    data_calc_win[i]['Book Leverage ratio'] = outlier_remove(data=data_calc_win[i]['Book Leverage ratio'], datatype=2)\n",
    "    data_calc_win[i]['Book Equity ratio'] = outlier_remove(data=data_calc_win[i]['Book Equity ratio'], datatype=2)\n",
    "    data_calc_win[i]['Tier 1 ratio'] = outlier_remove(data=data_calc_win[i]['Tier 1 ratio'], datatype=2)\n",
    "    data_calc_win[i]['Book Equity/RWA'] = outlier_remove(data=data_calc_win[i]['Book Equity/RWA'], datatype=2)\n",
    "    data_calc_win[i]['Tier 1/RWA'] = outlier_remove(data=data_calc_win[i]['Tier 1/RWA'], datatype=2)"
   ]
  },
  {
   "cell_type": "code",
   "execution_count": 44,
   "id": "670e3e66",
   "metadata": {},
   "outputs": [
    {
     "data": {
      "text/plain": [
       "['Country dist.xlsx',\n",
       " 'BER_val',\n",
       " 'regress_calc',\n",
       " '.DS_Store',\n",
       " 'df_mkt',\n",
       " 'tier1.xlsx',\n",
       " 'test2.xlsx',\n",
       " 'Gammelt',\n",
       " 'T1R_val',\n",
       " 'do not use',\n",
       " 'data_dict_win',\n",
       " 'Eikon_data_to_python.xlsx',\n",
       " 'data_nan_re',\n",
       " 'test.xlsx',\n",
       " 'data_matrix',\n",
       " 'data_calc_win',\n",
       " 'results.xlsx',\n",
       " 'Excel data',\n",
       " 'dict_sort',\n",
       " 'test1.xlsx',\n",
       " 'df_rf',\n",
       " 'T1RWA_val',\n",
       " 'data',\n",
       " 'data_calc',\n",
       " 'regress_calc_for']"
      ]
     },
     "execution_count": 44,
     "metadata": {},
     "output_type": "execute_result"
    }
   ],
   "source": [
    "\"\"\"\n",
    "We save the dictionary in memory so we can call it in another notebook\n",
    "\"\"\"\n",
    "\n",
    "with open('data_calc_win', 'wb') as data_dict_win: #save bank data winsorized\n",
    "   pickle.dump(data_calc_win, data_dict_win)\n",
    "\n",
    "with open('df_mkt', 'wb') as data_market_df: #save market data\n",
    "   pickle.dump(df_mkt, data_market_df)\n",
    "\n",
    "with open('df_rf', 'wb') as data_riskfree_df: #save risk free data\n",
    "   pickle.dump(df_rf, data_riskfree_df)\n",
    "\n",
    "with open('data_calc', 'wb') as data_dict_calc: #save bank data\n",
    "   pickle.dump(data_calc, data_dict_calc)\n",
    "\n",
    "with open('dict_sort', 'wb') as data_sort_list: #save bank data\n",
    "   pickle.dump(dict_sort, data_sort_list)\n",
    "\n",
    "with open('data_nan_re', 'wb') as data_nan: #save bank data\n",
    "   pickle.dump(data_nan_re, data_nan)\n",
    "\n",
    "os.listdir() #to check wants in the memory"
   ]
  }
 ],
 "metadata": {
  "hide_input": false,
  "kernelspec": {
   "display_name": "Python 3",
   "language": "python",
   "name": "python3"
  },
  "language_info": {
   "codemirror_mode": {
    "name": "ipython",
    "version": 3
   },
   "file_extension": ".py",
   "mimetype": "text/x-python",
   "name": "python",
   "nbconvert_exporter": "python",
   "pygments_lexer": "ipython3",
   "version": "3.8.2"
  },
  "latex_envs": {
   "LaTeX_envs_menu_present": true,
   "autoclose": false,
   "autocomplete": true,
   "bibliofile": "biblio.bib",
   "cite_by": "apalike",
   "current_citInitial": 1,
   "eqLabelWithNumbers": true,
   "eqNumInitial": 1,
   "hotkeys": {
    "equation": "Ctrl-E",
    "itemize": "Ctrl-I"
   },
   "labels_anchors": false,
   "latex_user_defs": false,
   "report_style_numbering": false,
   "user_envs_cfg": false
  },
  "toc": {
   "base_numbering": 1,
   "nav_menu": {},
   "number_sections": true,
   "sideBar": true,
   "skip_h1_title": false,
   "title_cell": "Table of Contents",
   "title_sidebar": "Contents",
   "toc_cell": true,
   "toc_position": {
    "height": "calc(100% - 180px)",
    "left": "10px",
    "top": "150px",
    "width": "256.3419189453125px"
   },
   "toc_section_display": true,
   "toc_window_display": true
  }
 },
 "nbformat": 4,
 "nbformat_minor": 5
}
