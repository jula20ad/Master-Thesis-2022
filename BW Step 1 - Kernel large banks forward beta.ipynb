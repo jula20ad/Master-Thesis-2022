{
 "cells": [
  {
   "cell_type": "markdown",
   "id": "b7f12db3",
   "metadata": {
    "toc": true
   },
   "source": [
    "<h1>Table of Contents<span class=\"tocSkip\"></span></h1>\n",
    "<div class=\"toc\"><ul class=\"toc-item\"><li><span><a href=\"#Preparing-data-to-calculations\" data-toc-modified-id=\"Preparing-data-to-calculations-1\"><span class=\"toc-item-num\">1&nbsp;&nbsp;</span>Preparing data to calculations</a></span><ul class=\"toc-item\"><li><span><a href=\"#Numbers-of-banks-with-a-market-value-above-5-billions\" data-toc-modified-id=\"Numbers-of-banks-with-a-market-value-above-5-billions-1.1\"><span class=\"toc-item-num\">1.1&nbsp;&nbsp;</span>Numbers of banks with a market value above 5 billions</a></span></li><li><span><a href=\"#Invers-Tier-1-ratio\" data-toc-modified-id=\"Invers-Tier-1-ratio-1.2\"><span class=\"toc-item-num\">1.2&nbsp;&nbsp;</span>Invers Tier 1 ratio</a></span></li></ul></li><li><span><a href=\"#Regression---Forward-beta\" data-toc-modified-id=\"Regression---Forward-beta-2\"><span class=\"toc-item-num\">2&nbsp;&nbsp;</span>Regression - Forward beta</a></span><ul class=\"toc-item\"><li><span><a href=\"#Extra-regression-check\" data-toc-modified-id=\"Extra-regression-check-2.1\"><span class=\"toc-item-num\">2.1&nbsp;&nbsp;</span>Extra regression check</a></span></li></ul></li><li><span><a href=\"#Kernel-regression\" data-toc-modified-id=\"Kernel-regression-3\"><span class=\"toc-item-num\">3&nbsp;&nbsp;</span>Kernel regression</a></span></li></ul></div>"
   ]
  },
  {
   "cell_type": "code",
   "execution_count": 1,
   "id": "78c6ff21",
   "metadata": {},
   "outputs": [],
   "source": [
    "%load_ext autoreload\n",
    "%autoreload 2\n",
    "\n",
    "\"\"\"\n",
    "Load relevant packages \n",
    "\"\"\"\n",
    "import os\n",
    "import numpy as np\n",
    "import matplotlib.pyplot as plt\n",
    "import seaborn as sns\n",
    "import pandas as pd\n",
    "from scipy import stats\n",
    "import pandas_datareader as pdr\n",
    "import datetime\n",
    "from sklearn.linear_model import LinearRegression\n",
    "import seaborn as sns\n",
    "import pickle\n",
    "from scipy.stats import kurtosis\n",
    "from scipy.stats import skew\n",
    "from typing import Union, List\n",
    "import math as m\n",
    "from sklearn import datasets, linear_model\n",
    "import statsmodels.api as sm"
   ]
  },
  {
   "cell_type": "code",
   "execution_count": 2,
   "id": "f5d39523",
   "metadata": {},
   "outputs": [],
   "source": [
    "\"\"\"\n",
    "Set path to get save data\n",
    "\"\"\"\n",
    "path = \"/Users/julielaustsen/Desktop/OneDrive/UNI/Speciale /Data/Eikon\"\n",
    "os.chdir(path) "
   ]
  },
  {
   "cell_type": "code",
   "execution_count": 3,
   "id": "2cac38c5",
   "metadata": {},
   "outputs": [],
   "source": [
    "\"\"\"\n",
    "Load saved dataframes and dictionareis\n",
    "\"\"\"\n",
    "with open('data_calc_win', 'rb') as data_dict_win:\n",
    "    data_calc_win = pickle.load(data_dict_win) \n",
    "\n",
    "with open('regress_calc', 'rb') as regress: #load backward beta\n",
    "    regress_calc = pickle.load(regress)\n",
    "    \n",
    "with open('regress_calc_for', 'rb') as regress_for: #load forward beta\n",
    "    regress_calc_for = pickle.load(regress_for)"
   ]
  },
  {
   "cell_type": "markdown",
   "id": "0a7f4430",
   "metadata": {},
   "source": [
    "## Preparing data to calculations"
   ]
  },
  {
   "cell_type": "code",
   "execution_count": 4,
   "id": "f9e23aee",
   "metadata": {},
   "outputs": [],
   "source": [
    "\"\"\"\n",
    "To get the same columns names in each dataframe\n",
    "\"\"\"\n",
    "columns_list = ['Market Value', 'Return', 'Excess Return', 'Book Equity', 'Book Leverage ratio', 'Book Equity ratio', 'Book Equity/RWA', 'Tier 1 ratio','Tier 1/RWA','Total Assets','Total Risk Weighted Assets']\n",
    "\n",
    "for i in data_calc_win.keys():\n",
    "    data_calc_win[i].columns = columns_list\n"
   ]
  },
  {
   "cell_type": "code",
   "execution_count": 5,
   "id": "6c7cdf42",
   "metadata": {},
   "outputs": [],
   "source": [
    "\"\"\"\n",
    "Collecting all the variables we need into one dictionary\n",
    "\"\"\"\n",
    "\n",
    "main_dict = {}\n",
    "main_dict = data_calc_win.copy()\n",
    "\n",
    "for i in data_calc_win.keys():\n",
    "    main_dict[i].drop(columns=['Return', 'Excess Return', 'Book Equity', 'Book Leverage ratio'])\n",
    "    main_dict[i]['Backward beta'] = np.array(regress_calc[i]['Beta'])\n",
    "    main_dict[i]['Forward beta'] = np.array(regress_calc_for[i]['Beta'])\n",
    "    main_dict[i]['Invers tier 1 ratio'] = 1 / main_dict[i]['Tier 1 ratio']\n",
    "    main_dict[i]['Invers tier 1 ratio/RWA'] = 1 / main_dict[i]['Tier 1/RWA']"
   ]
  },
  {
   "cell_type": "code",
   "execution_count": 6,
   "id": "09527a7b",
   "metadata": {},
   "outputs": [],
   "source": [
    "\"\"\"\n",
    "To remove inf values in the inverse variables\n",
    "\"\"\"\n",
    "\n",
    "#for invers Tier 1 ratio\n",
    "for i in main_dict.keys():\n",
    "    for j in range(len(main_dict[i].index)):\n",
    "        if m.isinf(main_dict[i].iloc[j,-2])==True:\n",
    "            main_dict[i].iloc[j,-2] = np.nan\n",
    "        else:\n",
    "            pass\n",
    "        \n",
    "#for invers tier 1/RWA ratio\n",
    "for i in main_dict.keys():\n",
    "    for j in range(len(main_dict[i].index)):\n",
    "        if m.isinf(main_dict[i].iloc[j,-1])==True:\n",
    "            main_dict[i].iloc[j,-1] = np.nan\n",
    "        else:\n",
    "            pass"
   ]
  },
  {
   "cell_type": "code",
   "execution_count": 7,
   "id": "036d5eea",
   "metadata": {},
   "outputs": [],
   "source": [
    "\"\"\"\n",
    "We create a dictionary with all the data minus the last 12 rows because we are regressing with forward beta\n",
    "\"\"\"\n",
    "main_dict_for = {}\n",
    "main_dict_for = main_dict.copy()\n",
    "\n",
    "for i in main_dict_for.keys():\n",
    "    main_dict_for[i].reset_index(inplace=True)\n",
    "    main_dict_for[i] = main_dict_for[i].drop([264,265,266,267,268,269,270,271,272,273,274,275])"
   ]
  },
  {
   "cell_type": "markdown",
   "id": "1fe528d6",
   "metadata": {},
   "source": [
    "### Numbers of banks with a market value above 5 billions"
   ]
  },
  {
   "cell_type": "code",
   "execution_count": 8,
   "id": "350003ab",
   "metadata": {},
   "outputs": [
    {
     "name": "stdout",
     "output_type": "stream",
     "text": [
      "18733\n"
     ]
    }
   ],
   "source": [
    "\"\"\"\n",
    "Count the no of obs with large banks\n",
    "\"\"\"\n",
    "\n",
    "c1 = 1000 #because market is in mill \n",
    "count1 = 0\n",
    "\n",
    "for i in main_dict_for.keys():\n",
    "    count1 += (main_dict_for[i]['Market Value'].values >= c1).sum()\n",
    "    \n",
    "print(count1)"
   ]
  },
  {
   "cell_type": "code",
   "execution_count": 9,
   "id": "173dc04f",
   "metadata": {},
   "outputs": [],
   "source": [
    "\"\"\"\n",
    "Creating a mask so we only get the banks that have a market value above 5,000,000,000.\n",
    "\"\"\"\n",
    "bigbanks = {}\n",
    "bigbanks = main_dict_for.copy()\n",
    "\n",
    "for i in main_dict_for.keys():\n",
    "    bigbanks[i] = bigbanks[i][bigbanks[i].iloc[:,1]>=1000]"
   ]
  },
  {
   "cell_type": "code",
   "execution_count": 10,
   "id": "68744695",
   "metadata": {},
   "outputs": [],
   "source": [
    "\"\"\"\n",
    "We bring all data together in one dataframe and drop all the columns we shall not use\n",
    "\"\"\"\n",
    "\n",
    "all_data_for = pd.concat([bigbanks[i] for i in bigbanks.keys()])\n",
    "all_data_for.drop(all_data_for.iloc[:,:13], inplace = True, axis = 1)"
   ]
  },
  {
   "cell_type": "code",
   "execution_count": 11,
   "id": "d6722f2c",
   "metadata": {},
   "outputs": [
    {
     "name": "stdout",
     "output_type": "stream",
     "text": [
      "59664\n",
      "18733\n"
     ]
    }
   ],
   "source": [
    "#Check no of rows\n",
    "print(len(bigbanks.keys())*len(bigbanks['HSBC HOLDINGS']))\n",
    "print(len(all_data_for))"
   ]
  },
  {
   "cell_type": "markdown",
   "id": "ef6553d1",
   "metadata": {},
   "source": [
    "### Invers Tier 1 ratio"
   ]
  },
  {
   "cell_type": "code",
   "execution_count": 12,
   "id": "b321dec7",
   "metadata": {},
   "outputs": [],
   "source": [
    "\"\"\"\n",
    "We want the same amount of observations for forward beta and invers tier 1 ratio\n",
    "\"\"\"\n",
    "all_data_for_nan = all_data_for.copy()\n",
    "all_data_for_nan = all_data_for_nan[~all_data_for_nan.iloc[:,:2].isna().any(axis=1)] #we remove all the observations where we miss a value"
   ]
  },
  {
   "cell_type": "code",
   "execution_count": 13,
   "id": "a09e5c5d",
   "metadata": {},
   "outputs": [
    {
     "name": "stdout",
     "output_type": "stream",
     "text": [
      "0\n",
      "1975\n",
      "0\n",
      "1004\n"
     ]
    }
   ],
   "source": [
    "# to check whether we still have nan values in our dataset \n",
    "print(np.isnan(all_data_for_nan.iloc[:,1]).sum())\n",
    "print(np.isnan(all_data_for.iloc[:,1]).sum())\n",
    "print(np.isnan(all_data_for_nan.iloc[:,0]).sum())\n",
    "print(np.isnan(all_data_for.iloc[:,0]).sum())"
   ]
  },
  {
   "cell_type": "code",
   "execution_count": 14,
   "id": "c9e071cc",
   "metadata": {},
   "outputs": [],
   "source": [
    "\"\"\"\n",
    "Invers TIER 1 ratio\n",
    "First try showed that we have outliers. We therefor remove all the data where invers tier 1 ratio is above 99% quatile\n",
    "\"\"\"\n",
    "#define outler\n",
    "outlier = all_data_for_nan['Invers tier 1 ratio'].quantile(0.99)\n",
    "#remove outliers from data with mask\n",
    "all_data_for_nan = all_data_for_nan[all_data_for_nan.iloc[:,1] <= outlier]"
   ]
  },
  {
   "cell_type": "markdown",
   "id": "a0d20256",
   "metadata": {},
   "source": [
    "## Regression - Forward beta "
   ]
  },
  {
   "cell_type": "code",
   "execution_count": 15,
   "id": "3c29f737",
   "metadata": {},
   "outputs": [],
   "source": [
    "\"\"\"\n",
    "We regress forward beta on Invers tier 1 ratio and store the results in a tabel\n",
    "\"\"\"\n",
    "descriptive18 = pd.DataFrame()\n",
    "\n",
    "Y = all_data_for_nan['Forward beta'].astype('float64')\n",
    "X = all_data_for_nan['Invers tier 1 ratio'].astype('float64').to_numpy().reshape(-1,1)\n",
    "\n",
    "lm = LinearRegression(fit_intercept=False)\n",
    "lm.fit(X,Y)\n",
    "params = np.append(lm.intercept_,lm.coef_)\n",
    "predictions = lm.predict(X)\n",
    "\n",
    "newX = pd.DataFrame({\"Constant\":np.ones(len(X))}).join(pd.DataFrame(X))\n",
    "MSE = (sum((Y-predictions)**2))/(len(newX)-len(newX.columns))\n",
    "\n",
    "var_b = MSE*(np.linalg.inv(np.dot(newX.T,newX)).diagonal())\n",
    "sd_b = np.sqrt(var_b)\n",
    "ts_b = params/ sd_b\n",
    "r_squared = lm.score(X,Y)\n",
    "\n",
    "p_values =[2*(1-stats.t.cdf(np.abs(i),(len(newX)-len(newX.columns)-1))) for i in ts_b]\n",
    "\n",
    "sd_b = np.round(sd_b,3)\n",
    "ts_b = np.round(ts_b,3)\n",
    "p_values = np.round(p_values,4)\n",
    "params = np.round(params,4)\n",
    "\n",
    "descriptive18.loc['Slope', 'Invers tier 1 ratio'] = '{:,.03f}'.format(params[1])\n",
    "descriptive18.loc['Slope p-value', 'Invers tier 1 ratio'] = '{:,.03f}'.format(p_values[1])\n"
   ]
  },
  {
   "cell_type": "code",
   "execution_count": 16,
   "id": "926b3711",
   "metadata": {},
   "outputs": [
    {
     "data": {
      "text/html": [
       "<div>\n",
       "<style scoped>\n",
       "    .dataframe tbody tr th:only-of-type {\n",
       "        vertical-align: middle;\n",
       "    }\n",
       "\n",
       "    .dataframe tbody tr th {\n",
       "        vertical-align: top;\n",
       "    }\n",
       "\n",
       "    .dataframe thead th {\n",
       "        text-align: right;\n",
       "    }\n",
       "</style>\n",
       "<table border=\"1\" class=\"dataframe\">\n",
       "  <thead>\n",
       "    <tr style=\"text-align: right;\">\n",
       "      <th></th>\n",
       "      <th>Invers tier 1 ratio</th>\n",
       "    </tr>\n",
       "  </thead>\n",
       "  <tbody>\n",
       "    <tr>\n",
       "      <th>Slope</th>\n",
       "      <td>0.049</td>\n",
       "    </tr>\n",
       "    <tr>\n",
       "      <th>Slope p-value</th>\n",
       "      <td>0.000</td>\n",
       "    </tr>\n",
       "    <tr>\n",
       "      <th>Observations</th>\n",
       "      <td>15,691</td>\n",
       "    </tr>\n",
       "  </tbody>\n",
       "</table>\n",
       "</div>"
      ],
      "text/plain": [
       "              Invers tier 1 ratio\n",
       "Slope                       0.049\n",
       "Slope p-value               0.000\n",
       "Observations               15,691"
      ]
     },
     "execution_count": 16,
     "metadata": {},
     "output_type": "execute_result"
    }
   ],
   "source": [
    "descriptive18.loc['Observations', 'Invers tier 1 ratio'] = '{:,.0f}'.format(len(all_data_for_nan['Invers tier 1 ratio']))\n",
    "descriptive18"
   ]
  },
  {
   "cell_type": "markdown",
   "id": "10b5074f",
   "metadata": {},
   "source": [
    "### Extra regression check"
   ]
  },
  {
   "cell_type": "code",
   "execution_count": 17,
   "id": "2ca9d411",
   "metadata": {},
   "outputs": [
    {
     "name": "stdout",
     "output_type": "stream",
     "text": [
      "                                 OLS Regression Results                                \n",
      "=======================================================================================\n",
      "Dep. Variable:                      y   R-squared (uncentered):                   0.628\n",
      "Model:                            OLS   Adj. R-squared (uncentered):              0.628\n",
      "Method:                 Least Squares   F-statistic:                          2.650e+04\n",
      "Date:                Mon, 09 May 2022   Prob (F-statistic):                        0.00\n",
      "Time:                        19:32:36   Log-Likelihood:                         -20399.\n",
      "No. Observations:               15679   AIC:                                  4.080e+04\n",
      "Df Residuals:                   15678   BIC:                                  4.081e+04\n",
      "Df Model:                           1                                                  \n",
      "Covariance Type:            nonrobust                                                  \n",
      "==============================================================================\n",
      "                 coef    std err          t      P>|t|      [0.025      0.975]\n",
      "------------------------------------------------------------------------------\n",
      "x1             0.0486      0.000    162.788      0.000       0.048       0.049\n",
      "==============================================================================\n",
      "Omnibus:                      722.393   Durbin-Watson:                   0.106\n",
      "Prob(Omnibus):                  0.000   Jarque-Bera (JB):             1189.958\n",
      "Skew:                           0.393   Prob(JB):                    4.02e-259\n",
      "Kurtosis:                       4.097   Cond. No.                         1.00\n",
      "==============================================================================\n",
      "\n",
      "Notes:\n",
      "[1] R² is computed without centering (uncentered) since the model does not contain a constant.\n",
      "[2] Standard Errors assume that the covariance matrix of the errors is correctly specified.\n"
     ]
    }
   ],
   "source": [
    "Y = all_data_for_nan['Forward beta'].iloc[:-12].tolist()\n",
    "X = all_data_for_nan['Invers tier 1 ratio'].iloc[:-12].tolist() \n",
    "#X2 = sm.add_constant(X)\n",
    "result = sm.OLS(Y, X).fit()\n",
    "print(result.summary())"
   ]
  },
  {
   "cell_type": "code",
   "execution_count": 18,
   "id": "53e63774",
   "metadata": {},
   "outputs": [],
   "source": [
    "descriptive18.loc['R-squared', 'Invers tier 1 ratio'] = '{:,.03f}'.format(result.rsquared)"
   ]
  },
  {
   "cell_type": "code",
   "execution_count": 19,
   "id": "5ebd042b",
   "metadata": {},
   "outputs": [],
   "source": [
    "y_pred = result.predict(np.arange(1, 40))"
   ]
  },
  {
   "cell_type": "code",
   "execution_count": 20,
   "id": "a493b34d",
   "metadata": {},
   "outputs": [],
   "source": [
    "slope = result.params[0]"
   ]
  },
  {
   "cell_type": "markdown",
   "id": "0870bd77",
   "metadata": {},
   "source": [
    "## Kernel regression\n",
    "Important it is necessary to run section 1 and 2 before running this section "
   ]
  },
  {
   "cell_type": "code",
   "execution_count": 21,
   "id": "94d5bddb",
   "metadata": {},
   "outputs": [],
   "source": [
    "'''Class for Epanechnikov Kernel Regression'''\n",
    "class EKR:\n",
    "    \n",
    "    def __init__(self, x, y, b):\n",
    "        self.x = np.array(x)\n",
    "        self.y = np.array(y)\n",
    "        self.b = b\n",
    "        \n",
    "    '''Implement the Epanechnikov Kernel'''\n",
    "    def epanechnikov_kernel(self, z):\n",
    "        if np.linalg.norm(z) > 1:\n",
    "            return 0\n",
    "        else:\n",
    "            return (0.75*(1-np.power(z,2)))\n",
    "    \n",
    "    '''Calculate weights and return prediction'''\n",
    "    def predict(self, X):\n",
    "            kernels = np.array([self.epanechnikov_kernel((np.linalg.norm(xi-X))/self.b) for xi in self.x])\n",
    "            weights = np.array([(kernel/np.sum(kernels)) for kernel in kernels])\n",
    "            return np.dot(weights.T, self.y)"
   ]
  },
  {
   "cell_type": "code",
   "execution_count": 22,
   "id": "fc75a5df",
   "metadata": {},
   "outputs": [],
   "source": [
    "\"\"\"\n",
    "Applying Epanechnikov Kernel Regression on data\n",
    "\"\"\"\n",
    "\n",
    "x = all_data_for_nan.iloc[:,1] #x variable \n",
    "y = all_data_for_nan.iloc[:,0] #y variable\n",
    "b = 2 #smoothing interval\n",
    "\n",
    "KR = EKR(x=x, y=y, b=b)\n",
    "\n",
    "pred = [KR.predict(xi) for xi in np.arange(1, 40)]"
   ]
  },
  {
   "cell_type": "code",
   "execution_count": 23,
   "id": "b5dea155",
   "metadata": {},
   "outputs": [],
   "source": [
    "\"\"\"\n",
    "We create an numpy array with our linear predicted values in order to plot the linear relationship between forward beta and tier 1 ratio\n",
    "\"\"\"\n",
    "x1 = np.arange(1, 40)\n",
    "y1 = y_pred\n",
    "lin_plot = np.stack((x1, y1), axis=1)"
   ]
  },
  {
   "cell_type": "code",
   "execution_count": 30,
   "id": "c68ac742",
   "metadata": {},
   "outputs": [
    {
     "data": {
      "image/png": "[encoded data removed]",
      "text/plain": [
       "<Figure size 1152x720 with 1 Axes>"
      ]
     },
     "metadata": {
      "needs_background": "light"
     },
     "output_type": "display_data"
    }
   ],
   "source": [
    "\"\"\"\n",
    "Plotting the results\n",
    "\"\"\"\n",
    "fig, ax = plt.subplots(1, 1,figsize=(16,10))\n",
    "ax.plot(np.arange(39), pred, color='blue', label='kernel regression', linestyle='--')\n",
    "ax.plot(lin_plot[:,0], lin_plot[:,1], color='black', label='linear regression')\n",
    "ax.set_ylabel('Forward Beta').set_fontsize(14)\n",
    "ax.set_xlabel('Invers Tier 1 ratio').set_fontsize(14)\n",
    "ax.set_title('Invers Tier 1 ratio regressions').set_fontsize(14)\n",
    "ax.text(28,1.5,'{:,.03f}'.format(slope), fontsize=12)\n",
    "ax.legend();"
   ]
  }
 ],
 "metadata": {
  "hide_input": false,
  "kernelspec": {
   "display_name": "Python 3",
   "language": "python",
   "name": "python3"
  },
  "language_info": {
   "codemirror_mode": {
    "name": "ipython",
    "version": 3
   },
   "file_extension": ".py",
   "mimetype": "text/x-python",
   "name": "python",
   "nbconvert_exporter": "python",
   "pygments_lexer": "ipython3",
   "version": "3.8.2"
  },
  "latex_envs": {
   "LaTeX_envs_menu_present": true,
   "autoclose": false,
   "autocomplete": true,
   "bibliofile": "biblio.bib",
   "cite_by": "apalike",
   "current_citInitial": 1,
   "eqLabelWithNumbers": true,
   "eqNumInitial": 1,
   "hotkeys": {
    "equation": "Ctrl-E",
    "itemize": "Ctrl-I"
   },
   "labels_anchors": false,
   "latex_user_defs": false,
   "report_style_numbering": false,
   "user_envs_cfg": false
  },
  "toc": {
   "base_numbering": 1,
   "nav_menu": {},
   "number_sections": true,
   "sideBar": true,
   "skip_h1_title": false,
   "title_cell": "Table of Contents",
   "title_sidebar": "Contents",
   "toc_cell": true,
   "toc_position": {
    "height": "calc(100% - 180px)",
    "left": "10px",
    "top": "150px",
    "width": "316.691162109375px"
   },
   "toc_section_display": true,
   "toc_window_display": true
  }
 },
 "nbformat": 4,
 "nbformat_minor": 5
}
