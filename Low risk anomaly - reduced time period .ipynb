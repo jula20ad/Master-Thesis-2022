{
 "cells": [
  {
   "cell_type": "markdown",
   "id": "e6f8caba",
   "metadata": {
    "toc": true
   },
   "source": [
    "<h1>Table of Contents<span class=\"tocSkip\"></span></h1>\n",
    "<div class=\"toc\"><ul class=\"toc-item\"><li><span><a href=\"#Load-functions,-packages,-and-data\" data-toc-modified-id=\"Load-functions,-packages,-and-data-1\"><span class=\"toc-item-num\">1&nbsp;&nbsp;</span>Load functions, packages, and data</a></span></li><li><span><a href=\"#Prepare-data-for-calculations\" data-toc-modified-id=\"Prepare-data-for-calculations-2\"><span class=\"toc-item-num\">2&nbsp;&nbsp;</span>Prepare data for calculations</a></span></li><li><span><a href=\"#Backward-beta-portfolios-creation\" data-toc-modified-id=\"Backward-beta-portfolios-creation-3\"><span class=\"toc-item-num\">3&nbsp;&nbsp;</span>Backward beta portfolios creation</a></span><ul class=\"toc-item\"><li><span><a href=\"#Summarized-statistics-of-backward-beta-results\" data-toc-modified-id=\"Summarized-statistics-of-backward-beta-results-3.1\"><span class=\"toc-item-num\">3.1&nbsp;&nbsp;</span>Summarized statistics of backward beta results</a></span></li></ul></li><li><span><a href=\"#Step-2-in-Baker-&amp;-Wurgler\" data-toc-modified-id=\"Step-2-in-Baker-&amp;-Wurgler-4\"><span class=\"toc-item-num\">4&nbsp;&nbsp;</span>Step 2 in Baker &amp; Wurgler</a></span><ul class=\"toc-item\"><li><span><a href=\"#Second-regression\" data-toc-modified-id=\"Second-regression-4.1\"><span class=\"toc-item-num\">4.1&nbsp;&nbsp;</span>Second regression</a></span></li><li><span><a href=\"#Third-regression\" data-toc-modified-id=\"Third-regression-4.2\"><span class=\"toc-item-num\">4.2&nbsp;&nbsp;</span>Third regression</a></span></li></ul></li></ul></div>"
   ]
  },
  {
   "cell_type": "markdown",
   "id": "48085dc8",
   "metadata": {},
   "source": [
    "## Load functions, packages, and data"
   ]
  },
  {
   "cell_type": "code",
   "execution_count": 4,
   "id": "b0e5f0ae",
   "metadata": {},
   "outputs": [],
   "source": [
    "def geomean(data):\n",
    "    \n",
    "    n = data.shape[0]\n",
    "    \n",
    "    \n",
    "    return (data+1).prod()**(1/n)-1"
   ]
  },
  {
   "cell_type": "code",
   "execution_count": 1,
   "id": "b7f56f30",
   "metadata": {},
   "outputs": [],
   "source": [
    "%load_ext autoreload\n",
    "%autoreload 2\n",
    "\n",
    "\"\"\"\n",
    "Load relevant packages \n",
    "\"\"\"\n",
    "import os\n",
    "import numpy as np\n",
    "import matplotlib.pyplot as plt\n",
    "import seaborn as sns\n",
    "import pandas as pd\n",
    "from scipy import stats\n",
    "import pandas_datareader as pdr\n",
    "import datetime\n",
    "from sklearn.linear_model import LinearRegression\n",
    "import seaborn as sns\n",
    "import pickle\n",
    "from scipy.stats import kurtosis\n",
    "from scipy.stats import skew\n",
    "from typing import Union, List\n",
    "import math as m\n",
    "from sklearn import datasets, linear_model\n",
    "import statsmodels.api as sm"
   ]
  },
  {
   "cell_type": "code",
   "execution_count": 2,
   "id": "36cc8545",
   "metadata": {},
   "outputs": [],
   "source": [
    "\"\"\"\n",
    "Set path to get save data\n",
    "\"\"\"\n",
    "path = \"/Users/julielaustsen/Desktop/OneDrive/UNI/Speciale /Data/Eikon\"\n",
    "os.chdir(path) "
   ]
  },
  {
   "cell_type": "code",
   "execution_count": 3,
   "id": "1e49c3b5",
   "metadata": {},
   "outputs": [],
   "source": [
    "\"\"\"\n",
    "Load saved dataframes and dictionareis\n",
    "\"\"\"\n",
    "with open('data_calc_win', 'rb') as data_dict_win:\n",
    "    data_calc_win = pickle.load(data_dict_win) \n",
    "\n",
    "with open('regress_calc', 'rb') as regress: #load backward beta\n",
    "    regress_calc = pickle.load(regress)\n",
    "    \n",
    "with open('regress_calc_for', 'rb') as regress_for: #load forward beta\n",
    "    regress_calc_for = pickle.load(regress_for)\n",
    "    \n",
    "with open('df_mkt', 'rb') as data_market_df:\n",
    "    df_mkt = pickle.load(data_market_df)"
   ]
  },
  {
   "cell_type": "markdown",
   "id": "b9c8b5dc",
   "metadata": {},
   "source": [
    "## Prepare data for calculations"
   ]
  },
  {
   "cell_type": "code",
   "execution_count": 5,
   "id": "05388391",
   "metadata": {},
   "outputs": [],
   "source": [
    "\"\"\"\n",
    "To get the same columns names in each dataframe\n",
    "\"\"\"\n",
    "columns_list = ['Market Value', 'Return', 'Excess Return', 'Book Equity', 'Book Leverage ratio', 'Book Equity ratio', 'Book Equity/RWA', 'Tier 1 ratio','Tier 1/RWA','Total Assets','Total Risk Weighted Assets']\n",
    "\n",
    "for i in data_calc_win.keys():\n",
    "    data_calc_win[i].columns = columns_list"
   ]
  },
  {
   "cell_type": "code",
   "execution_count": 6,
   "id": "2c9e9ed2",
   "metadata": {},
   "outputs": [],
   "source": [
    "\"\"\"\n",
    "Reset index in data\n",
    "\"\"\"\n",
    "for i in data_calc_win.keys():\n",
    "    data_calc_win[i].reset_index(inplace=True)\n",
    "    regress_calc[i].reset_index(inplace=True)\n",
    "    regress_calc_for[i].reset_index(inplace=True)\n",
    "    \n",
    "\n",
    "df_mkt.reset_index(inplace=True)"
   ]
  },
  {
   "cell_type": "code",
   "execution_count": 7,
   "id": "4e78518a",
   "metadata": {},
   "outputs": [],
   "source": [
    "\"\"\"\n",
    "Reduce time period in data (remove data past 2011)\n",
    "\"\"\"\n",
    "\n",
    "for i in data_calc_win.keys():\n",
    "    data_calc_win[i].drop(inplace = True, axis =0, labels=range(144,276))\n",
    "    regress_calc[i].drop(inplace = True, axis =0, labels=range(144,276))\n",
    "    regress_calc_for[i].drop(inplace = True, axis =0, labels=range(144,276))\n",
    "\n",
    "df_mkt.drop(inplace = True, axis =0, labels=range(144,276))"
   ]
  },
  {
   "cell_type": "markdown",
   "id": "9cfb63a4",
   "metadata": {},
   "source": [
    "## Backward beta portfolios creation"
   ]
  },
  {
   "cell_type": "code",
   "execution_count": 8,
   "id": "e38160bd",
   "metadata": {},
   "outputs": [],
   "source": [
    "\"\"\"\n",
    "We drop the first 12 observations because we know they wil be nan\n",
    "\"\"\"\n",
    "for i in data_calc_win.keys():\n",
    "    regress_calc[i] = regress_calc[i].drop([0,1,2,3,4,5,6,7,8,9,10,11])"
   ]
  },
  {
   "cell_type": "code",
   "execution_count": 9,
   "id": "81d7995a",
   "metadata": {},
   "outputs": [],
   "source": [
    "\"\"\"\n",
    "To have a dataframe with all the backward betas\n",
    "\"\"\"\n",
    "beta = pd.concat([regress_calc[i].Beta for i in list(regress_calc.keys())], axis=1)\n",
    "#for i in regress_calc.keys():\n",
    "beta.columns = list(regress_calc.keys())"
   ]
  },
  {
   "cell_type": "code",
   "execution_count": 10,
   "id": "6d9166db",
   "metadata": {},
   "outputs": [],
   "source": [
    "\"\"\"\n",
    "To create a dictionary for each portfolio group that contains a list for each timestep with the names of the banks in that group.\n",
    "\"\"\"\n",
    "low_group, middle_group, high_group = {},{},{}\n",
    "no_obs_beta = beta.shape[0]\n",
    "\n",
    "for i in range(no_obs_beta):\n",
    "        no_betas = beta.iloc[i,:].count()\n",
    "        no_low, no_middle = m.floor(no_betas*0.3), m.floor(no_betas*0.4) #low bottom = 30% and top bottom = 30% see BW\n",
    "        no_high = no_betas - (no_low + no_middle)\n",
    "        low_group[i]=list(beta.iloc[i,:].sort_values()[:no_low].index)\n",
    "        middle_group[i]=list(beta.iloc[i,:].sort_values()[no_low:no_low+no_middle].index)\n",
    "        high_group[i]=list(beta.iloc[i,:].sort_values()[no_low + no_middle:no_betas].index)"
   ]
  },
  {
   "cell_type": "code",
   "execution_count": 11,
   "id": "8c792ef6",
   "metadata": {},
   "outputs": [],
   "source": [
    "\"\"\"\n",
    "We create a dictionary for the low beta group containing a dataframe for each timestep with the banks', within\n",
    "the group, alpha, beta, market value, and excess return\n",
    "\"\"\"\n",
    "\n",
    "low_group_calc = {}\n",
    "\n",
    "for i in low_group.keys():\n",
    "    df = pd.DataFrame(columns=low_group[i])\n",
    "    for j in df.columns:\n",
    "        s1 = regress_calc[j].iloc[i,1].copy() #alpha\n",
    "        s2 = regress_calc[j].iloc[i,2].copy() #beta\n",
    "        s3 = data_calc_win[j].iloc[i,1].copy() #market value\n",
    "        s4 = data_calc_win[j].iloc[i,3].copy() #excess return\n",
    "        df[j] = [s1,s2,s3,s4]\n",
    "    low_group_calc[i] = df.T\n",
    "    low_group_calc[i].columns = ['Alpha', 'Beta', 'Market value', 'Excess return']"
   ]
  },
  {
   "cell_type": "code",
   "execution_count": 12,
   "id": "77293c72",
   "metadata": {},
   "outputs": [],
   "source": [
    "\"\"\"\n",
    "We create a dictionary for the middle beta group containing a dataframe for each timestep with the banks', within\n",
    "the group, alpha, beta, market value, and excess return\n",
    "\"\"\"\n",
    "\n",
    "middle_group_calc = {}\n",
    "\n",
    "for i in middle_group.keys():\n",
    "    df = pd.DataFrame(columns=middle_group[i])\n",
    "    for j in df.columns:\n",
    "        s1 = regress_calc[j].iloc[i,1].copy() #alpha\n",
    "        s2 = regress_calc[j].iloc[i,2].copy() #beta\n",
    "        s3 = data_calc_win[j].iloc[i,1].copy() #market value\n",
    "        s4 = data_calc_win[j].iloc[i,3].copy() #excess return\n",
    "        df[j] = [s1,s2,s3,s4]\n",
    "    middle_group_calc[i] = df.T\n",
    "    middle_group_calc[i].columns = ['Alpha', 'Beta', 'Market value', 'Excess return']"
   ]
  },
  {
   "cell_type": "code",
   "execution_count": 13,
   "id": "659b6a7a",
   "metadata": {},
   "outputs": [],
   "source": [
    "\"\"\"\n",
    "We create a dictionary for the high beta group containing a dataframe for each timestep with the banks', within\n",
    "the group, alpha, beta, market value, and excess return\n",
    "\"\"\"\n",
    "\n",
    "high_group_calc = {}\n",
    "\n",
    "for i in high_group.keys():\n",
    "    df = pd.DataFrame(columns=high_group[i])\n",
    "    for j in df.columns:\n",
    "        s1 = regress_calc[j].iloc[i,1].copy() #alpha\n",
    "        s2 = regress_calc[j].iloc[i,2].copy() #beta\n",
    "        s3 = data_calc_win[j].iloc[i,1].copy() #market value\n",
    "        s4 = data_calc_win[j].iloc[i,3].copy() #excess return\n",
    "        df[j] = [s1,s2,s3,s4]\n",
    "    high_group_calc[i] = df.T\n",
    "    high_group_calc[i].columns = ['Alpha', 'Beta', 'Market value', 'Excess return']"
   ]
  },
  {
   "cell_type": "code",
   "execution_count": 14,
   "id": "fb795811",
   "metadata": {},
   "outputs": [],
   "source": [
    "\"\"\"\n",
    "Assigning weights based on market value\n",
    "\"\"\"\n",
    "\n",
    "for i in low_group_calc.keys():\n",
    "    low_group_calc[i]['weight'] = low_group_calc[i].iloc[:,2]/(low_group_calc[i]['Market value'].sum())\n",
    "\n",
    "for i in middle_group_calc.keys():\n",
    "    middle_group_calc[i]['weight'] = middle_group_calc[i].iloc[:,2]/(middle_group_calc[i]['Market value'].sum())\n",
    "    \n",
    "for i in high_group_calc.keys():\n",
    "    high_group_calc[i]['weight'] = high_group_calc[i].iloc[:,2]/(high_group_calc[i]['Market value'].sum())"
   ]
  },
  {
   "cell_type": "code",
   "execution_count": 15,
   "id": "bea531d2",
   "metadata": {},
   "outputs": [],
   "source": [
    "\"\"\"\n",
    "Create equal-weighted and value-weighted for the low beta group\n",
    "\"\"\"\n",
    "\n",
    "low_val = pd.DataFrame(columns=['ew_excess_ret', 'ew_beta', 'ew_alpha', 'vw_excess_ret','vw_beta', 'vw_alpha'])\n",
    "\n",
    "for i in low_group_calc.keys():\n",
    "    low_val.loc[i,'ew_excess_ret'] = (low_group_calc[i]['Excess return']*(1/len(low_group[i]))).sum()\n",
    "    low_val.loc[i,'ew_beta'] = (low_group_calc[i]['Beta']*(1/len(low_group[i]))).sum()\n",
    "    low_val.loc[i,'ew_alpha'] = (low_group_calc[i]['Alpha']*(1/len(low_group[i]))).sum()\n",
    "    low_val.loc[i,'vw_excess_ret'] = (low_group_calc[i]['Excess return']*low_group_calc[i]['weight']).sum()\n",
    "    low_val.loc[i,'vw_beta'] = (low_group_calc[i]['Beta']*low_group_calc[i]['weight']).sum()\n",
    "    low_val.loc[i,'vw_alpha'] = (low_group_calc[i]['Alpha']*low_group_calc[i]['weight']).sum()"
   ]
  },
  {
   "cell_type": "code",
   "execution_count": 16,
   "id": "bbd64729",
   "metadata": {},
   "outputs": [],
   "source": [
    "\"\"\"\n",
    "Create equal-weighted and value-weighted for the middle beta group\n",
    "\"\"\"\n",
    "\n",
    "middle_val = pd.DataFrame(columns=['ew_excess_ret', 'ew_beta', 'ew_alpha', 'vw_excess_ret','vw_beta', 'vw_alpha'])\n",
    "\n",
    "for i in middle_group_calc.keys():\n",
    "    middle_val.loc[i,'ew_excess_ret'] = (middle_group_calc[i]['Excess return']*(1/len(middle_group[i]))).sum()\n",
    "    middle_val.loc[i,'ew_beta'] = (middle_group_calc[i]['Beta']*(1/len(middle_group[i]))).sum()\n",
    "    middle_val.loc[i,'ew_alpha'] = (middle_group_calc[i]['Alpha']*(1/len(middle_group[i]))).sum()\n",
    "    middle_val.loc[i,'vw_excess_ret'] = (middle_group_calc[i]['Excess return']*middle_group_calc[i]['weight']).sum()\n",
    "    middle_val.loc[i,'vw_beta'] = (middle_group_calc[i]['Beta']*middle_group_calc[i]['weight']).sum()\n",
    "    middle_val.loc[i,'vw_alpha'] = (middle_group_calc[i]['Alpha']*middle_group_calc[i]['weight']).sum()"
   ]
  },
  {
   "cell_type": "code",
   "execution_count": 17,
   "id": "cf30e9cd",
   "metadata": {},
   "outputs": [],
   "source": [
    "\"\"\"\n",
    "Create equal-weighted and value-weighted for the high beta group\n",
    "\"\"\"\n",
    "\n",
    "high_val = pd.DataFrame(columns=['ew_excess_ret', 'ew_beta', 'ew_alpha', 'vw_excess_ret','vw_beta', 'vw_alpha'])\n",
    "\n",
    "for i in high_group_calc.keys():\n",
    "    high_val.loc[i,'ew_excess_ret'] = (high_group_calc[i]['Excess return']*(1/len(high_group[i]))).sum()\n",
    "    high_val.loc[i,'ew_beta'] = (high_group_calc[i]['Beta']*(1/len(high_group[i]))).sum()\n",
    "    high_val.loc[i,'ew_alpha'] = (high_group_calc[i]['Alpha']*(1/len(high_group[i]))).sum()\n",
    "    high_val.loc[i,'vw_excess_ret'] = (high_group_calc[i]['Excess return']*high_group_calc[i]['weight']).sum()\n",
    "    high_val.loc[i,'vw_beta'] = (high_group_calc[i]['Beta']*high_group_calc[i]['weight']).sum()\n",
    "    high_val.loc[i,'vw_alpha'] = (high_group_calc[i]['Alpha']*high_group_calc[i]['weight']).sum()"
   ]
  },
  {
   "cell_type": "markdown",
   "id": "d9035463",
   "metadata": {},
   "source": [
    "### Summarized statistics of backward beta results"
   ]
  },
  {
   "cell_type": "code",
   "execution_count": 18,
   "id": "9ba7f428",
   "metadata": {},
   "outputs": [
    {
     "data": {
      "text/html": [
       "<div>\n",
       "<style scoped>\n",
       "    .dataframe tbody tr th:only-of-type {\n",
       "        vertical-align: middle;\n",
       "    }\n",
       "\n",
       "    .dataframe tbody tr th {\n",
       "        vertical-align: top;\n",
       "    }\n",
       "\n",
       "    .dataframe thead th {\n",
       "        text-align: right;\n",
       "    }\n",
       "</style>\n",
       "<table border=\"1\" class=\"dataframe\">\n",
       "  <thead>\n",
       "    <tr style=\"text-align: right;\">\n",
       "      <th></th>\n",
       "      <th>Mean Excess return</th>\n",
       "      <th>Beta</th>\n",
       "      <th>Alpha</th>\n",
       "    </tr>\n",
       "  </thead>\n",
       "  <tbody>\n",
       "    <tr>\n",
       "      <th>Low beta Equal weighted</th>\n",
       "      <td>-0.0006</td>\n",
       "      <td>0.0315</td>\n",
       "      <td>0.0015</td>\n",
       "    </tr>\n",
       "    <tr>\n",
       "      <th>Low beta Value weighted</th>\n",
       "      <td>0.003</td>\n",
       "      <td>0.0053</td>\n",
       "      <td>-0.0005</td>\n",
       "    </tr>\n",
       "    <tr>\n",
       "      <th>Middle beta Equal weighted</th>\n",
       "      <td>-0.0057</td>\n",
       "      <td>0.5629</td>\n",
       "      <td>-0.0023</td>\n",
       "    </tr>\n",
       "    <tr>\n",
       "      <th>Middle beta Value weighted</th>\n",
       "      <td>-0.0054</td>\n",
       "      <td>0.6596</td>\n",
       "      <td>-0.0028</td>\n",
       "    </tr>\n",
       "    <tr>\n",
       "      <th>High beta Equal weighted</th>\n",
       "      <td>-0.022</td>\n",
       "      <td>1.4581</td>\n",
       "      <td>-0.0076</td>\n",
       "    </tr>\n",
       "    <tr>\n",
       "      <th>High beta Value weighted</th>\n",
       "      <td>-0.0171</td>\n",
       "      <td>1.4541</td>\n",
       "      <td>-0.0059</td>\n",
       "    </tr>\n",
       "  </tbody>\n",
       "</table>\n",
       "</div>"
      ],
      "text/plain": [
       "                           Mean Excess return    Beta   Alpha\n",
       "Low beta Equal weighted               -0.0006  0.0315  0.0015\n",
       "Low beta Value weighted                 0.003  0.0053 -0.0005\n",
       "Middle beta Equal weighted            -0.0057  0.5629 -0.0023\n",
       "Middle beta Value weighted            -0.0054  0.6596 -0.0028\n",
       "High beta Equal weighted               -0.022  1.4581 -0.0076\n",
       "High beta Value weighted              -0.0171  1.4541 -0.0059"
      ]
     },
     "execution_count": 18,
     "metadata": {},
     "output_type": "execute_result"
    }
   ],
   "source": [
    "\"\"\"\n",
    "Mean excess return, beta and alpha for the backward beta\n",
    "\"\"\"\n",
    "descriptive19 = pd.DataFrame(columns=['Mean Excess return', 'Beta', 'Alpha'])\n",
    "\n",
    "descriptive19.loc['Low beta Equal weighted', 'Mean Excess return'] = round(geomean(low_val.iloc[:,0]),4)\n",
    "descriptive19.loc['Low beta Equal weighted', 'Beta'] = round(np.mean(low_val.iloc[:,1]),4)\n",
    "descriptive19.loc['Low beta Equal weighted', 'Alpha'] = round(np.mean(low_val.iloc[:,2]),4)\n",
    "descriptive19.loc['Low beta Value weighted', 'Mean Excess return'] = round(geomean(low_val.iloc[:,3]),4)\n",
    "descriptive19.loc['Low beta Value weighted', 'Beta'] = round(np.mean(low_val.iloc[:,4]),4)\n",
    "descriptive19.loc['Low beta Value weighted', 'Alpha'] = round(np.mean(low_val.iloc[:,5]),4)\n",
    "descriptive19.loc['Middle beta Equal weighted', 'Mean Excess return'] = round(geomean(middle_val.iloc[:,0]),4)\n",
    "descriptive19.loc['Middle beta Equal weighted', 'Beta'] = round(np.mean(middle_val.iloc[:,1]),4)\n",
    "descriptive19.loc['Middle beta Equal weighted', 'Alpha'] = round(np.mean(middle_val.iloc[:,2]),4)\n",
    "descriptive19.loc['Middle beta Value weighted', 'Mean Excess return'] = round(geomean(middle_val.iloc[:,3]),4)\n",
    "descriptive19.loc['Middle beta Value weighted', 'Beta'] = round(np.mean(middle_val.iloc[:,4]),4)\n",
    "descriptive19.loc['Middle beta Value weighted', 'Alpha'] = round(np.mean(middle_val.iloc[:,5]),4)\n",
    "descriptive19.loc['High beta Equal weighted', 'Mean Excess return'] = round(geomean(high_val.iloc[:,0]),4)\n",
    "descriptive19.loc['High beta Equal weighted', 'Beta'] = round(np.mean(high_val.iloc[:,1]),4)\n",
    "descriptive19.loc['High beta Equal weighted', 'Alpha'] = round(np.mean(high_val.iloc[:,2]),4)\n",
    "descriptive19.loc['High beta Value weighted', 'Mean Excess return'] = round(geomean(high_val.iloc[:,3]),4)\n",
    "descriptive19.loc['High beta Value weighted', 'Beta'] = round(np.mean(high_val.iloc[:,4]),4)\n",
    "descriptive19.loc['High beta Value weighted', 'Alpha'] = round(np.mean(high_val.iloc[:,5]),4)\n",
    "\n",
    "descriptive19"
   ]
  },
  {
   "cell_type": "code",
   "execution_count": 19,
   "id": "194b660c",
   "metadata": {},
   "outputs": [],
   "source": [
    "\"\"\"\n",
    "Mean excess return for the market\n",
    "\"\"\"\n",
    "\n",
    "mean = geomean(df_mkt['EUROPE IM (excess)'])\n",
    "capm = pd.DataFrame(columns=['betas', 'excess returns'])\n",
    "capm['betas']=list(range(-2,4))\n",
    "capm['excess returns'] = capm['betas']* mean"
   ]
  },
  {
   "cell_type": "code",
   "execution_count": 20,
   "id": "faa9d38b",
   "metadata": {},
   "outputs": [
    {
     "data": {
      "image/png": "[encoded data removed]",
      "text/plain": [
       "<Figure size 1152x720 with 1 Axes>"
      ]
     },
     "metadata": {
      "needs_background": "light"
     },
     "output_type": "display_data"
    }
   ],
   "source": [
    "\"\"\"\n",
    "Plot the values for the equal-weighted excess returns and betas\n",
    "\"\"\"\n",
    "\n",
    "fig, ax = plt.subplots(1, 1,figsize=(16,10))\n",
    "ax.scatter(low_val['ew_beta'],low_val['ew_excess_ret'], color='blue', label='low')\n",
    "ax.scatter(middle_val['ew_beta'],middle_val['ew_excess_ret'], color='green', label='middle')\n",
    "ax.scatter(high_val['ew_beta'],high_val['ew_excess_ret'], color='red', label='high')\n",
    "ax.plot(capm['betas'],capm['excess returns'], color='black', label='capm')\n",
    "ax.set_xlim([-1,3])\n",
    "#ax.set_ylim([-0.1,0.1])\n",
    "ax.set_xlabel('Beta')\n",
    "ax.set_ylabel('Excess return')\n",
    "ax.set_title('Equal weighted')\n",
    "ax.legend();"
   ]
  },
  {
   "cell_type": "markdown",
   "id": "5f3d0a60",
   "metadata": {},
   "source": [
    "## Step 2 in Baker & Wurgler\n",
    "Alpha regressed on betas. The slope should be negative if there exists a low risk anomaly"
   ]
  },
  {
   "cell_type": "code",
   "execution_count": 21,
   "id": "e6ea7c37",
   "metadata": {},
   "outputs": [],
   "source": [
    "\"\"\"\n",
    "Create a dictionary that contains the 3 groups of weighted excess return, backward beta and alphas (both equal and value weighted)\n",
    "\"\"\"\n",
    "dict_ = {}\n",
    "dict_[0] = low_val\n",
    "dict_[1] = middle_val\n",
    "dict_[2] = high_val"
   ]
  },
  {
   "cell_type": "markdown",
   "id": "ebf120a3",
   "metadata": {},
   "source": [
    "### Second regression"
   ]
  },
  {
   "cell_type": "code",
   "execution_count": 24,
   "id": "b13f2748",
   "metadata": {},
   "outputs": [
    {
     "data": {
      "text/html": [
       "<div>\n",
       "<style scoped>\n",
       "    .dataframe tbody tr th:only-of-type {\n",
       "        vertical-align: middle;\n",
       "    }\n",
       "\n",
       "    .dataframe tbody tr th {\n",
       "        vertical-align: top;\n",
       "    }\n",
       "\n",
       "    .dataframe thead th {\n",
       "        text-align: right;\n",
       "    }\n",
       "</style>\n",
       "<table border=\"1\" class=\"dataframe\">\n",
       "  <thead>\n",
       "    <tr style=\"text-align: right;\">\n",
       "      <th></th>\n",
       "      <th>Low beta portfolio</th>\n",
       "      <th>Middle beta portfolio</th>\n",
       "      <th>High beta portfolio</th>\n",
       "    </tr>\n",
       "  </thead>\n",
       "  <tbody>\n",
       "    <tr>\n",
       "      <th>Alpha</th>\n",
       "      <td>-0.0001</td>\n",
       "      <td>-0.0033</td>\n",
       "      <td>-0.0119</td>\n",
       "    </tr>\n",
       "    <tr>\n",
       "      <th>Alpha T-stat</th>\n",
       "      <td>-0.0680</td>\n",
       "      <td>-1.1260</td>\n",
       "      <td>-2.0750</td>\n",
       "    </tr>\n",
       "    <tr>\n",
       "      <th>Alpha p-value</th>\n",
       "      <td>0.9456</td>\n",
       "      <td>0.2621</td>\n",
       "      <td>0.0400</td>\n",
       "    </tr>\n",
       "    <tr>\n",
       "      <th>Beta</th>\n",
       "      <td>0.1019</td>\n",
       "      <td>0.6346</td>\n",
       "      <td>1.6167</td>\n",
       "    </tr>\n",
       "    <tr>\n",
       "      <th>Beta T-stat</th>\n",
       "      <td>2.7790</td>\n",
       "      <td>10.7000</td>\n",
       "      <td>13.8550</td>\n",
       "    </tr>\n",
       "    <tr>\n",
       "      <th>Beta p-value</th>\n",
       "      <td>0.0063</td>\n",
       "      <td>0.0000</td>\n",
       "      <td>0.0000</td>\n",
       "    </tr>\n",
       "  </tbody>\n",
       "</table>\n",
       "</div>"
      ],
      "text/plain": [
       "               Low beta portfolio  Middle beta portfolio  High beta portfolio\n",
       "Alpha                     -0.0001                -0.0033              -0.0119\n",
       "Alpha T-stat              -0.0680                -1.1260              -2.0750\n",
       "Alpha p-value              0.9456                 0.2621               0.0400\n",
       "Beta                       0.1019                 0.6346               1.6167\n",
       "Beta T-stat                2.7790                10.7000              13.8550\n",
       "Beta p-value               0.0063                 0.0000               0.0000"
      ]
     },
     "execution_count": 24,
     "metadata": {},
     "output_type": "execute_result"
    }
   ],
   "source": [
    "\"\"\"\n",
    "EQUAL WEIGHTED \n",
    "Based on the equal weighted excess return (backward beta groups) we estimate alpha and beta so we get a new \n",
    "timeserie with 264 alphas and betas for the 3 equal weighted groups\n",
    "\"\"\"\n",
    "descriptive20 = pd.DataFrame()\n",
    "\n",
    "for i in dict_.keys():    \n",
    "    Y = dict_[i]['ew_excess_ret'].astype('float64')\n",
    "    X = df_mkt['EUROPE IM (excess)'].iloc[:-12].astype('float64').to_numpy().reshape(-1,1)\n",
    "\n",
    "    lm = LinearRegression()\n",
    "    lm.fit(X,Y)\n",
    "    params = np.append(lm.intercept_,lm.coef_)\n",
    "    predictions = lm.predict(X)\n",
    "\n",
    "    newX = pd.DataFrame({\"Constant\":np.ones(len(X))}).join(pd.DataFrame(X))\n",
    "    MSE = (sum((Y-predictions)**2))/(len(newX)-len(newX.columns))\n",
    "\n",
    "    var_b = MSE*(np.linalg.inv(np.dot(newX.T,newX)).diagonal())\n",
    "    sd_b = np.sqrt(var_b)\n",
    "    ts_b = params/ sd_b\n",
    "\n",
    "    p_values =[2*(1-stats.t.cdf(np.abs(i),(len(newX)-len(newX.columns)-1))) for i in ts_b]\n",
    "\n",
    "    sd_b = np.round(sd_b,3)\n",
    "    ts_b = np.round(ts_b,3)\n",
    "    p_values = np.round(p_values,4)\n",
    "    params = np.round(params,4)\n",
    "\n",
    "    descriptive20.loc['Alpha', i] = params[0]\n",
    "    descriptive20.loc['Alpha T-stat', i] = ts_b[0]\n",
    "    descriptive20.loc['Alpha p-value', i] = p_values[0]\n",
    "    descriptive20.loc['Beta', i] = params[1]\n",
    "    descriptive20.loc['Beta T-stat', i] = ts_b[1]\n",
    "    descriptive20.loc['Beta p-value', i] = p_values[1]\n",
    "    \n",
    "descriptive20.columns=['Low beta portfolio', 'Middle beta portfolio', 'High beta portfolio']\n",
    "descriptive20"
   ]
  },
  {
   "cell_type": "code",
   "execution_count": 25,
   "id": "d30b040e",
   "metadata": {},
   "outputs": [
    {
     "data": {
      "text/html": [
       "<div>\n",
       "<style scoped>\n",
       "    .dataframe tbody tr th:only-of-type {\n",
       "        vertical-align: middle;\n",
       "    }\n",
       "\n",
       "    .dataframe tbody tr th {\n",
       "        vertical-align: top;\n",
       "    }\n",
       "\n",
       "    .dataframe thead th {\n",
       "        text-align: right;\n",
       "    }\n",
       "</style>\n",
       "<table border=\"1\" class=\"dataframe\">\n",
       "  <thead>\n",
       "    <tr style=\"text-align: right;\">\n",
       "      <th></th>\n",
       "      <th>Low beta portfolio</th>\n",
       "      <th>Middle beta portfolio</th>\n",
       "      <th>High beta portfolio</th>\n",
       "    </tr>\n",
       "  </thead>\n",
       "  <tbody>\n",
       "    <tr>\n",
       "      <th>Alpha</th>\n",
       "      <td>0.0039</td>\n",
       "      <td>-0.0022</td>\n",
       "      <td>-0.0073</td>\n",
       "    </tr>\n",
       "    <tr>\n",
       "      <th>Alpha T-stat</th>\n",
       "      <td>1.1960</td>\n",
       "      <td>-0.5470</td>\n",
       "      <td>-1.2410</td>\n",
       "    </tr>\n",
       "    <tr>\n",
       "      <th>Alpha p-value</th>\n",
       "      <td>0.2338</td>\n",
       "      <td>0.5853</td>\n",
       "      <td>0.2167</td>\n",
       "    </tr>\n",
       "    <tr>\n",
       "      <th>Beta</th>\n",
       "      <td>0.0659</td>\n",
       "      <td>0.6927</td>\n",
       "      <td>1.5466</td>\n",
       "    </tr>\n",
       "    <tr>\n",
       "      <th>Beta T-stat</th>\n",
       "      <td>1.0060</td>\n",
       "      <td>8.4650</td>\n",
       "      <td>12.9400</td>\n",
       "    </tr>\n",
       "    <tr>\n",
       "      <th>Beta p-value</th>\n",
       "      <td>0.3165</td>\n",
       "      <td>0.0000</td>\n",
       "      <td>0.0000</td>\n",
       "    </tr>\n",
       "  </tbody>\n",
       "</table>\n",
       "</div>"
      ],
      "text/plain": [
       "               Low beta portfolio  Middle beta portfolio  High beta portfolio\n",
       "Alpha                      0.0039                -0.0022              -0.0073\n",
       "Alpha T-stat               1.1960                -0.5470              -1.2410\n",
       "Alpha p-value              0.2338                 0.5853               0.2167\n",
       "Beta                       0.0659                 0.6927               1.5466\n",
       "Beta T-stat                1.0060                 8.4650              12.9400\n",
       "Beta p-value               0.3165                 0.0000               0.0000"
      ]
     },
     "execution_count": 25,
     "metadata": {},
     "output_type": "execute_result"
    }
   ],
   "source": [
    "\"\"\"\n",
    "VALUE WEIGHTED \n",
    "Based on the value weighted excess return (backward beta groups) we estimate alpha and beta so we get a new \n",
    "timeserie with 264 alphas and betas for the 3 value weighted groups\n",
    "\"\"\"\n",
    "descriptive21 = pd.DataFrame()\n",
    "\n",
    "for i in dict_.keys():    \n",
    "    Y = dict_[i]['vw_excess_ret'].astype('float64')\n",
    "    X = df_mkt['EUROPE IM (excess)'].iloc[:-12].astype('float64').to_numpy().reshape(-1,1)\n",
    "\n",
    "    lm = LinearRegression()\n",
    "    lm.fit(X,Y)\n",
    "    params = np.append(lm.intercept_,lm.coef_)\n",
    "    predictions = lm.predict(X)\n",
    "\n",
    "    newX = pd.DataFrame({\"Constant\":np.ones(len(X))}).join(pd.DataFrame(X))\n",
    "    MSE = (sum((Y-predictions)**2))/(len(newX)-len(newX.columns))\n",
    "\n",
    "    var_b = MSE*(np.linalg.inv(np.dot(newX.T,newX)).diagonal())\n",
    "    sd_b = np.sqrt(var_b)\n",
    "    ts_b = params/ sd_b\n",
    "\n",
    "    p_values =[2*(1-stats.t.cdf(np.abs(i),(len(newX)-len(newX.columns)-1))) for i in ts_b]\n",
    "\n",
    "    sd_b = np.round(sd_b,3)\n",
    "    ts_b = np.round(ts_b,3)\n",
    "    p_values = np.round(p_values,4)\n",
    "    params = np.round(params,4)\n",
    "\n",
    "    descriptive21.loc['Alpha', i] = params[0]\n",
    "    descriptive21.loc['Alpha T-stat', i] = ts_b[0]\n",
    "    descriptive21.loc['Alpha p-value', i] = p_values[0]\n",
    "    descriptive21.loc['Beta', i] = params[1]\n",
    "    descriptive21.loc['Beta T-stat', i] = ts_b[1]\n",
    "    descriptive21.loc['Beta p-value', i] = p_values[1]\n",
    "    \n",
    "descriptive21.columns=['Low beta portfolio', 'Middle beta portfolio', 'High beta portfolio']\n",
    "descriptive21"
   ]
  },
  {
   "cell_type": "markdown",
   "id": "9b448b88",
   "metadata": {},
   "source": [
    "### Third regression"
   ]
  },
  {
   "cell_type": "code",
   "execution_count": 26,
   "id": "854bbca4",
   "metadata": {},
   "outputs": [],
   "source": [
    "\"\"\"\n",
    "We collect the six alphas in one dataframe\n",
    "\"\"\"\n",
    "\n",
    "s1 = descriptive20.iloc[0,:].copy()\n",
    "s2 = descriptive21.iloc[0,:].copy()\n",
    "alphas = pd.concat([s1,s2])"
   ]
  },
  {
   "cell_type": "code",
   "execution_count": 27,
   "id": "7270c10f",
   "metadata": {},
   "outputs": [],
   "source": [
    "\"\"\"\n",
    "We collect the six betas in one dataframe\n",
    "\"\"\"\n",
    "s1 = descriptive20.iloc[3,:].copy()\n",
    "s2 = descriptive21.iloc[3,:].copy()\n",
    "betas = pd.concat([s1,s2])"
   ]
  },
  {
   "cell_type": "code",
   "execution_count": 28,
   "id": "c51b0629",
   "metadata": {},
   "outputs": [
    {
     "name": "stdout",
     "output_type": "stream",
     "text": [
      "                            OLS Regression Results                            \n",
      "==============================================================================\n",
      "Dep. Variable:                      y   R-squared:                       0.893\n",
      "Model:                            OLS   Adj. R-squared:                  0.866\n",
      "Method:                 Least Squares   F-statistic:                     33.28\n",
      "Date:                Wed, 04 May 2022   Prob (F-statistic):            0.00448\n",
      "Time:                        09:38:50   Log-Likelihood:                 29.912\n",
      "No. Observations:                   6   AIC:                            -55.82\n",
      "Df Residuals:                       4   BIC:                            -56.24\n",
      "Df Model:                           1                                         \n",
      "Covariance Type:            nonrobust                                         \n",
      "==============================================================================\n",
      "                 coef    std err          t      P>|t|      [0.025      0.975]\n",
      "------------------------------------------------------------------------------\n",
      "const          0.0025      0.001      1.895      0.131      -0.001       0.006\n",
      "x1            -0.0077      0.001     -5.769      0.004      -0.011      -0.004\n",
      "==============================================================================\n",
      "Omnibus:                          nan   Durbin-Watson:                   1.231\n",
      "Prob(Omnibus):                    nan   Jarque-Bera (JB):                0.716\n",
      "Skew:                           0.103   Prob(JB):                        0.699\n",
      "Kurtosis:                       1.320   Cond. No.                         2.86\n",
      "==============================================================================\n",
      "\n",
      "Notes:\n",
      "[1] Standard Errors assume that the covariance matrix of the errors is correctly specified.\n"
     ]
    },
    {
     "name": "stderr",
     "output_type": "stream",
     "text": [
      "/Users/julielaustsen/opt/anaconda3/anaconda3/lib/python3.8/site-packages/statsmodels/stats/stattools.py:74: ValueWarning: omni_normtest is not valid with less than 8 observations; 6 samples were given.\n",
      "  warn(\"omni_normtest is not valid with less than 8 observations; %i \"\n"
     ]
    }
   ],
   "source": [
    "\"\"\"\n",
    "We perform the third regression in order to determine whether there is a low risk anomaly\n",
    "\"\"\"\n",
    "Y = alphas.tolist()\n",
    "X = betas.tolist() \n",
    "X2 = sm.add_constant(X)\n",
    "result = sm.OLS(Y, X2).fit()\n",
    "print(result.summary())"
   ]
  },
  {
   "cell_type": "code",
   "execution_count": 29,
   "id": "8019f2a6",
   "metadata": {},
   "outputs": [],
   "source": [
    "\"\"\"\n",
    "We create a datafram in order to draw the linear regression\n",
    "\"\"\"\n",
    "line = pd.DataFrame()\n",
    "line['fik betas']=[-1,-0.75,-0.5,-0.25,0,0.25,0.5,0.75,1, 1.25, 1.5, 1.75, 2]\n",
    "line['line']=0.0025*10000-0.0077*10000*line['fik betas'] #the values is from above regression. We multiply with 1000 to get bps"
   ]
  },
  {
   "cell_type": "code",
   "execution_count": 32,
   "id": "7174e896",
   "metadata": {},
   "outputs": [
    {
     "data": {
      "image/png": "[encoded data removed]",
      "text/plain": [
       "<Figure size 1152x720 with 1 Axes>"
      ]
     },
     "metadata": {
      "needs_background": "light"
     },
     "output_type": "display_data"
    }
   ],
   "source": [
    "\"\"\"\n",
    "We plot the linear regression along with the 6 pairs of alpha and beta\n",
    "\"\"\"\n",
    "fig, ax = plt.subplots(1, 1,figsize=(16,10))\n",
    "ax.scatter(descriptive20.iloc[3,:],descriptive20.iloc[0,:]*10000, color='blue', label='Equal weighted')\n",
    "ax.scatter(descriptive21.iloc[3,:],descriptive21.iloc[0,:]*10000, color='green', label='Value weighted')\n",
    "ax.plot(line['fik betas'],line['line'], color='black', label='linear regression')\n",
    "ax.set_xlim([-0,2])\n",
    "ax.set_xlabel('Beta', fontsize=14)\n",
    "ax.set_ylabel('alpha (bps)', fontsize=14)\n",
    "ax.text(1.25,-55,'y=-77x-25', fontsize=12)\n",
    "ax.legend();"
   ]
  }
 ],
 "metadata": {
  "hide_input": false,
  "kernelspec": {
   "display_name": "Python 3",
   "language": "python",
   "name": "python3"
  },
  "language_info": {
   "codemirror_mode": {
    "name": "ipython",
    "version": 3
   },
   "file_extension": ".py",
   "mimetype": "text/x-python",
   "name": "python",
   "nbconvert_exporter": "python",
   "pygments_lexer": "ipython3",
   "version": "3.8.2"
  },
  "latex_envs": {
   "LaTeX_envs_menu_present": true,
   "autoclose": false,
   "autocomplete": true,
   "bibliofile": "biblio.bib",
   "cite_by": "apalike",
   "current_citInitial": 1,
   "eqLabelWithNumbers": true,
   "eqNumInitial": 1,
   "hotkeys": {
    "equation": "Ctrl-E",
    "itemize": "Ctrl-I"
   },
   "labels_anchors": false,
   "latex_user_defs": false,
   "report_style_numbering": false,
   "user_envs_cfg": false
  },
  "toc": {
   "base_numbering": 1,
   "nav_menu": {},
   "number_sections": true,
   "sideBar": true,
   "skip_h1_title": false,
   "title_cell": "Table of Contents",
   "title_sidebar": "Contents",
   "toc_cell": true,
   "toc_position": {},
   "toc_section_display": true,
   "toc_window_display": true
  }
 },
 "nbformat": 4,
 "nbformat_minor": 5
}
