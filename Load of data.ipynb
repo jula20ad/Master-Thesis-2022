{
 "cells": [
  {
   "cell_type": "markdown",
   "id": "adcf88c1",
   "metadata": {
    "toc": true
   },
   "source": [
    "<h1>Table of Contents<span class=\"tocSkip\"></span></h1>\n",
    "<div class=\"toc\"><ul class=\"toc-item\"><li><span><a href=\"#Load-data\" data-toc-modified-id=\"Load-data-1\"><span class=\"toc-item-num\">1&nbsp;&nbsp;</span>Load data</a></span></li><li><span><a href=\"#Inspect-data\" data-toc-modified-id=\"Inspect-data-2\"><span class=\"toc-item-num\">2&nbsp;&nbsp;</span>Inspect data</a></span></li><li><span><a href=\"#Save-for-later-use\" data-toc-modified-id=\"Save-for-later-use-3\"><span class=\"toc-item-num\">3&nbsp;&nbsp;</span>Save for later use</a></span></li><li><span><a href=\"#Excess-Market-return\" data-toc-modified-id=\"Excess-Market-return-4\"><span class=\"toc-item-num\">4&nbsp;&nbsp;</span>Excess Market return</a></span></li><li><span><a href=\"#Data-cleaning\" data-toc-modified-id=\"Data-cleaning-5\"><span class=\"toc-item-num\">5&nbsp;&nbsp;</span>Data cleaning</a></span></li><li><span><a href=\"#Variables-calculations\" data-toc-modified-id=\"Variables-calculations-6\"><span class=\"toc-item-num\">6&nbsp;&nbsp;</span>Variables calculations</a></span></li><li><span><a href=\"#Descriptive-statistics-tabel\" data-toc-modified-id=\"Descriptive-statistics-tabel-7\"><span class=\"toc-item-num\">7&nbsp;&nbsp;</span>Descriptive statistics tabel</a></span></li></ul></div>"
   ]
  },
  {
   "cell_type": "code",
   "execution_count": 178,
   "id": "41244531",
   "metadata": {},
   "outputs": [
    {
     "name": "stdout",
     "output_type": "stream",
     "text": [
      "The autoreload extension is already loaded. To reload it, use:\n",
      "  %reload_ext autoreload\n"
     ]
    }
   ],
   "source": [
    "%load_ext autoreload\n",
    "%autoreload 2\n",
    "\n",
    "\"\"\"\n",
    "Load relevant packages \n",
    "\"\"\"\n",
    "\n",
    "import numpy as np\n",
    "import matplotlib.pyplot as plt\n",
    "import os\n",
    "import seaborn as sns\n",
    "import pandas as pd\n",
    "import matplotlib.ticker as mtick\n",
    "from matplotlib import animation, cm\n",
    "from scipy import stats\n",
    "import pandas_datareader as pdr\n",
    "import datetime\n",
    "import seaborn as sns\n",
    "import matplotlib.ticker as ticker\n",
    "import datetime\n",
    "from scipy.stats import chi2\n",
    "import pickle\n",
    "from scipy import optimize\n",
    "from matplotlib.ticker import FormatStrFormatter\n",
    "from scipy.stats import kurtosis\n",
    "from scipy.stats import skew\n",
    "\n",
    "from typing import Union, List"
   ]
  },
  {
   "cell_type": "markdown",
   "id": "3a4b45ec",
   "metadata": {},
   "source": [
    "### Load data"
   ]
  },
  {
   "cell_type": "code",
   "execution_count": 179,
   "id": "4197f8ab",
   "metadata": {},
   "outputs": [
    {
     "data": {
      "text/html": [
       "<div>\n",
       "<style scoped>\n",
       "    .dataframe tbody tr th:only-of-type {\n",
       "        vertical-align: middle;\n",
       "    }\n",
       "\n",
       "    .dataframe tbody tr th {\n",
       "        vertical-align: top;\n",
       "    }\n",
       "\n",
       "    .dataframe thead th {\n",
       "        text-align: right;\n",
       "    }\n",
       "</style>\n",
       "<table border=\"1\" class=\"dataframe\">\n",
       "  <thead>\n",
       "    <tr style=\"text-align: right;\">\n",
       "      <th></th>\n",
       "      <th>euribor 3-month (Y)</th>\n",
       "    </tr>\n",
       "    <tr>\n",
       "      <th>Date</th>\n",
       "      <th></th>\n",
       "    </tr>\n",
       "  </thead>\n",
       "  <tbody>\n",
       "    <tr>\n",
       "      <th>1999-01-24</th>\n",
       "      <td>0.031321</td>\n",
       "    </tr>\n",
       "    <tr>\n",
       "      <th>1999-02-24</th>\n",
       "      <td>0.030934</td>\n",
       "    </tr>\n",
       "    <tr>\n",
       "      <th>1999-03-24</th>\n",
       "      <td>0.030467</td>\n",
       "    </tr>\n",
       "    <tr>\n",
       "      <th>1999-04-24</th>\n",
       "      <td>0.026965</td>\n",
       "    </tr>\n",
       "    <tr>\n",
       "      <th>1999-05-24</th>\n",
       "      <td>0.025790</td>\n",
       "    </tr>\n",
       "  </tbody>\n",
       "</table>\n",
       "</div>"
      ],
      "text/plain": [
       "            euribor 3-month (Y)\n",
       "Date                           \n",
       "1999-01-24             0.031321\n",
       "1999-02-24             0.030934\n",
       "1999-03-24             0.030467\n",
       "1999-04-24             0.026965\n",
       "1999-05-24             0.025790"
      ]
     },
     "execution_count": 179,
     "metadata": {},
     "output_type": "execute_result"
    }
   ],
   "source": [
    "\"\"\"\n",
    "Import risk free rate\n",
    "\"\"\"\n",
    "df_rf = pd.DataFrame(pd.read_excel(\"/Users/julielaustsen/Desktop/OneDrive/UNI/Speciale /Data/Risk free rate/euriobor-ready_to_python.xlsx\", index_col=0, header=1,sheet_name='to python') )\n",
    "df_rf = df_rf.drop(columns=['Unnamed: 2'])\n",
    "df_rf.head()"
   ]
  },
  {
   "cell_type": "code",
   "execution_count": 180,
   "id": "8c4affbb",
   "metadata": {},
   "outputs": [
    {
     "data": {
      "text/html": [
       "<div>\n",
       "<style scoped>\n",
       "    .dataframe tbody tr th:only-of-type {\n",
       "        vertical-align: middle;\n",
       "    }\n",
       "\n",
       "    .dataframe tbody tr th {\n",
       "        vertical-align: top;\n",
       "    }\n",
       "\n",
       "    .dataframe thead th {\n",
       "        text-align: right;\n",
       "    }\n",
       "</style>\n",
       "<table border=\"1\" class=\"dataframe\">\n",
       "  <thead>\n",
       "    <tr style=\"text-align: right;\">\n",
       "      <th></th>\n",
       "      <th>EUROPE IMI (price)</th>\n",
       "      <th>EUROPE IMI (return)</th>\n",
       "    </tr>\n",
       "    <tr>\n",
       "      <th>Date</th>\n",
       "      <th></th>\n",
       "      <th></th>\n",
       "    </tr>\n",
       "  </thead>\n",
       "  <tbody>\n",
       "    <tr>\n",
       "      <th>1999-01-24</th>\n",
       "      <td>702.872</td>\n",
       "      <td>0.000000</td>\n",
       "    </tr>\n",
       "    <tr>\n",
       "      <th>1999-02-24</th>\n",
       "      <td>710.217</td>\n",
       "      <td>0.010450</td>\n",
       "    </tr>\n",
       "    <tr>\n",
       "      <th>1999-03-24</th>\n",
       "      <td>727.125</td>\n",
       "      <td>0.023807</td>\n",
       "    </tr>\n",
       "    <tr>\n",
       "      <th>1999-04-24</th>\n",
       "      <td>764.111</td>\n",
       "      <td>0.050866</td>\n",
       "    </tr>\n",
       "    <tr>\n",
       "      <th>1999-05-24</th>\n",
       "      <td>742.658</td>\n",
       "      <td>-0.028076</td>\n",
       "    </tr>\n",
       "  </tbody>\n",
       "</table>\n",
       "</div>"
      ],
      "text/plain": [
       "           EUROPE IMI (price)  EUROPE IMI (return)\n",
       "Date                                              \n",
       "1999-01-24            702.872             0.000000\n",
       "1999-02-24            710.217             0.010450\n",
       "1999-03-24            727.125             0.023807\n",
       "1999-04-24            764.111             0.050866\n",
       "1999-05-24            742.658            -0.028076"
      ]
     },
     "execution_count": 180,
     "metadata": {},
     "output_type": "execute_result"
    }
   ],
   "source": [
    "\"\"\"\n",
    "Import market data\n",
    "\"\"\"\n",
    "\n",
    "df_mkt = pd.DataFrame(pd.read_excel(\"/Users/julielaustsen/Desktop/OneDrive/UNI/Speciale /Data/Market data/market data to python.xlsx\", index_col=0, header=1,sheet_name='to python') )\n",
    "df_mkt.head()"
   ]
  },
  {
   "cell_type": "code",
   "execution_count": 397,
   "id": "3306d272",
   "metadata": {},
   "outputs": [],
   "source": [
    "\"\"\"\n",
    "Import bank data \n",
    "\"\"\"\n",
    "path = \"/Users/julielaustsen/Desktop/OneDrive/UNI/Speciale /Data/Eikon\"\n",
    "os.chdir(path) \n",
    "\n",
    "#importér data    \n",
    "df = pd.read_excel('Eikon_data_to_python.xlsx', index_col=0)"
   ]
  },
  {
   "cell_type": "code",
   "execution_count": 398,
   "id": "f1cdec66",
   "metadata": {},
   "outputs": [],
   "source": [
    "\"\"\"\n",
    "Create dictionary with the banks as keys\n",
    "\"\"\"\n",
    "#list with banks' name\n",
    "no_banks = np.int32(df.shape[1]/15) #Antal banker\n",
    "banks_names = [] #empty array\n",
    "for i in np.arange(no_banks):\n",
    "    banks_names.append(df.columns[i*15].split(' - MARKET',1)[0]) \n",
    "    \n",
    "#dictionary with all banks\n",
    "data = {}\n",
    "for index, value in enumerate(banks_names): #enumerate gives the index and thee value\n",
    "    data[value] = df.iloc[:,index*15:index*15+15]\n",
    "\n",
    "#export a bank to excel - to check\n",
    "#data['SPAREBANKEN VEST'].to_excel('sparebanken vest.xlsx')"
   ]
  },
  {
   "cell_type": "markdown",
   "id": "8b262e94",
   "metadata": {},
   "source": [
    "### Inspect data"
   ]
  },
  {
   "cell_type": "code",
   "execution_count": 383,
   "id": "ed5825f2",
   "metadata": {},
   "outputs": [
    {
     "name": "stdout",
     "output_type": "stream",
     "text": [
      "234\n",
      "234\n",
      "234\n"
     ]
    }
   ],
   "source": [
    "\"\"\"\n",
    "Control numbers of banks and keys\n",
    "Note there is a difference between the numbers of banks and keys in the dictionary\n",
    "\"\"\"\n",
    "print(len(banks_names))\n",
    "print(len(data.keys()))\n",
    "print(no_banks)"
   ]
  },
  {
   "cell_type": "code",
   "execution_count": 384,
   "id": "c0307eb9",
   "metadata": {},
   "outputs": [],
   "source": [
    "\"\"\"\n",
    "Count of unique bank names. It list the banks that are mentioned more than 1 time\n",
    "The dictionary will always take the last observation in the dataset. \n",
    "BANCA ANTONVENETA DEAD - 06/04/06 appeared 7 times by mistake. This is changed in excel data now. \n",
    "\"\"\"\n",
    "compa = {i:banks_names.count(i) for i in banks_names}\n",
    "for i in compa:\n",
    "    if compa[i] > 1:\n",
    "        print(i)"
   ]
  },
  {
   "cell_type": "code",
   "execution_count": 311,
   "id": "3717955a",
   "metadata": {},
   "outputs": [],
   "source": [
    "\"\"\"\n",
    "Save data on disk\n",
    "\"\"\"\n",
    "#gem dicionary på disk\n",
    "with open('data', 'wb') as data_dict:\n",
    "   pickle.dump(data, data_dict)\n",
    "\n",
    "#save np.array on disk so we don't have to import all data again\n",
    "with open('data_matrix', 'wb') as data_numpy:\n",
    "   pickle.dump(data_matrix, data_numpy)    \n",
    "    \n",
    "\n",
    "#load data\n",
    "with open('data', 'rb') as data_dict:\n",
    "    data = pickle.load(data_dict)\n",
    "\n",
    "with open('data_matrix', 'rb') as data_numpy:\n",
    "    data_matrix = pickle.load(data_numpy)\n",
    "\n"
   ]
  },
  {
   "cell_type": "markdown",
   "id": "79857f69",
   "metadata": {},
   "source": [
    "### Save for later use"
   ]
  },
  {
   "cell_type": "code",
   "execution_count": 386,
   "id": "7571874a",
   "metadata": {},
   "outputs": [
    {
     "data": {
      "text/plain": [
       "[]"
      ]
     },
     "execution_count": 386,
     "metadata": {},
     "output_type": "execute_result"
    }
   ],
   "source": [
    "\"\"\"\n",
    "Save for later comparing to lists\n",
    "\"\"\"\n",
    "main_list = list(set(banks_names) - set(data.keys()))\n",
    "main_list"
   ]
  },
  {
   "cell_type": "code",
   "execution_count": null,
   "id": "f90a1a2e",
   "metadata": {},
   "outputs": [],
   "source": [
    "\"\"\"\n",
    "Dictionary to np-array - FRGR save for later\n",
    "\"\"\"\n",
    "#Create empty numpy array (3D) for all the data\n",
    "dim_1 = data[list(data.keys())[0]].shape[0]\n",
    "dim_2 = data[list(data.keys())[0]].shape[1]\n",
    "dim_3 = len(banks_names)\n",
    "\n",
    "data_matrix = np.empty([dim_1,dim_2,dim_3])\n",
    "\n",
    "#Load data from dictionary to np.array\n",
    "for index, value in enumerate(banks_names):\n",
    "    data_matrix[:,:,index] = data[value]\n"
   ]
  },
  {
   "cell_type": "markdown",
   "id": "f91350f3",
   "metadata": {},
   "source": [
    "______________________\n",
    "\n",
    "### Excess Market return"
   ]
  },
  {
   "cell_type": "code",
   "execution_count": 184,
   "id": "a8aeeafa",
   "metadata": {},
   "outputs": [],
   "source": [
    "\"\"\"\n",
    "Calculating excess return\n",
    "\"\"\"\n",
    "excess_mkt= df_mkt['EUROPE IMI (return)'] - df_rf['euribor 3-month (Y)']\n",
    "df_mkt.insert(2, 'EUROPE IM (excess)', excess_mkt) #Adding the excess market return to the existing dataframe"
   ]
  },
  {
   "cell_type": "code",
   "execution_count": 215,
   "id": "658594e8",
   "metadata": {},
   "outputs": [],
   "source": [
    "\"\"\"\n",
    "Creating a empty np.array to fill our calculations into\n",
    "\"\"\"\n",
    "dim_1 = data[list(data.keys())[0]].shape[0]\n",
    "dim_2 = data[list(data.keys())[0]].shape[1]\n",
    "dim_3 = len(banks_names)\n",
    "\n",
    "calc_data = np.empty([dim_1-1,11,dim_3]) #11 is the number of variables we want"
   ]
  },
  {
   "cell_type": "markdown",
   "id": "892f8d5a",
   "metadata": {},
   "source": [
    "### Data cleaning"
   ]
  },
  {
   "cell_type": "code",
   "execution_count": 400,
   "id": "17e18d41",
   "metadata": {},
   "outputs": [],
   "source": [
    "\"\"\"\n",
    "We want the same amount of observations for market capitalization and price, so when we are calculating returns\n",
    "we are able to do value weighted portfolios. We therefore create a new dictionary where a market value and price\n",
    "both got the value nan if one of the variable is missing. \n",
    "\"\"\"\n",
    "data_nan = {} #create a new empty dictionary\n",
    "for i in data.keys():\n",
    "    data_nan[i] = data[i]\n",
    "    data_nan[i].loc[data_nan[i].iloc[:,:2].isnull().any(axis=1), :] = np.nan #we replace with the value nan, if a observation is missing mkt cap or price"
   ]
  },
  {
   "cell_type": "code",
   "execution_count": 401,
   "id": "b80c79a6",
   "metadata": {},
   "outputs": [],
   "source": [
    "\"\"\"\n",
    "Now we want to remove any banks that might have all values = nan. We create a new dictionary where these are removed\n",
    "\"\"\"\n",
    "data_nan_re = data_nan.copy() \n",
    "for i in data_nan.keys():\n",
    "    if np.int32(data_nan_re[i].isna().sum().mean()) == data_nan_re[i].shape[0]: #remove the bank/key if the mean of nan is = shape of the dataframe\n",
    "        del data_nan_re[i]"
   ]
  },
  {
   "cell_type": "code",
   "execution_count": 402,
   "id": "a70ae237",
   "metadata": {},
   "outputs": [
    {
     "name": "stdout",
     "output_type": "stream",
     "text": [
      "226\n",
      "234\n"
     ]
    }
   ],
   "source": [
    "\"\"\"\n",
    "We see that we have removed 8 banks/keys\n",
    "\"\"\"\n",
    "print(len(data_nan_re.keys()))\n",
    "print(len(data_nan.keys()))"
   ]
  },
  {
   "cell_type": "markdown",
   "id": "c59f7724",
   "metadata": {},
   "source": [
    "### Variables calculations"
   ]
  },
  {
   "cell_type": "code",
   "execution_count": 491,
   "id": "3f6dab0a",
   "metadata": {},
   "outputs": [],
   "source": [
    "\"\"\"\n",
    "Dimension of our cleaned data\n",
    "\"\"\"\n",
    "dim_1 = data_nan_re[list(data_nan_re.keys())[0]].shape[0]\n",
    "dim_2 = data_nan_re[list(data_nan_re.keys())[0]].shape[1]\n",
    "dim_3 = len(data_nan_re.keys())"
   ]
  },
  {
   "cell_type": "code",
   "execution_count": 463,
   "id": "0f737706",
   "metadata": {},
   "outputs": [],
   "source": [
    "\"\"\"\n",
    "Creating a dictionary with the variables we need for calculations\n",
    "\"\"\"\n",
    "data_calc = {}\n",
    "for i in data_nan_re.keys():\n",
    "    data_calc[i] = pd.DataFrame(data_nan_re[i].iloc[:,0])\n",
    "    ret = data_nan_re[i].iloc[:,1].diff()/data_nan_re[i].iloc[1:,0]\n",
    "    data_calc[i]['Return'] = ret\n",
    "    data_calc[i]['Excess Return'] = ret - df_rf['euribor 3-month (Y)'][1:]\n",
    "    equ = data_nan_re[i].iloc[:,7] - data_nan_re[i].iloc[:,9]\n",
    "    data_calc[i]['Book Equity'] = equ\n",
    "    data_calc[i]['Book Leverage ratio'] = data_nan_re[i].iloc[:,9] / data_nan_re[i].iloc[:,6]\n",
    "    data_calc[i]['Book Equity ratio'] = equ / data_nan_re[i].iloc[:,6]\n",
    "    data_calc[i]['Book Equity/RWA'] = equ / data_nan_re[i].iloc[:,10]\n",
    "    data_calc[i]['Tier 1 ratio'] = data_nan_re[i].iloc[:,13] / data_nan_re[i].iloc[:,6]\n",
    "    data_calc[i]['Tier 1/RWA'] = data_nan_re[i].iloc[:,13] / data_nan_re[i].iloc[:,10]\n",
    "    data_calc[i]['Total Assets'] = data_nan_re[i].iloc[:,6]\n",
    "    data_calc[i]['Total Risk Weighted Assets'] = data_nan_re[i].iloc[:,10]"
   ]
  },
  {
   "cell_type": "code",
   "execution_count": 471,
   "id": "b6811303",
   "metadata": {},
   "outputs": [
    {
     "data": {
      "text/html": [
       "<div>\n",
       "<style scoped>\n",
       "    .dataframe tbody tr th:only-of-type {\n",
       "        vertical-align: middle;\n",
       "    }\n",
       "\n",
       "    .dataframe tbody tr th {\n",
       "        vertical-align: top;\n",
       "    }\n",
       "\n",
       "    .dataframe thead th {\n",
       "        text-align: right;\n",
       "    }\n",
       "</style>\n",
       "<table border=\"1\" class=\"dataframe\">\n",
       "  <thead>\n",
       "    <tr style=\"text-align: right;\">\n",
       "      <th></th>\n",
       "      <th>HSBC HOLDINGS - MARKET VALUE</th>\n",
       "      <th>Return</th>\n",
       "      <th>Excess Return</th>\n",
       "      <th>Book Equity</th>\n",
       "      <th>Book Leverage ratio</th>\n",
       "      <th>Book Equity ratio</th>\n",
       "      <th>Book Equity/RWA</th>\n",
       "      <th>Tier 1 ratio</th>\n",
       "      <th>Tier 1/RWA</th>\n",
       "      <th>Total Assets</th>\n",
       "      <th>Total Risk Weighte Assets</th>\n",
       "    </tr>\n",
       "    <tr>\n",
       "      <th>Date</th>\n",
       "      <th></th>\n",
       "      <th></th>\n",
       "      <th></th>\n",
       "      <th></th>\n",
       "      <th></th>\n",
       "      <th></th>\n",
       "      <th></th>\n",
       "      <th></th>\n",
       "      <th></th>\n",
       "      <th></th>\n",
       "      <th></th>\n",
       "    </tr>\n",
       "  </thead>\n",
       "  <tbody>\n",
       "    <tr>\n",
       "      <th>1999-01-24</th>\n",
       "      <td>21058.787791</td>\n",
       "      <td>NaN</td>\n",
       "      <td>NaN</td>\n",
       "      <td>22938283.0</td>\n",
       "      <td>0.934854</td>\n",
       "      <td>0.065146</td>\n",
       "      <td>0.110247</td>\n",
       "      <td>0.050161</td>\n",
       "      <td>0.084888</td>\n",
       "      <td>352108246.0</td>\n",
       "      <td>208061994.0</td>\n",
       "    </tr>\n",
       "    <tr>\n",
       "      <th>1999-02-24</th>\n",
       "      <td>22972.391653</td>\n",
       "      <td>0.001694</td>\n",
       "      <td>-0.029240</td>\n",
       "      <td>22938283.0</td>\n",
       "      <td>0.934854</td>\n",
       "      <td>0.065146</td>\n",
       "      <td>0.110247</td>\n",
       "      <td>0.050161</td>\n",
       "      <td>0.084888</td>\n",
       "      <td>352108246.0</td>\n",
       "      <td>208061994.0</td>\n",
       "    </tr>\n",
       "    <tr>\n",
       "      <th>1999-03-24</th>\n",
       "      <td>24795.379785</td>\n",
       "      <td>0.001113</td>\n",
       "      <td>-0.029354</td>\n",
       "      <td>22938283.0</td>\n",
       "      <td>0.934854</td>\n",
       "      <td>0.065146</td>\n",
       "      <td>0.110247</td>\n",
       "      <td>0.050161</td>\n",
       "      <td>0.084888</td>\n",
       "      <td>352108246.0</td>\n",
       "      <td>208061994.0</td>\n",
       "    </tr>\n",
       "    <tr>\n",
       "      <th>1999-04-24</th>\n",
       "      <td>31032.689088</td>\n",
       "      <td>0.004034</td>\n",
       "      <td>-0.022931</td>\n",
       "      <td>22938283.0</td>\n",
       "      <td>0.934854</td>\n",
       "      <td>0.065146</td>\n",
       "      <td>0.110247</td>\n",
       "      <td>0.050161</td>\n",
       "      <td>0.084888</td>\n",
       "      <td>352108246.0</td>\n",
       "      <td>208061994.0</td>\n",
       "    </tr>\n",
       "    <tr>\n",
       "      <th>1999-05-24</th>\n",
       "      <td>29293.251345</td>\n",
       "      <td>-0.002291</td>\n",
       "      <td>-0.028081</td>\n",
       "      <td>22938283.0</td>\n",
       "      <td>0.934854</td>\n",
       "      <td>0.065146</td>\n",
       "      <td>0.110247</td>\n",
       "      <td>0.050161</td>\n",
       "      <td>0.084888</td>\n",
       "      <td>352108246.0</td>\n",
       "      <td>208061994.0</td>\n",
       "    </tr>\n",
       "  </tbody>\n",
       "</table>\n",
       "</div>"
      ],
      "text/plain": [
       "            HSBC HOLDINGS - MARKET VALUE    Return  Excess Return  \\\n",
       "Date                                                                \n",
       "1999-01-24                  21058.787791       NaN            NaN   \n",
       "1999-02-24                  22972.391653  0.001694      -0.029240   \n",
       "1999-03-24                  24795.379785  0.001113      -0.029354   \n",
       "1999-04-24                  31032.689088  0.004034      -0.022931   \n",
       "1999-05-24                  29293.251345 -0.002291      -0.028081   \n",
       "\n",
       "            Book Equity  Book Leverage ratio  Book Equity ratio  \\\n",
       "Date                                                              \n",
       "1999-01-24   22938283.0             0.934854           0.065146   \n",
       "1999-02-24   22938283.0             0.934854           0.065146   \n",
       "1999-03-24   22938283.0             0.934854           0.065146   \n",
       "1999-04-24   22938283.0             0.934854           0.065146   \n",
       "1999-05-24   22938283.0             0.934854           0.065146   \n",
       "\n",
       "            Book Equity/RWA  Tier 1 ratio  Tier 1/RWA  Total Assets  \\\n",
       "Date                                                                  \n",
       "1999-01-24         0.110247      0.050161    0.084888   352108246.0   \n",
       "1999-02-24         0.110247      0.050161    0.084888   352108246.0   \n",
       "1999-03-24         0.110247      0.050161    0.084888   352108246.0   \n",
       "1999-04-24         0.110247      0.050161    0.084888   352108246.0   \n",
       "1999-05-24         0.110247      0.050161    0.084888   352108246.0   \n",
       "\n",
       "            Total Risk Weighte Assets  \n",
       "Date                                   \n",
       "1999-01-24                208061994.0  \n",
       "1999-02-24                208061994.0  \n",
       "1999-03-24                208061994.0  \n",
       "1999-04-24                208061994.0  \n",
       "1999-05-24                208061994.0  "
      ]
     },
     "execution_count": 471,
     "metadata": {},
     "output_type": "execute_result"
    }
   ],
   "source": [
    "#How to see data with numbers\n",
    "data_calc[list(data_calc.keys())[0]].head()"
   ]
  },
  {
   "cell_type": "markdown",
   "id": "e34850b1",
   "metadata": {},
   "source": [
    "### Descriptive statistics tabel"
   ]
  },
  {
   "cell_type": "code",
   "execution_count": 508,
   "id": "30a7cb69",
   "metadata": {},
   "outputs": [],
   "source": [
    "\"\"\"\n",
    "Create a empty dataframe and fill it with descriptive statistics\n",
    "\"\"\"\n",
    "descriptive1=pd.DataFrame(columns=['Observation','Mean', 'Median', 'Min', 'Max'])\n",
    "\n",
    "#returns\n",
    "descriptive1.loc['Return','Observation']= '{:,.0f}'.format(dim_1*dim_3-np.count_nonzero(np.isnan(np.array([data_calc[i].iloc[:,1] for i in data_calc.keys()]))),4)\n",
    "descriptive1.loc['Return', 'Mean']= round(np.nanmean(np.array([data_calc[i].iloc[:,1] for i in data_calc.keys()])),4)#nanmean=Compute the arithmetic mean along the specified axis, ignoring NaNs.\n",
    "descriptive1.loc['Return', 'Median']= round(np.nanmedian(np.array([data_calc[i].iloc[:,1] for i in data_calc.keys()])),4) #nanmedian=Compute the median along the specified axis, while ignoring NaNs.\n",
    "descriptive1.loc['Return', 'Min']= round(np.nanmin(np.array([data_calc[i].iloc[:,1] for i in data_calc.keys()])),4)\n",
    "descriptive1.loc['Return', 'Max']= round(np.nanmax(np.array([data_calc[i].iloc[:,1] for i in data_calc.keys()])),4)\n",
    "\n",
    "#Market capitalization\n",
    "descriptive1.loc['Market capitalization in mill','Observation']= '{:,.0f}'.format(dim_1*dim_3-np.count_nonzero(np.isnan(np.array([data_calc[i].iloc[:,0] for i in data_calc.keys()]))),4)\n",
    "descriptive1.loc['Market capitalization in mill', 'Mean']= '{:,.0f}'.format(np.nanmean(np.array([data_calc[i].iloc[:,0] for i in data_calc.keys()])),0)\n",
    "descriptive1.loc['Market capitalization in mill', 'Median']= '{:,.0f}'.format(np.nanmedian(np.array([data_calc[i].iloc[:,0] for i in data_calc.keys()])),0)\n",
    "descriptive1.loc['Market capitalization in mill', 'Min']= '{:,.0f}'.format(np.nanmin(np.array([data_calc[i].iloc[:,0] for i in data_calc.keys()])),0)\n",
    "descriptive1.loc['Market capitalization in mill', 'Max']= '{:,.0f}'.format(np.nanmax(np.array([data_calc[i].iloc[:,0] for i in data_calc.keys()])),0)\n",
    "\n",
    "#Market excess return\n",
    "descriptive1.loc['Market excess return','Observation'] = 275-df_mkt['EUROPE IM (excess)'].isna().sum()\n",
    "descriptive1.loc['Market excess return', 'Mean']= round(df_mkt['EUROPE IM (excess)'].mean(skipna=True),4)\n",
    "descriptive1.loc['Market excess return', 'Median']= round(df_mkt['EUROPE IM (excess)'].median(skipna=True),4)\n",
    "descriptive1.loc['Market excess return', 'Min']= round(df_mkt['EUROPE IM (excess)'].min(skipna=True),4)\n",
    "descriptive1.loc['Market excess return', 'Max']= round(df_mkt['EUROPE IM (excess)'].max(skipna=True),4)\n",
    "\n",
    "#risk free rate\n",
    "descriptive1.loc['Risk-free rate','Observation'] = 276\n",
    "descriptive1.loc['Risk-free rate', 'Mean']= round(df_rf['euribor 3-month (Y)'].mean(skipna=True),4)\n",
    "descriptive1.loc['Risk-free rate', 'Median']= round(df_rf['euribor 3-month (Y)'].median(skipna=True),4)\n",
    "descriptive1.loc['Risk-free rate', 'Min']= round(df_rf['euribor 3-month (Y)'].min(skipna=True),4)\n",
    "descriptive1.loc['Risk-free rate', 'Max']= round(df_rf['euribor 3-month (Y)'].max(skipna=True),4)\n",
    "\n",
    "#Book leverage ratio\n",
    "descriptive1.loc['Book leverage ratio','Observation']= '{:,.0f}'.format(dim_1*dim_3-np.count_nonzero(np.isnan(np.array([data_calc[i].iloc[:,4] for i in data_calc.keys()]))),4)\n",
    "descriptive1.loc['Book leverage ratio', 'Mean']= round(np.nanmean(np.array([data_calc[i].iloc[:,4] for i in data_calc.keys()])),4)\n",
    "descriptive1.loc['Book leverage ratio', 'Median']= round(np.nanmedian(np.array([data_calc[i].iloc[:,4] for i in data_calc.keys()])),4) \n",
    "descriptive1.loc['Book leverage ratio', 'Min']= round(np.nanmin(np.array([data_calc[i].iloc[:,4] for i in data_calc.keys()])),4)\n",
    "descriptive1.loc['Book leverage ratio', 'Max']= round(np.nanmax(np.array([data_calc[i].iloc[:,4] for i in data_calc.keys()])),4)\n",
    "\n",
    "#Book equity ratio\n",
    "descriptive1.loc['Book equity ratio','Observation']= '{:,.0f}'.format(dim_1*dim_3-np.count_nonzero(np.isnan(np.array([data_calc[i].iloc[:,5] for i in data_calc.keys()]))),4)\n",
    "descriptive1.loc['Book equity ratio', 'Mean']= round(np.nanmean(np.array([data_calc[i].iloc[:,5] for i in data_calc.keys()])),4)\n",
    "descriptive1.loc['Book equity ratio', 'Median']= round(np.nanmedian(np.array([data_calc[i].iloc[:,5] for i in data_calc.keys()])),4) \n",
    "descriptive1.loc['Book equity ratio', 'Min']= round(np.nanmin(np.array([data_calc[i].iloc[:,5] for i in data_calc.keys()])),4)\n",
    "descriptive1.loc['Book equity ratio', 'Max']= round(np.nanmax(np.array([data_calc[i].iloc[:,5] for i in data_calc.keys()])),4)\n",
    "\n",
    "#Tier 1 ratio\n",
    "descriptive1.loc['Tier 1 ratio','Observation']= '{:,.0f}'.format(dim_1*dim_3-np.count_nonzero(np.isnan(np.array([data_calc[i].iloc[:,7] for i in data_calc.keys()]))),4)\n",
    "descriptive1.loc['Tier 1 ratio', 'Mean']= round(np.nanmean(np.array([data_calc[i].iloc[:,7] for i in data_calc.keys()])),4)\n",
    "descriptive1.loc['Tier 1 ratio', 'Median']= round(np.nanmedian(np.array([data_calc[i].iloc[:,7] for i in data_calc.keys()])),4) \n",
    "descriptive1.loc['Tier 1 ratio', 'Min']= round(np.nanmin(np.array([data_calc[i].iloc[:,7] for i in data_calc.keys()])),4)\n",
    "descriptive1.loc['Tier 1 ratio', 'Max']= round(np.nanmax(np.array([data_calc[i].iloc[:,7] for i in data_calc.keys()])),4)"
   ]
  },
  {
   "cell_type": "code",
   "execution_count": 510,
   "id": "c4ac17e4",
   "metadata": {},
   "outputs": [
    {
     "data": {
      "text/html": [
       "<div>\n",
       "<style scoped>\n",
       "    .dataframe tbody tr th:only-of-type {\n",
       "        vertical-align: middle;\n",
       "    }\n",
       "\n",
       "    .dataframe tbody tr th {\n",
       "        vertical-align: top;\n",
       "    }\n",
       "\n",
       "    .dataframe thead th {\n",
       "        text-align: right;\n",
       "    }\n",
       "</style>\n",
       "<table border=\"1\" class=\"dataframe\">\n",
       "  <thead>\n",
       "    <tr style=\"text-align: right;\">\n",
       "      <th></th>\n",
       "      <th>Observation</th>\n",
       "      <th>Mean</th>\n",
       "      <th>Median</th>\n",
       "      <th>Min</th>\n",
       "      <th>Max</th>\n",
       "    </tr>\n",
       "  </thead>\n",
       "  <tbody>\n",
       "    <tr>\n",
       "      <th>Return</th>\n",
       "      <td>41,583</td>\n",
       "      <td>-0.0039</td>\n",
       "      <td>0.0</td>\n",
       "      <td>-70.25</td>\n",
       "      <td>8.2684</td>\n",
       "    </tr>\n",
       "    <tr>\n",
       "      <th>Market capitalization in mill</th>\n",
       "      <td>41,809</td>\n",
       "      <td>7,485</td>\n",
       "      <td>793</td>\n",
       "      <td>0</td>\n",
       "      <td>176,091</td>\n",
       "    </tr>\n",
       "    <tr>\n",
       "      <th>Market excess return</th>\n",
       "      <td>275</td>\n",
       "      <td>-0.0125</td>\n",
       "      <td>-0.0063</td>\n",
       "      <td>-0.1861</td>\n",
       "      <td>0.1449</td>\n",
       "    </tr>\n",
       "    <tr>\n",
       "      <th>Risk-free rate</th>\n",
       "      <td>276</td>\n",
       "      <td>0.0155</td>\n",
       "      <td>0.0107</td>\n",
       "      <td>-0.0058</td>\n",
       "      <td>0.0511</td>\n",
       "    </tr>\n",
       "    <tr>\n",
       "      <th>Book leverage ratio</th>\n",
       "      <td>40,632</td>\n",
       "      <td>0.9271</td>\n",
       "      <td>0.9298</td>\n",
       "      <td>0.0084</td>\n",
       "      <td>34.191</td>\n",
       "    </tr>\n",
       "    <tr>\n",
       "      <th>Book equity ratio</th>\n",
       "      <td>40,632</td>\n",
       "      <td>0.0729</td>\n",
       "      <td>0.0702</td>\n",
       "      <td>-33.191</td>\n",
       "      <td>0.9916</td>\n",
       "    </tr>\n",
       "    <tr>\n",
       "      <th>Tier 1 ratio</th>\n",
       "      <td>33,930</td>\n",
       "      <td>0.0681</td>\n",
       "      <td>0.0601</td>\n",
       "      <td>-0.0011</td>\n",
       "      <td>0.6406</td>\n",
       "    </tr>\n",
       "  </tbody>\n",
       "</table>\n",
       "</div>"
      ],
      "text/plain": [
       "                              Observation    Mean  Median     Min      Max\n",
       "Return                             41,583 -0.0039     0.0  -70.25   8.2684\n",
       "Market capitalization in mill      41,809   7,485     793       0  176,091\n",
       "Market excess return                  275 -0.0125 -0.0063 -0.1861   0.1449\n",
       "Risk-free rate                        276  0.0155  0.0107 -0.0058   0.0511\n",
       "Book leverage ratio                40,632  0.9271  0.9298  0.0084   34.191\n",
       "Book equity ratio                  40,632  0.0729  0.0702 -33.191   0.9916\n",
       "Tier 1 ratio                       33,930  0.0681  0.0601 -0.0011   0.6406"
      ]
     },
     "execution_count": 510,
     "metadata": {},
     "output_type": "execute_result"
    }
   ],
   "source": [
    "\"\"\"\n",
    "Comment to Book leverage ratio max value at 39.9383 and book equity ratio min value due to the Portuguese \n",
    "bank Banco Espírito Santo. The bank was split into two (healthy and toxi) operations and it caused the \n",
    "equity value to become negative in  January 2014 which offsets in the liabilities was higher than total \n",
    "liabilities and equity. The bank was delisted in February 2016. https://en.wikipedia.org/wiki/Banco_Esp%C3%ADrito_Santo \n",
    "\n",
    "We should probably do the outlier analysis before the tabel below.\n",
    "\n",
    "Market value - wired numbers here. We need to check up on the definition in refinitive whether it is \n",
    "given in mill. We might consindering calculating market capitalization our self and use that instead however this is \n",
    "again complicated to calculated when consindering everything has to be calculated in euros.\n",
    "Difference between market value and market capitalization https://finance.zacks.com/market-value-vs-market-capitalization-3644.html\n",
    "However it makes senes the bank is Österreichische Volksbanken. The market value of 0.04 is from December 2015\n",
    "just before the bank is liquidated. \n",
    "\"\"\"\n",
    "\n",
    "\n",
    "descriptive1"
   ]
  },
  {
   "cell_type": "code",
   "execution_count": 142,
   "id": "69059c7c",
   "metadata": {},
   "outputs": [],
   "source": [
    "\"\"\"\n",
    "To control the calculations in excel\n",
    "\"\"\"\n",
    "pd.DataFrame(calc_data[:,0,:]).to_excel('test.xlsx')"
   ]
  }
 ],
 "metadata": {
  "hide_input": false,
  "kernelspec": {
   "display_name": "Python 3",
   "language": "python",
   "name": "python3"
  },
  "language_info": {
   "codemirror_mode": {
    "name": "ipython",
    "version": 3
   },
   "file_extension": ".py",
   "mimetype": "text/x-python",
   "name": "python",
   "nbconvert_exporter": "python",
   "pygments_lexer": "ipython3",
   "version": "3.8.2"
  },
  "latex_envs": {
   "LaTeX_envs_menu_present": true,
   "autoclose": false,
   "autocomplete": true,
   "bibliofile": "biblio.bib",
   "cite_by": "apalike",
   "current_citInitial": 1,
   "eqLabelWithNumbers": true,
   "eqNumInitial": 1,
   "hotkeys": {
    "equation": "Ctrl-E",
    "itemize": "Ctrl-I"
   },
   "labels_anchors": false,
   "latex_user_defs": false,
   "report_style_numbering": false,
   "user_envs_cfg": false
  },
  "toc": {
   "base_numbering": 1,
   "nav_menu": {},
   "number_sections": true,
   "sideBar": true,
   "skip_h1_title": false,
   "title_cell": "Table of Contents",
   "title_sidebar": "Contents",
   "toc_cell": true,
   "toc_position": {
    "height": "calc(100% - 180px)",
    "left": "10px",
    "top": "150px",
    "width": "256.3419189453125px"
   },
   "toc_section_display": true,
   "toc_window_display": true
  }
 },
 "nbformat": 4,
 "nbformat_minor": 5
}
