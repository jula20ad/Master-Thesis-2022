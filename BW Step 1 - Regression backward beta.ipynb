{
 "cells": [
  {
   "cell_type": "markdown",
   "id": "b7f12db3",
   "metadata": {
    "toc": true
   },
   "source": [
    "<h1>Table of Contents<span class=\"tocSkip\"></span></h1>\n",
    "<div class=\"toc\"><ul class=\"toc-item\"><li><span><a href=\"#Load-of-packages-and-data\" data-toc-modified-id=\"Load-of-packages-and-data-1\"><span class=\"toc-item-num\">1&nbsp;&nbsp;</span>Load of packages and data</a></span></li><li><span><a href=\"#Preparing-data-to-calculations\" data-toc-modified-id=\"Preparing-data-to-calculations-2\"><span class=\"toc-item-num\">2&nbsp;&nbsp;</span>Preparing data to calculations</a></span><ul class=\"toc-item\"><li><span><a href=\"#Invers-Tier-1-ratio\" data-toc-modified-id=\"Invers-Tier-1-ratio-2.1\"><span class=\"toc-item-num\">2.1&nbsp;&nbsp;</span>Invers Tier 1 ratio</a></span></li><li><span><a href=\"#Invers-Tier-1-/-Risk-weighted-assets-ratio\" data-toc-modified-id=\"Invers-Tier-1-/-Risk-weighted-assets-ratio-2.2\"><span class=\"toc-item-num\">2.2&nbsp;&nbsp;</span>Invers Tier 1 / Risk weighted assets ratio</a></span></li></ul></li><li><span><a href=\"#Regression---Forward-beta-(tabel-4-Baker-&amp;-Wurgler)\" data-toc-modified-id=\"Regression---Forward-beta-(tabel-4-Baker-&amp;-Wurgler)-3\"><span class=\"toc-item-num\">3&nbsp;&nbsp;</span>Regression - Forward beta (tabel 4 Baker &amp; Wurgler)</a></span><ul class=\"toc-item\"><li><span><a href=\"#Extra-regression-check\" data-toc-modified-id=\"Extra-regression-check-3.1\"><span class=\"toc-item-num\">3.1&nbsp;&nbsp;</span>Extra regression check</a></span></li></ul></li><li><span><a href=\"#Kernel-regression\" data-toc-modified-id=\"Kernel-regression-4\"><span class=\"toc-item-num\">4&nbsp;&nbsp;</span>Kernel regression</a></span></li><li><span><a href=\"#Shorted-time-periode\" data-toc-modified-id=\"Shorted-time-periode-5\"><span class=\"toc-item-num\">5&nbsp;&nbsp;</span>Shorted time periode</a></span><ul class=\"toc-item\"><li><span><a href=\"#Invers-tier-1-ratio---shorted-time-periode\" data-toc-modified-id=\"Invers-tier-1-ratio---shorted-time-periode-5.1\"><span class=\"toc-item-num\">5.1&nbsp;&nbsp;</span>Invers tier 1 ratio - shorted time periode</a></span></li><li><span><a href=\"#Regression\" data-toc-modified-id=\"Regression-5.2\"><span class=\"toc-item-num\">5.2&nbsp;&nbsp;</span>Regression</a></span></li><li><span><a href=\"#Extra-regression-test\" data-toc-modified-id=\"Extra-regression-test-5.3\"><span class=\"toc-item-num\">5.3&nbsp;&nbsp;</span>Extra regression test</a></span></li></ul></li></ul></div>"
   ]
  },
  {
   "cell_type": "markdown",
   "id": "ea522cf7",
   "metadata": {},
   "source": [
    "## Load of packages and data"
   ]
  },
  {
   "cell_type": "code",
   "execution_count": 1,
   "id": "78c6ff21",
   "metadata": {},
   "outputs": [],
   "source": [
    "%load_ext autoreload\n",
    "%autoreload 2\n",
    "\n",
    "\"\"\"\n",
    "Load relevant packages \n",
    "\"\"\"\n",
    "import os\n",
    "import numpy as np\n",
    "import matplotlib.pyplot as plt\n",
    "import seaborn as sns\n",
    "import pandas as pd\n",
    "from scipy import stats\n",
    "import pandas_datareader as pdr\n",
    "import datetime\n",
    "from sklearn.linear_model import LinearRegression\n",
    "import seaborn as sns\n",
    "import pickle\n",
    "from scipy.stats import kurtosis\n",
    "from scipy.stats import skew\n",
    "from typing import Union, List\n",
    "import math as m\n",
    "from sklearn import datasets, linear_model\n",
    "import statsmodels.api as sm"
   ]
  },
  {
   "cell_type": "code",
   "execution_count": 2,
   "id": "f5d39523",
   "metadata": {},
   "outputs": [],
   "source": [
    "\"\"\"\n",
    "Set path to get save data\n",
    "\"\"\"\n",
    "path = \"/Users/julielaustsen/Desktop/OneDrive/UNI/Speciale /Data/Eikon\"\n",
    "os.chdir(path) "
   ]
  },
  {
   "cell_type": "code",
   "execution_count": 3,
   "id": "2cac38c5",
   "metadata": {},
   "outputs": [],
   "source": [
    "\"\"\"\n",
    "Load saved dataframes and dictionareis\n",
    "\"\"\"\n",
    "with open('data_calc_win', 'rb') as data_dict_win:\n",
    "    data_calc_win = pickle.load(data_dict_win) \n",
    "\n",
    "with open('regress_calc', 'rb') as regress: #load backward beta\n",
    "    regress_calc = pickle.load(regress)\n",
    "    \n",
    "with open('regress_calc_for', 'rb') as regress_for: #load forward beta\n",
    "    regress_calc_for = pickle.load(regress_for)"
   ]
  },
  {
   "cell_type": "markdown",
   "id": "0a7f4430",
   "metadata": {},
   "source": [
    "## Preparing data to calculations"
   ]
  },
  {
   "cell_type": "code",
   "execution_count": 4,
   "id": "f9e23aee",
   "metadata": {},
   "outputs": [],
   "source": [
    "\"\"\"\n",
    "To get the same columns names in each dataframe\n",
    "\"\"\"\n",
    "columns_list = ['Market Value', 'Return', 'Excess Return', 'Book Equity', 'Book Leverage ratio', 'Book Equity ratio', 'Book Equity/RWA', 'Tier 1 ratio','Tier 1/RWA','Total Assets','Total Risk Weighted Assets']\n",
    "\n",
    "for i in data_calc_win.keys():\n",
    "    data_calc_win[i].columns = columns_list\n"
   ]
  },
  {
   "cell_type": "code",
   "execution_count": 5,
   "id": "6c7cdf42",
   "metadata": {},
   "outputs": [],
   "source": [
    "\"\"\"\n",
    "Collecting all the variables we need into one dictionary\n",
    "\"\"\"\n",
    "\n",
    "main_dict = {}\n",
    "main_dict = data_calc_win.copy()\n",
    "\n",
    "for i in data_calc_win.keys():\n",
    "    main_dict[i].drop(columns=['Return', 'Excess Return', 'Book Equity', 'Book Leverage ratio'])\n",
    "    main_dict[i]['Backward beta'] = np.array(regress_calc[i]['Beta'])\n",
    "    main_dict[i]['Forward beta'] = np.array(regress_calc_for[i]['Beta'])\n",
    "    main_dict[i]['Invers tier 1 ratio'] = 1 / main_dict[i]['Tier 1 ratio']\n",
    "    main_dict[i]['Invers tier 1 ratio/RWA'] = 1 / main_dict[i]['Tier 1/RWA']"
   ]
  },
  {
   "cell_type": "code",
   "execution_count": 6,
   "id": "09527a7b",
   "metadata": {},
   "outputs": [],
   "source": [
    "\"\"\"\n",
    "To remove inf values in the inverse variables\n",
    "\"\"\"\n",
    "#for invers Tier 1 ratio\n",
    "for i in main_dict.keys():\n",
    "    for j in range(len(main_dict[i].index)):\n",
    "        if m.isinf(main_dict[i].iloc[j,-2])==True:\n",
    "            main_dict[i].iloc[j,-2] = np.nan\n",
    "        else:\n",
    "            pass\n",
    "        \n",
    "#for invers tier 1/RWA ratio\n",
    "for i in main_dict.keys():\n",
    "    for j in range(len(main_dict[i].index)):\n",
    "        if m.isinf(main_dict[i].iloc[j,-1])==True:\n",
    "            main_dict[i].iloc[j,-1] = np.nan\n",
    "        else:\n",
    "            pass"
   ]
  },
  {
   "cell_type": "code",
   "execution_count": 7,
   "id": "036d5eea",
   "metadata": {},
   "outputs": [],
   "source": [
    "\"\"\"\n",
    "We create a dictionary with all the data minus the first 12 rows because we are regressing with backward beta\n",
    "\"\"\"\n",
    "main_dict_back = {}\n",
    "main_dict_back = main_dict.copy()\n",
    "\n",
    "for i in main_dict_back.keys():\n",
    "    main_dict_back[i].reset_index(inplace=True)\n",
    "    main_dict_back[i] = main_dict_back[i].drop([0,1,2,3,4,5,6,7,8,9,10,11])"
   ]
  },
  {
   "cell_type": "code",
   "execution_count": 9,
   "id": "68744695",
   "metadata": {},
   "outputs": [],
   "source": [
    "\"\"\"\n",
    "We bring all data together in one dataframe and drop all the columns we shall not use\n",
    "\"\"\"\n",
    "\n",
    "all_data_back = pd.concat([main_dict_back[i] for i in main_dict_back.keys()])\n",
    "all_data_back.drop(all_data_back.iloc[:,:12], inplace = True, axis = 1)\n",
    "all_data_back.drop(columns='Forward beta', inplace=True)"
   ]
  },
  {
   "cell_type": "code",
   "execution_count": 10,
   "id": "d6722f2c",
   "metadata": {},
   "outputs": [
    {
     "name": "stdout",
     "output_type": "stream",
     "text": [
      "59664\n",
      "59664\n"
     ]
    }
   ],
   "source": [
    "#Check no of rows\n",
    "print(len(main_dict_back.keys())*len(main_dict_back[i]))\n",
    "print(len(all_data_back))"
   ]
  },
  {
   "cell_type": "markdown",
   "id": "ef6553d1",
   "metadata": {},
   "source": [
    "### Invers Tier 1 ratio"
   ]
  },
  {
   "cell_type": "code",
   "execution_count": 11,
   "id": "b321dec7",
   "metadata": {},
   "outputs": [],
   "source": [
    "\"\"\"\n",
    "We want the same amount of observations for forward beta and invers tier 1 ratio\n",
    "\"\"\"\n",
    "all_data_back_nan = all_data_back.copy()\n",
    "all_data_back_nan = all_data_back_nan[~all_data_back_nan.iloc[:,:2].isna().any(axis=1)] #we remove all the observations where we miss a value"
   ]
  },
  {
   "cell_type": "code",
   "execution_count": 12,
   "id": "a09e5c5d",
   "metadata": {},
   "outputs": [
    {
     "name": "stdout",
     "output_type": "stream",
     "text": [
      "0\n",
      "27609\n",
      "0\n",
      "21666\n"
     ]
    }
   ],
   "source": [
    "# to check whether we still have nan values in our dataset \n",
    "print(np.isnan(all_data_back_nan.iloc[:,1]).sum())\n",
    "print(np.isnan(all_data_back.iloc[:,1]).sum())\n",
    "print(np.isnan(all_data_back_nan.iloc[:,0]).sum())\n",
    "print(np.isnan(all_data_back.iloc[:,0]).sum())"
   ]
  },
  {
   "cell_type": "code",
   "execution_count": 13,
   "id": "c9e071cc",
   "metadata": {},
   "outputs": [],
   "source": [
    "\"\"\"\n",
    "Invers TIER 1 ratio\n",
    "Removal of all the data where inverse tier 1 ratio is above 99% quatile\n",
    "\"\"\"\n",
    "#define outler\n",
    "outlier = all_data_back_nan['Invers tier 1 ratio'].quantile(0.99)\n",
    "#remove outliers from data with mask\n",
    "all_data_back_nan = all_data_back_nan[all_data_back_nan.iloc[:,1] <= outlier]"
   ]
  },
  {
   "cell_type": "markdown",
   "id": "71bd688c",
   "metadata": {},
   "source": [
    "### Invers Tier 1 / Risk weighted assets ratio"
   ]
  },
  {
   "cell_type": "code",
   "execution_count": 14,
   "id": "ebbfaf8a",
   "metadata": {},
   "outputs": [],
   "source": [
    "\"\"\"\n",
    "We want the same amount of observations for forward beta and invers tier 1/ RWA ratio\n",
    "\"\"\"\n",
    "all_data_back_nan_RWA = all_data_back.copy()\n",
    "all_data_back_nan_RWA = all_data_back_nan_RWA.drop(columns=['Invers tier 1 ratio'])\n",
    "all_data_back_nan_RWA = all_data_back_nan_RWA[~all_data_back_nan_RWA.iloc[:,:2].isna().any(axis=1)] #we remove all the observations where we miss a value"
   ]
  },
  {
   "cell_type": "code",
   "execution_count": 15,
   "id": "e18d6b89",
   "metadata": {},
   "outputs": [
    {
     "name": "stdout",
     "output_type": "stream",
     "text": [
      "0\n",
      "31155\n",
      "0\n",
      "21666\n"
     ]
    }
   ],
   "source": [
    "# to check whether we still have nan values in our dataset \n",
    "print(np.isnan(all_data_back_nan_RWA.iloc[:,1]).sum())\n",
    "print(np.isnan(all_data_back.iloc[:,2]).sum()) # 2 because we have all three variables in this dataframe\n",
    "print(np.isnan(all_data_back_nan_RWA.iloc[:,0]).sum())\n",
    "print(np.isnan(all_data_back.iloc[:,0]).sum())"
   ]
  },
  {
   "cell_type": "code",
   "execution_count": 16,
   "id": "a2ab8e8d",
   "metadata": {},
   "outputs": [],
   "source": [
    "\"\"\"\n",
    "Invers TIER 1/RWA ratio\n",
    "Removal of all the data where inverse TIER 1/RWA ratio is above 99% quatile\n",
    "\"\"\"\n",
    "#define outler\n",
    "outlier = all_data_back_nan_RWA['Invers tier 1 ratio/RWA'].quantile(0.99)\n",
    "#remove outliers from data with mask\n",
    "all_data_back_nan_RWA = all_data_back_nan_RWA[all_data_back_nan_RWA.iloc[:,1] <= outlier]"
   ]
  },
  {
   "cell_type": "markdown",
   "id": "a0d20256",
   "metadata": {},
   "source": [
    "## Regression - Forward beta (tabel 4 Baker & Wurgler)"
   ]
  },
  {
   "cell_type": "code",
   "execution_count": 17,
   "id": "3c29f737",
   "metadata": {},
   "outputs": [],
   "source": [
    "\"\"\"\n",
    "We regress backward beta on Invers tier 1 ratio and store the results in a tabel\n",
    "\"\"\"\n",
    "descriptive18 = pd.DataFrame()\n",
    "\n",
    "Y = all_data_back_nan['Backward beta'].astype('float64')\n",
    "X = all_data_back_nan['Invers tier 1 ratio'].astype('float64').to_numpy().reshape(-1,1)\n",
    "\n",
    "lm = LinearRegression(fit_intercept=False)\n",
    "lm.fit(X,Y)\n",
    "params = np.append(lm.intercept_,lm.coef_)\n",
    "predictions = lm.predict(X)\n",
    "\n",
    "newX = pd.DataFrame({\"Constant\":np.ones(len(X))}).join(pd.DataFrame(X))\n",
    "MSE = (sum((Y-predictions)**2))/(len(newX)-len(newX.columns))\n",
    "\n",
    "var_b = MSE*(np.linalg.inv(np.dot(newX.T,newX)).diagonal())\n",
    "sd_b = np.sqrt(var_b)\n",
    "ts_b = params/ sd_b\n",
    "r_squared = lm.score(X,Y)\n",
    "\n",
    "p_values =[2*(1-stats.t.cdf(np.abs(i),(len(newX)-len(newX.columns)-1))) for i in ts_b]\n",
    "\n",
    "sd_b = np.round(sd_b,3)\n",
    "ts_b = np.round(ts_b,3)\n",
    "p_values = np.round(p_values,4)\n",
    "params = np.round(params,4)\n",
    "\n",
    "descriptive18.loc['Slope', 'Invers tier 1 ratio'] = '{:,.03f}'.format(params[1])\n",
    "descriptive18.loc['Slope p-value', 'Invers tier 1 ratio'] = '{:,.03f}'.format(p_values[1])\n"
   ]
  },
  {
   "cell_type": "code",
   "execution_count": 18,
   "id": "2ef27096",
   "metadata": {},
   "outputs": [],
   "source": [
    "\"\"\"\n",
    "We regress forward beta on Invers tier 1/RWA ratio and store the results in a tabel\n",
    "\"\"\"\n",
    "\n",
    "Y = all_data_back_nan_RWA['Backward beta'].astype('float64')\n",
    "X = all_data_back_nan_RWA['Invers tier 1 ratio/RWA'].astype('float64').to_numpy().reshape(-1,1)\n",
    "\n",
    "lm = LinearRegression(fit_intercept=False)\n",
    "lm.fit(X,Y)\n",
    "params = np.append(lm.intercept_,lm.coef_)\n",
    "predictions = lm.predict(X)\n",
    "\n",
    "newX = pd.DataFrame({\"Constant\":np.ones(len(X))}).join(pd.DataFrame(X))\n",
    "MSE = (sum((Y-predictions)**2))/(len(newX)-len(newX.columns))\n",
    "\n",
    "var_b = MSE*(np.linalg.inv(np.dot(newX.T,newX)).diagonal())\n",
    "sd_b = np.sqrt(var_b)\n",
    "ts_b = params/ sd_b\n",
    "r_squared = lm.score(X,Y)\n",
    "\n",
    "p_values =[2*(1-stats.t.cdf(np.abs(i),(len(newX)-len(newX.columns)-1))) for i in ts_b]\n",
    "\n",
    "sd_b = np.round(sd_b,3)\n",
    "ts_b = np.round(ts_b,3)\n",
    "p_values = np.round(p_values,4)\n",
    "params = np.round(params,4)\n",
    "\n",
    "descriptive18.loc['Slope', 'Invers tier 1/RWA ratio'] = '{:,.03f}'.format(params[1])\n",
    "descriptive18.loc['Slope p-value', 'Invers tier 1/RWA ratio'] = '{:,.03f}'.format(p_values[1])\n"
   ]
  },
  {
   "cell_type": "code",
   "execution_count": 19,
   "id": "926b3711",
   "metadata": {},
   "outputs": [
    {
     "data": {
      "text/html": [
       "<div>\n",
       "<style scoped>\n",
       "    .dataframe tbody tr th:only-of-type {\n",
       "        vertical-align: middle;\n",
       "    }\n",
       "\n",
       "    .dataframe tbody tr th {\n",
       "        vertical-align: top;\n",
       "    }\n",
       "\n",
       "    .dataframe thead th {\n",
       "        text-align: right;\n",
       "    }\n",
       "</style>\n",
       "<table border=\"1\" class=\"dataframe\">\n",
       "  <thead>\n",
       "    <tr style=\"text-align: right;\">\n",
       "      <th></th>\n",
       "      <th>Invers tier 1 ratio</th>\n",
       "      <th>Invers tier 1/RWA ratio</th>\n",
       "    </tr>\n",
       "  </thead>\n",
       "  <tbody>\n",
       "    <tr>\n",
       "      <th>Slope</th>\n",
       "      <td>0.043</td>\n",
       "      <td>0.088</td>\n",
       "    </tr>\n",
       "    <tr>\n",
       "      <th>Slope p-value</th>\n",
       "      <td>0.000</td>\n",
       "      <td>0.000</td>\n",
       "    </tr>\n",
       "    <tr>\n",
       "      <th>Observations</th>\n",
       "      <td>30,070</td>\n",
       "      <td>26,771</td>\n",
       "    </tr>\n",
       "  </tbody>\n",
       "</table>\n",
       "</div>"
      ],
      "text/plain": [
       "              Invers tier 1 ratio Invers tier 1/RWA ratio\n",
       "Slope                       0.043                   0.088\n",
       "Slope p-value               0.000                   0.000\n",
       "Observations               30,070                  26,771"
      ]
     },
     "execution_count": 19,
     "metadata": {},
     "output_type": "execute_result"
    }
   ],
   "source": [
    "descriptive18.loc['Observations', 'Invers tier 1/RWA ratio'] = '{:,.0f}'.format(len(all_data_back_nan_RWA['Invers tier 1 ratio/RWA']))\n",
    "descriptive18.loc['Observations', 'Invers tier 1 ratio'] = '{:,.0f}'.format(len(all_data_back_nan['Invers tier 1 ratio']))\n",
    "descriptive18"
   ]
  },
  {
   "cell_type": "markdown",
   "id": "10b5074f",
   "metadata": {},
   "source": [
    "### Extra regression check"
   ]
  },
  {
   "cell_type": "code",
   "execution_count": 20,
   "id": "2ca9d411",
   "metadata": {},
   "outputs": [
    {
     "name": "stdout",
     "output_type": "stream",
     "text": [
      "                                 OLS Regression Results                                \n",
      "=======================================================================================\n",
      "Dep. Variable:                      y   R-squared (uncentered):                   0.523\n",
      "Model:                            OLS   Adj. R-squared (uncentered):              0.523\n",
      "Method:                 Least Squares   F-statistic:                          3.297e+04\n",
      "Date:                Tue, 03 May 2022   Prob (F-statistic):                        0.00\n",
      "Time:                        11:11:14   Log-Likelihood:                         -36447.\n",
      "No. Observations:               30058   AIC:                                  7.290e+04\n",
      "Df Residuals:                   30057   BIC:                                  7.291e+04\n",
      "Df Model:                           1                                                  \n",
      "Covariance Type:            nonrobust                                                  \n",
      "==============================================================================\n",
      "                 coef    std err          t      P>|t|      [0.025      0.975]\n",
      "------------------------------------------------------------------------------\n",
      "x1             0.0432      0.000    181.590      0.000       0.043       0.044\n",
      "==============================================================================\n",
      "Omnibus:                     3555.249   Durbin-Watson:                   0.078\n",
      "Prob(Omnibus):                  0.000   Jarque-Bera (JB):             7127.122\n",
      "Skew:                           0.754   Prob(JB):                         0.00\n",
      "Kurtosis:                       4.848   Cond. No.                         1.00\n",
      "==============================================================================\n",
      "\n",
      "Notes:\n",
      "[1] R² is computed without centering (uncentered) since the model does not contain a constant.\n",
      "[2] Standard Errors assume that the covariance matrix of the errors is correctly specified.\n"
     ]
    }
   ],
   "source": [
    "\"\"\"\n",
    "An extra regression is performed to check the results from previous technique and to obtain r2\n",
    "\"\"\"\n",
    "\n",
    "Y = all_data_back_nan['Backward beta'].iloc[:-12].tolist()\n",
    "X = all_data_back_nan['Invers tier 1 ratio'].iloc[:-12].tolist() \n",
    "#X2 = sm.add_constant(X)\n",
    "result = sm.OLS(Y, X).fit()\n",
    "print(result.summary())"
   ]
  },
  {
   "cell_type": "code",
   "execution_count": 21,
   "id": "53e63774",
   "metadata": {},
   "outputs": [],
   "source": [
    "descriptive18.loc['R-squared', 'Invers tier 1 ratio'] = '{:,.03f}'.format(result.rsquared) #save r2 "
   ]
  },
  {
   "cell_type": "code",
   "execution_count": 22,
   "id": "5ebd042b",
   "metadata": {},
   "outputs": [],
   "source": [
    "y_pred = result.predict(np.arange(1, 40)) #save the predicted values to the grahp"
   ]
  },
  {
   "cell_type": "code",
   "execution_count": 23,
   "id": "a493b34d",
   "metadata": {},
   "outputs": [],
   "source": [
    "slope = result.params[0] #save the slope to the graph"
   ]
  },
  {
   "cell_type": "code",
   "execution_count": 24,
   "id": "e7acda68",
   "metadata": {},
   "outputs": [
    {
     "name": "stdout",
     "output_type": "stream",
     "text": [
      "                                 OLS Regression Results                                \n",
      "=======================================================================================\n",
      "Dep. Variable:                      y   R-squared (uncentered):                   0.468\n",
      "Model:                            OLS   Adj. R-squared (uncentered):              0.468\n",
      "Method:                 Least Squares   F-statistic:                          2.355e+04\n",
      "Date:                Tue, 03 May 2022   Prob (F-statistic):                        0.00\n",
      "Time:                        11:11:15   Log-Likelihood:                         -34829.\n",
      "No. Observations:               26759   AIC:                                  6.966e+04\n",
      "Df Residuals:                   26758   BIC:                                  6.967e+04\n",
      "Df Model:                           1                                                  \n",
      "Covariance Type:            nonrobust                                                  \n",
      "==============================================================================\n",
      "                 coef    std err          t      P>|t|      [0.025      0.975]\n",
      "------------------------------------------------------------------------------\n",
      "x1             0.0884      0.001    153.458      0.000       0.087       0.090\n",
      "==============================================================================\n",
      "Omnibus:                     2549.438   Durbin-Watson:                   0.074\n",
      "Prob(Omnibus):                  0.000   Jarque-Bera (JB):             3573.907\n",
      "Skew:                           0.766   Prob(JB):                         0.00\n",
      "Kurtosis:                       3.927   Cond. No.                         1.00\n",
      "==============================================================================\n",
      "\n",
      "Notes:\n",
      "[1] R² is computed without centering (uncentered) since the model does not contain a constant.\n",
      "[2] Standard Errors assume that the covariance matrix of the errors is correctly specified.\n"
     ]
    }
   ],
   "source": [
    "\"\"\"\n",
    "An extra regression is performed to check the results from previous technique and to obtain r2\n",
    "\"\"\"\n",
    "Y = all_data_back_nan_RWA['Backward beta'].iloc[:-12].tolist()\n",
    "X = all_data_back_nan_RWA['Invers tier 1 ratio/RWA'].iloc[:-12].tolist() \n",
    "X2 = sm.add_constant(X)\n",
    "result = sm.OLS(Y, X).fit()\n",
    "print(result.summary())"
   ]
  },
  {
   "cell_type": "code",
   "execution_count": 25,
   "id": "c49680cb",
   "metadata": {},
   "outputs": [],
   "source": [
    "descriptive18.loc['R-squared', 'Invers tier 1/RWA ratio'] = '{:,.03f}'.format(result.rsquared) #save r2 "
   ]
  },
  {
   "cell_type": "markdown",
   "id": "0870bd77",
   "metadata": {},
   "source": [
    "## Kernel regression\n",
    "Important it is necessary to run section 1 and 2 before running this section "
   ]
  },
  {
   "cell_type": "code",
   "execution_count": 26,
   "id": "94d5bddb",
   "metadata": {},
   "outputs": [],
   "source": [
    "'''Class for Epanechnikov Kernel Regression'''\n",
    "class EKR:\n",
    "    \n",
    "    def __init__(self, x, y, b):\n",
    "        self.x = np.array(x)\n",
    "        self.y = np.array(y)\n",
    "        self.b = b\n",
    "        \n",
    "    '''Implement the Epanechnikov Kernel'''\n",
    "    def epanechnikov_kernel(self, z):\n",
    "        if np.linalg.norm(z) > 1:\n",
    "            return 0\n",
    "        else:\n",
    "            return (0.75*(1-np.power(z,2)))\n",
    "    \n",
    "    '''Calculate weights and return prediction'''\n",
    "    def predict(self, X):\n",
    "            kernels = np.array([self.epanechnikov_kernel((np.linalg.norm(xi-X))/self.b) for xi in self.x])\n",
    "            weights = np.array([(kernel/np.sum(kernels)) for kernel in kernels])\n",
    "            return np.dot(weights.T, self.y)"
   ]
  },
  {
   "cell_type": "code",
   "execution_count": 27,
   "id": "fc75a5df",
   "metadata": {},
   "outputs": [],
   "source": [
    "\"\"\"\n",
    "Applying Epanechnikov Kernel Regression on data\n",
    "\"\"\"\n",
    "\n",
    "x = all_data_back_nan.iloc[:,1] #x variable \n",
    "y = all_data_back_nan.iloc[:,0] #y variable\n",
    "b = 2 #smoothing interval\n",
    "\n",
    "KR = EKR(x=x, y=y, b=b)\n",
    "\n",
    "pred = [KR.predict(xi) for xi in np.arange(1, 40)]"
   ]
  },
  {
   "cell_type": "code",
   "execution_count": 28,
   "id": "b5dea155",
   "metadata": {},
   "outputs": [],
   "source": [
    "\"\"\"\n",
    "We create an numpy array with our linear predicted values in order to plot the linear relationship between backward beta and tier 1 ratio\n",
    "\"\"\"\n",
    "x1 = np.arange(1, 40)\n",
    "y1 = y_pred\n",
    "lin_plot = np.stack((x1, y1), axis=1)"
   ]
  },
  {
   "cell_type": "code",
   "execution_count": 29,
   "id": "c68ac742",
   "metadata": {},
   "outputs": [
    {
     "data": {
      "image/png": "[encoded data removed]",
      "text/plain": [
       "<Figure size 1152x720 with 1 Axes>"
      ]
     },
     "metadata": {
      "needs_background": "light"
     },
     "output_type": "display_data"
    }
   ],
   "source": [
    "\"\"\"\n",
    "Plotting the results\n",
    "\"\"\"\n",
    "fig, ax = plt.subplots(1, 1,figsize=(16,10))\n",
    "ax.plot(np.arange(39), pred, color='blue', label='kernel regression', linestyle='--')\n",
    "ax.plot(lin_plot[:,0], lin_plot[:,1], color='black', label='linear regression')\n",
    "ax.set_ylabel('Backward Beta')\n",
    "ax.set_xlabel('Invers Tier 1 ratio')\n",
    "ax.set_title('Invers Tier 1 ratio regressions')\n",
    "ax.legend();"
   ]
  },
  {
   "cell_type": "markdown",
   "id": "feb12c07",
   "metadata": {},
   "source": [
    "## Shorted time periode"
   ]
  },
  {
   "cell_type": "code",
   "execution_count": 30,
   "id": "6252741a",
   "metadata": {},
   "outputs": [],
   "source": [
    "\"\"\"\n",
    "We create a dictionary with all the values but we short the time periode to be equvialent to Baker and Wurgler\n",
    "\"\"\"\n",
    "\n",
    "shorted_data = {}\n",
    "\n",
    "for i in main_dict_back.keys():\n",
    "    shorted_data[i] = main_dict_back[i].copy()\n",
    "    shorted_data[i].drop(inplace = True, axis =0, labels=range(144,264)) #number 144 is included in the data still. It is equivalent to 2010-12-24\n",
    "    "
   ]
  },
  {
   "cell_type": "code",
   "execution_count": 31,
   "id": "9e972133",
   "metadata": {},
   "outputs": [],
   "source": [
    "\"\"\"\n",
    "We bring all data together in one dataframe and drop all the columns we shall not use\n",
    "\"\"\"\n",
    "\n",
    "shorted_data_back = pd.concat([shorted_data[i] for i in shorted_data.keys()])\n",
    "shorted_data_back.drop(shorted_data_back.iloc[:,:12], inplace = True, axis = 1)\n",
    "shorted_data_back.drop(columns='Forward beta', inplace=True)"
   ]
  },
  {
   "cell_type": "code",
   "execution_count": 32,
   "id": "3a5cdadd",
   "metadata": {},
   "outputs": [
    {
     "name": "stdout",
     "output_type": "stream",
     "text": [
      "32544\n",
      "32544\n"
     ]
    }
   ],
   "source": [
    "#Check no of rows\n",
    "print(len(shorted_data.keys())*len(shorted_data[i]))\n",
    "print(len(shorted_data_back))"
   ]
  },
  {
   "cell_type": "markdown",
   "id": "dbd8a4a2",
   "metadata": {},
   "source": [
    "### Invers tier 1 ratio - shorted time periode"
   ]
  },
  {
   "cell_type": "code",
   "execution_count": 33,
   "id": "529316b4",
   "metadata": {},
   "outputs": [],
   "source": [
    "\"\"\"\n",
    "We want the same amount of observations for backward beta and invers tier 1 ratio\n",
    "\"\"\"\n",
    "shorted_data_back_nan = shorted_data_back.copy()\n",
    "shorted_data_back_nan = shorted_data_back_nan[~shorted_data_back_nan.iloc[:,:2].isna().any(axis=1)] #we remove all the observations where we miss a value"
   ]
  },
  {
   "cell_type": "code",
   "execution_count": 35,
   "id": "fa44ff04",
   "metadata": {},
   "outputs": [
    {
     "name": "stdout",
     "output_type": "stream",
     "text": [
      "0\n",
      "0\n"
     ]
    }
   ],
   "source": [
    "# to check whether we still have nan values in our dataset \n",
    "print(np.isnan(shorted_data_back_nan['Invers tier 1 ratio']).sum())\n",
    "print(np.isnan(shorted_data_back_nan['Backward beta']).sum())"
   ]
  },
  {
   "cell_type": "code",
   "execution_count": 36,
   "id": "04d64efd",
   "metadata": {},
   "outputs": [
    {
     "data": {
      "text/html": [
       "<div>\n",
       "<style scoped>\n",
       "    .dataframe tbody tr th:only-of-type {\n",
       "        vertical-align: middle;\n",
       "    }\n",
       "\n",
       "    .dataframe tbody tr th {\n",
       "        vertical-align: top;\n",
       "    }\n",
       "\n",
       "    .dataframe thead th {\n",
       "        text-align: right;\n",
       "    }\n",
       "</style>\n",
       "<table border=\"1\" class=\"dataframe\">\n",
       "  <thead>\n",
       "    <tr style=\"text-align: right;\">\n",
       "      <th></th>\n",
       "      <th>Backward beta</th>\n",
       "      <th>Invers tier 1 ratio</th>\n",
       "      <th>Invers tier 1 ratio/RWA</th>\n",
       "    </tr>\n",
       "  </thead>\n",
       "  <tbody>\n",
       "    <tr>\n",
       "      <th>count</th>\n",
       "      <td>16352.000000</td>\n",
       "      <td>16352.000000</td>\n",
       "      <td>13381.000000</td>\n",
       "    </tr>\n",
       "    <tr>\n",
       "      <th>mean</th>\n",
       "      <td>0.742463</td>\n",
       "      <td>76.446983</td>\n",
       "      <td>22.923257</td>\n",
       "    </tr>\n",
       "    <tr>\n",
       "      <th>std</th>\n",
       "      <td>0.719355</td>\n",
       "      <td>1083.179767</td>\n",
       "      <td>395.029207</td>\n",
       "    </tr>\n",
       "    <tr>\n",
       "      <th>min</th>\n",
       "      <td>-1.694996</td>\n",
       "      <td>1.561017</td>\n",
       "      <td>1.001307</td>\n",
       "    </tr>\n",
       "    <tr>\n",
       "      <th>50%</th>\n",
       "      <td>0.622584</td>\n",
       "      <td>18.072646</td>\n",
       "      <td>11.276489</td>\n",
       "    </tr>\n",
       "    <tr>\n",
       "      <th>99%</th>\n",
       "      <td>2.756326</td>\n",
       "      <td>70.629278</td>\n",
       "      <td>19.476437</td>\n",
       "    </tr>\n",
       "    <tr>\n",
       "      <th>max</th>\n",
       "      <td>5.118782</td>\n",
       "      <td>32905.384615</td>\n",
       "      <td>13206.615385</td>\n",
       "    </tr>\n",
       "  </tbody>\n",
       "</table>\n",
       "</div>"
      ],
      "text/plain": [
       "       Backward beta  Invers tier 1 ratio  Invers tier 1 ratio/RWA\n",
       "count   16352.000000         16352.000000             13381.000000\n",
       "mean        0.742463            76.446983                22.923257\n",
       "std         0.719355          1083.179767               395.029207\n",
       "min        -1.694996             1.561017                 1.001307\n",
       "50%         0.622584            18.072646                11.276489\n",
       "99%         2.756326            70.629278                19.476437\n",
       "max         5.118782         32905.384615             13206.615385"
      ]
     },
     "execution_count": 36,
     "metadata": {},
     "output_type": "execute_result"
    }
   ],
   "source": [
    "shorted_data_back_nan.describe(percentiles = [0.99])"
   ]
  },
  {
   "cell_type": "code",
   "execution_count": 37,
   "id": "f81c640d",
   "metadata": {},
   "outputs": [],
   "source": [
    "\"\"\"\n",
    "Invers TIER 1 ratio\n",
    "We use the same outlier value as with the Invers Tier 1 ratio calculation with full dataset \n",
    "\"\"\"\n",
    "#define outler\n",
    "outlier = all_data_back['Invers tier 1 ratio'].quantile(0.99)\n",
    "#remove outliers from data with mask\n",
    "shorted_data_back_nan = shorted_data_back_nan[shorted_data_back_nan.iloc[:,1] <= outlier]"
   ]
  },
  {
   "cell_type": "markdown",
   "id": "507c437f",
   "metadata": {},
   "source": [
    "### Regression"
   ]
  },
  {
   "cell_type": "code",
   "execution_count": 38,
   "id": "a494ccb5",
   "metadata": {},
   "outputs": [],
   "source": [
    "\"\"\"\n",
    "We regress backward beta on Invers tier 1 ratio and store the results in a tabel (SHORTED TIME PERIOD)\n",
    "\"\"\"\n",
    "\n",
    "Y = shorted_data_back_nan['Backward beta'].astype('float64')\n",
    "X = shorted_data_back_nan['Invers tier 1 ratio'].astype('float64').to_numpy().reshape(-1,1)\n",
    "\n",
    "lm = LinearRegression(fit_intercept=False)\n",
    "lm.fit(X,Y)\n",
    "params = np.append(lm.intercept_,lm.coef_)\n",
    "predictions = lm.predict(X)\n",
    "\n",
    "newX = pd.DataFrame({\"Constant\":np.ones(len(X))}).join(pd.DataFrame(X))\n",
    "MSE = (sum((Y-predictions)**2))/(len(newX)-len(newX.columns))\n",
    "\n",
    "var_b = MSE*(np.linalg.inv(np.dot(newX.T,newX)).diagonal())\n",
    "sd_b = np.sqrt(var_b)\n",
    "ts_b = params/ sd_b\n",
    "r_squared = lm.score(X,Y)\n",
    "\n",
    "p_values =[2*(1-stats.t.cdf(np.abs(i),(len(newX)-len(newX.columns)-1))) for i in ts_b]\n",
    "\n",
    "sd_b = np.round(sd_b,3)\n",
    "ts_b = np.round(ts_b,3)\n",
    "p_values = np.round(p_values,4)\n",
    "params = np.round(params,4)\n",
    "\n",
    "descriptive18.loc['Slope', 'Invers tier 1 ratio (shorted time period)'] = '{:,.03f}'.format(params[1])\n",
    "descriptive18.loc['Slope p-value', 'Invers tier 1 ratio (shorted time period)'] = '{:,.03f}'.format(p_values[1])"
   ]
  },
  {
   "cell_type": "code",
   "execution_count": 39,
   "id": "6970135d",
   "metadata": {},
   "outputs": [],
   "source": [
    "\"\"\"\n",
    "We add numbers of observations and print the tabel\n",
    "\"\"\"\n",
    "descriptive18.loc['Observations', 'Invers tier 1 ratio (shorted time period)'] = '{:,.0f}'.format(len(shorted_data_back_nan['Invers tier 1 ratio']))\n"
   ]
  },
  {
   "cell_type": "markdown",
   "id": "4c0096f1",
   "metadata": {},
   "source": [
    "### Extra regression test"
   ]
  },
  {
   "cell_type": "code",
   "execution_count": 40,
   "id": "8c8f0fa1",
   "metadata": {},
   "outputs": [
    {
     "name": "stdout",
     "output_type": "stream",
     "text": [
      "                                 OLS Regression Results                                \n",
      "=======================================================================================\n",
      "Dep. Variable:                      y   R-squared (uncentered):                   0.525\n",
      "Model:                            OLS   Adj. R-squared (uncentered):              0.525\n",
      "Method:                 Least Squares   F-statistic:                          1.781e+04\n",
      "Date:                Tue, 03 May 2022   Prob (F-statistic):                        0.00\n",
      "Time:                        11:11:43   Log-Likelihood:                         -17414.\n",
      "No. Observations:               16136   AIC:                                  3.483e+04\n",
      "Df Residuals:                   16135   BIC:                                  3.484e+04\n",
      "Df Model:                           1                                                  \n",
      "Covariance Type:            nonrobust                                                  \n",
      "==============================================================================\n",
      "                 coef    std err          t      P>|t|      [0.025      0.975]\n",
      "------------------------------------------------------------------------------\n",
      "x1             0.0354      0.000    133.465      0.000       0.035       0.036\n",
      "==============================================================================\n",
      "Omnibus:                     1484.640   Durbin-Watson:                   0.081\n",
      "Prob(Omnibus):                  0.000   Jarque-Bera (JB):             2267.426\n",
      "Skew:                           0.704   Prob(JB):                         0.00\n",
      "Kurtosis:                       4.180   Cond. No.                         1.00\n",
      "==============================================================================\n",
      "\n",
      "Notes:\n",
      "[1] R² is computed without centering (uncentered) since the model does not contain a constant.\n",
      "[2] Standard Errors assume that the covariance matrix of the errors is correctly specified.\n"
     ]
    }
   ],
   "source": [
    "\"\"\"\n",
    "An extra regression is performed to check the results from previous technique and to obtain r2\n",
    "\"\"\"\n",
    "Y = shorted_data_back_nan['Backward beta'].iloc[12:].tolist()\n",
    "X = shorted_data_back_nan['Invers tier 1 ratio'].iloc[12:].tolist() \n",
    "#X2 = sm.add_constant(X)\n",
    "result = sm.OLS(Y, X).fit()\n",
    "print(result.summary())"
   ]
  },
  {
   "cell_type": "code",
   "execution_count": 41,
   "id": "6124df87",
   "metadata": {},
   "outputs": [
    {
     "data": {
      "text/html": [
       "<div>\n",
       "<style scoped>\n",
       "    .dataframe tbody tr th:only-of-type {\n",
       "        vertical-align: middle;\n",
       "    }\n",
       "\n",
       "    .dataframe tbody tr th {\n",
       "        vertical-align: top;\n",
       "    }\n",
       "\n",
       "    .dataframe thead th {\n",
       "        text-align: right;\n",
       "    }\n",
       "</style>\n",
       "<table border=\"1\" class=\"dataframe\">\n",
       "  <thead>\n",
       "    <tr style=\"text-align: right;\">\n",
       "      <th></th>\n",
       "      <th>Invers tier 1 ratio</th>\n",
       "      <th>Invers tier 1/RWA ratio</th>\n",
       "      <th>Invers tier 1 ratio (shorted time period)</th>\n",
       "    </tr>\n",
       "  </thead>\n",
       "  <tbody>\n",
       "    <tr>\n",
       "      <th>Slope</th>\n",
       "      <td>0.043</td>\n",
       "      <td>0.088</td>\n",
       "      <td>0.035</td>\n",
       "    </tr>\n",
       "    <tr>\n",
       "      <th>Slope p-value</th>\n",
       "      <td>0.000</td>\n",
       "      <td>0.000</td>\n",
       "      <td>0.000</td>\n",
       "    </tr>\n",
       "    <tr>\n",
       "      <th>Observations</th>\n",
       "      <td>30,070</td>\n",
       "      <td>26,771</td>\n",
       "      <td>16,148</td>\n",
       "    </tr>\n",
       "    <tr>\n",
       "      <th>R-squared</th>\n",
       "      <td>0.523</td>\n",
       "      <td>0.468</td>\n",
       "      <td>0.525</td>\n",
       "    </tr>\n",
       "  </tbody>\n",
       "</table>\n",
       "</div>"
      ],
      "text/plain": [
       "              Invers tier 1 ratio Invers tier 1/RWA ratio  \\\n",
       "Slope                       0.043                   0.088   \n",
       "Slope p-value               0.000                   0.000   \n",
       "Observations               30,070                  26,771   \n",
       "R-squared                   0.523                   0.468   \n",
       "\n",
       "              Invers tier 1 ratio (shorted time period)  \n",
       "Slope                                             0.035  \n",
       "Slope p-value                                     0.000  \n",
       "Observations                                     16,148  \n",
       "R-squared                                         0.525  "
      ]
     },
     "execution_count": 41,
     "metadata": {},
     "output_type": "execute_result"
    }
   ],
   "source": [
    "descriptive18.loc['R-squared', 'Invers tier 1 ratio (shorted time period)'] = '{:,.03f}'.format(result.rsquared) #save r2\n",
    "descriptive18"
   ]
  }
 ],
 "metadata": {
  "hide_input": false,
  "kernelspec": {
   "display_name": "Python 3",
   "language": "python",
   "name": "python3"
  },
  "language_info": {
   "codemirror_mode": {
    "name": "ipython",
    "version": 3
   },
   "file_extension": ".py",
   "mimetype": "text/x-python",
   "name": "python",
   "nbconvert_exporter": "python",
   "pygments_lexer": "ipython3",
   "version": "3.8.2"
  },
  "latex_envs": {
   "LaTeX_envs_menu_present": true,
   "autoclose": false,
   "autocomplete": true,
   "bibliofile": "biblio.bib",
   "cite_by": "apalike",
   "current_citInitial": 1,
   "eqLabelWithNumbers": true,
   "eqNumInitial": 1,
   "hotkeys": {
    "equation": "Ctrl-E",
    "itemize": "Ctrl-I"
   },
   "labels_anchors": false,
   "latex_user_defs": false,
   "report_style_numbering": false,
   "user_envs_cfg": false
  },
  "toc": {
   "base_numbering": 1,
   "nav_menu": {},
   "number_sections": true,
   "sideBar": true,
   "skip_h1_title": false,
   "title_cell": "Table of Contents",
   "title_sidebar": "Contents",
   "toc_cell": true,
   "toc_position": {
    "height": "calc(100% - 180px)",
    "left": "10px",
    "top": "150px",
    "width": "316.691162109375px"
   },
   "toc_section_display": true,
   "toc_window_display": true
  }
 },
 "nbformat": 4,
 "nbformat_minor": 5
}
